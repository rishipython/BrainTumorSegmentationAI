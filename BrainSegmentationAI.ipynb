{
  "nbformat": 4,
  "nbformat_minor": 0,
  "metadata": {
    "colab": {
      "name": "BrainSegmentationAI.ipynb",
      "provenance": [],
      "collapsed_sections": [
        "TP3cumMZX5bj",
        "A2Mn9BLoYIpq",
        "_Rwia7yVcbWb",
        "pgzBsTHubkAC",
        "gvFnYj5ABijC",
        "YuAz37587Ope",
        "WnX-DPgLnX8q"
      ],
      "toc_visible": true,
      "machine_shape": "hm",
      "include_colab_link": true
    },
    "kernelspec": {
      "name": "python3",
      "display_name": "Python 3"
    },
    "accelerator": "GPU"
  },
  "cells": [
    {
      "cell_type": "markdown",
      "metadata": {
        "id": "view-in-github",
        "colab_type": "text"
      },
      "source": [
        "<a href=\"https://colab.research.google.com/github/rishipython/BrainTumorSegmentationAI/blob/main/BrainSegmentationAI.ipynb\" target=\"_parent\"><img src=\"https://colab.research.google.com/assets/colab-badge.svg\" alt=\"Open In Colab\"/></a>"
      ]
    },
    {
      "cell_type": "code",
      "metadata": {
        "id": "hSlIrC8sSyga"
      },
      "source": [
        "import keras\r\n",
        "from keras import backend as K\r\n",
        "from keras.engine import Input, Model\r\n",
        "from keras.layers import Conv2D, MaxPooling2D, UpSampling2D, Activation, BatchNormalization, PReLU, Dropout, Conv2DTranspose\r\n",
        "from keras.optimizers import Adam\r\n",
        "from keras.layers.merge import concatenate\r\n",
        "from keras.utils import to_categorical\r\n",
        "import numpy as np\r\n",
        "import nibabel as nib\r\n",
        "import os\r\n",
        "import tarfile as trf\r\n",
        "from sklearn.model_selection import train_test_split\r\n",
        "import matplotlib.pyplot as plt\r\n",
        "import pandas as pd\r\n",
        "import pickle\r\n",
        "from sklearn.metrics import roc_auc_score, roc_curve, auc\r\n",
        "from IPython.display import display\r\n",
        "K.set_image_data_format(\"channels_last\")"
      ],
      "execution_count": 433,
      "outputs": []
    },
    {
      "cell_type": "code",
      "metadata": {
        "colab": {
          "base_uri": "https://localhost:8080/"
        },
        "id": "TGu0_wyQYkPI",
        "outputId": "cbe41909-991e-4a80-8eac-44fb2a477f31"
      },
      "source": [
        "# Access GPU\n",
        "gpu_info = !nvidia-smi\n",
        "gpu_info = '\\n'.join(gpu_info)\n",
        "if gpu_info.find('failed') >= 0:\n",
        "  print('Select the Runtime > \"Change runtime type\" menu to enable a GPU accelerator, ')\n",
        "  print('and then re-execute this cell.')\n",
        "else:\n",
        "  print(gpu_info)"
      ],
      "execution_count": 2,
      "outputs": [
        {
          "output_type": "stream",
          "text": [
            "Mon Jan 18 05:17:22 2021       \n",
            "+-----------------------------------------------------------------------------+\n",
            "| NVIDIA-SMI 460.27.04    Driver Version: 418.67       CUDA Version: 10.1     |\n",
            "|-------------------------------+----------------------+----------------------+\n",
            "| GPU  Name        Persistence-M| Bus-Id        Disp.A | Volatile Uncorr. ECC |\n",
            "| Fan  Temp  Perf  Pwr:Usage/Cap|         Memory-Usage | GPU-Util  Compute M. |\n",
            "|                               |                      |               MIG M. |\n",
            "|===============================+======================+======================|\n",
            "|   0  Tesla V100-SXM2...  Off  | 00000000:00:04.0 Off |                    0 |\n",
            "| N/A   32C    P0    24W / 300W |      0MiB / 16130MiB |      0%      Default |\n",
            "|                               |                      |                 ERR! |\n",
            "+-------------------------------+----------------------+----------------------+\n",
            "                                                                               \n",
            "+-----------------------------------------------------------------------------+\n",
            "| Processes:                                                                  |\n",
            "|  GPU   GI   CI        PID   Type   Process name                  GPU Memory |\n",
            "|        ID   ID                                                   Usage      |\n",
            "|=============================================================================|\n",
            "|  No running processes found                                                 |\n",
            "+-----------------------------------------------------------------------------+\n"
          ],
          "name": "stdout"
        }
      ]
    },
    {
      "cell_type": "code",
      "metadata": {
        "colab": {
          "base_uri": "https://localhost:8080/"
        },
        "id": "_bnxQbdLYsFi",
        "outputId": "63448c06-eb8e-482b-b5cd-11927d4cd61d"
      },
      "source": [
        "# Access more memory\n",
        "from psutil import virtual_memory\n",
        "ram_gb = virtual_memory().total / 1e9\n",
        "print('Your runtime has {:.1f} gigabytes of available RAM\\n'.format(ram_gb))\n",
        "\n",
        "if ram_gb < 20:\n",
        "  print('To enable a high-RAM runtime, select the Runtime > \"Change runtime type\"')\n",
        "  print('menu, and then select High-RAM in the Runtime shape dropdown. Then, ')\n",
        "  print('re-execute this cell.')\n",
        "else:\n",
        "  print('You are using a high-RAM runtime!')"
      ],
      "execution_count": 3,
      "outputs": [
        {
          "output_type": "stream",
          "text": [
            "Your runtime has 27.4 gigabytes of available RAM\n",
            "\n",
            "You are using a high-RAM runtime!\n"
          ],
          "name": "stdout"
        }
      ]
    },
    {
      "cell_type": "code",
      "metadata": {
        "colab": {
          "base_uri": "https://localhost:8080/"
        },
        "id": "g5uJIO2LbNXH",
        "outputId": "f55e8da8-8770-4d4f-e8a1-0136e4eb7dfc"
      },
      "source": [
        "# See if Tensorflow is using GPU\n",
        "%tensorflow_version 2.x\n",
        "import tensorflow as tf\n",
        "device_name = tf.test.gpu_device_name()\n",
        "if device_name != '/device:GPU:0':\n",
        "  raise SystemError('GPU device not found')\n",
        "print('Found GPU at: {}'.format(device_name))"
      ],
      "execution_count": 4,
      "outputs": [
        {
          "output_type": "stream",
          "text": [
            "Found GPU at: /device:GPU:0\n"
          ],
          "name": "stdout"
        }
      ]
    },
    {
      "cell_type": "markdown",
      "metadata": {
        "id": "TP3cumMZX5bj"
      },
      "source": [
        "# Model Construction"
      ]
    },
    {
      "cell_type": "code",
      "metadata": {
        "id": "nWpGroQJiqD0"
      },
      "source": [
        "def dice_coefficient(y_true, y_pred, epsilon=1e-6):\r\n",
        "  axes = tuple(range(1, len(y_pred.shape)-1)) \r\n",
        "  dice_numerator = 2. * K.sum(y_true * y_pred, axis=axes)\r\n",
        "  dice_denominator = K.sum(y_true + y_pred, axis=axes)\r\n",
        "  dice_coefficient = K.mean((dice_numerator + epsilon) / (dice_denominator + epsilon))\r\n",
        "  return dice_coefficient\r\n",
        "\r\n",
        "def soft_dice_loss(y_true, y_pred, epsilon=1e-6): \r\n",
        "    axes = tuple(range(1, len(y_pred.shape)-1)) \r\n",
        "    numerator = 2. * K.sum(y_pred * y_true, axes)\r\n",
        "    denominator = K.sum(K.square(y_pred) + K.square(y_true), axes)\r\n",
        "    return 1 - K.mean((numerator + epsilon) / (denominator + epsilon))"
      ],
      "execution_count": 5,
      "outputs": []
    },
    {
      "cell_type": "code",
      "metadata": {
        "colab": {
          "base_uri": "https://localhost:8080/",
          "height": 171
        },
        "id": "h4K6tzfdTgR6",
        "outputId": "6f164784-6c3d-46df-c0ca-ba3d30e7956e"
      },
      "source": [
        "'''\r\n",
        "def unet(depth, input_size=(240, 240, 4), num_conv_layers=2, loss_function='binary_crossentropy', metrics=['accuracy'], lr=1e-4, data_format='channels_last'):\r\n",
        "  if not isinstance(metrics, list):\r\n",
        "    metrics = [metrics]\r\n",
        "  layers = []\r\n",
        "  input_layer = Input(input_size)\r\n",
        "  layer = input_layer\r\n",
        "\r\n",
        "  for i in range(depth):\r\n",
        "    print(i)\r\n",
        "    block = []\r\n",
        "    for j in range(num_conv_layers):\r\n",
        "      layer = Conv2D(64 * (2**i), 3, activation = 'relu', padding = 'same', kernel_initializer = 'he_normal', data_format=data_format)(layer)\r\n",
        "    block.append(dc(layer))\r\n",
        "    if i >= depth-2:\r\n",
        "      layer = Dropout(0.5)(layer)\r\n",
        "      block.append(dc(layer))\r\n",
        "    print(i < depth-1)\r\n",
        "    if i < depth-1:\r\n",
        "      layer = MaxPooling2D(pool_size=(2, 2), data_format=data_format)(layer)\r\n",
        "      block.append(dc(layer))\r\n",
        "    layers.append(dc(block))\r\n",
        "  for i in range(depth-1):\r\n",
        "    block = []\r\n",
        "    layer = Conv2D((64*pow(2, depth-1))/(2**(i+1)), 2, activation = 'relu', padding = 'same', kernel_initializer = 'he_normal', data_format=data_format)(UpSampling2D(size = (2,2))(layer))\r\n",
        "    block.append(layer)\r\n",
        "    down_block = layers[depth-2-i]\r\n",
        "    if len(down_block) == 3:\r\n",
        "      down_layer = down_block[1]\r\n",
        "    else:\r\n",
        "      down_layer = down_block[0]\r\n",
        "    layer = concatenate([down_layer,layer], axis = 3)\r\n",
        "    block.append(layer)\r\n",
        "    for j in range(num_conv_layers):\r\n",
        "      layer = Conv2D((64*pow(2, depth-1))/(2**(i+1)), 3, activation = 'relu', padding = 'same', kernel_initializer = 'he_normal', data_format=data_format)(layer)\r\n",
        "    block.append(layer)\r\n",
        "    layers.append(block)\r\n",
        "  layer = Conv2D(2, 3, activation = 'relu', padding = 'same', kernel_initializer = 'he_normal', data_format=data_format)(layer)\r\n",
        "  layer = Conv2D(1, 1, activation = 'sigmoid', data_format=data_format)(layer)\r\n",
        "\r\n",
        "  model = Model(inputs=input_layer, outputs=layer)\r\n",
        "  model.compile(optimizer = Adam(lr = lr), loss = loss_function, metrics = metrics)\r\n",
        "  return model\r\n",
        "'''"
      ],
      "execution_count": 6,
      "outputs": [
        {
          "output_type": "execute_result",
          "data": {
            "application/vnd.google.colaboratory.intrinsic+json": {
              "type": "string"
            },
            "text/plain": [
              "\"\\ndef unet(depth, input_size=(240, 240, 4), num_conv_layers=2, loss_function='binary_crossentropy', metrics=['accuracy'], lr=1e-4, data_format='channels_last'):\\n  if not isinstance(metrics, list):\\n    metrics = [metrics]\\n  layers = []\\n  input_layer = Input(input_size)\\n  layer = input_layer\\n\\n  for i in range(depth):\\n    print(i)\\n    block = []\\n    for j in range(num_conv_layers):\\n      layer = Conv2D(64 * (2**i), 3, activation = 'relu', padding = 'same', kernel_initializer = 'he_normal', data_format=data_format)(layer)\\n    block.append(dc(layer))\\n    if i >= depth-2:\\n      layer = Dropout(0.5)(layer)\\n      block.append(dc(layer))\\n    print(i < depth-1)\\n    if i < depth-1:\\n      layer = MaxPooling2D(pool_size=(2, 2), data_format=data_format)(layer)\\n      block.append(dc(layer))\\n    layers.append(dc(block))\\n  for i in range(depth-1):\\n    block = []\\n    layer = Conv2D((64*pow(2, depth-1))/(2**(i+1)), 2, activation = 'relu', padding = 'same', kernel_initializer = 'he_normal', data_format=data_format)(UpSampling2D(size = (2,2))(layer))\\n    block.append(layer)\\n    down_block = layers[depth-2-i]\\n    if len(down_block) == 3:\\n      down_layer = down_block[1]\\n    else:\\n      down_layer = down_block[0]\\n    layer = concatenate([down_layer,layer], axis = 3)\\n    block.append(layer)\\n    for j in range(num_conv_layers):\\n      layer = Conv2D((64*pow(2, depth-1))/(2**(i+1)), 3, activation = 'relu', padding = 'same', kernel_initializer = 'he_normal', data_format=data_format)(layer)\\n    block.append(layer)\\n    layers.append(block)\\n  layer = Conv2D(2, 3, activation = 'relu', padding = 'same', kernel_initializer = 'he_normal', data_format=data_format)(layer)\\n  layer = Conv2D(1, 1, activation = 'sigmoid', data_format=data_format)(layer)\\n\\n  model = Model(inputs=input_layer, outputs=layer)\\n  model.compile(optimizer = Adam(lr = lr), loss = loss_function, metrics = metrics)\\n  return model\\n\""
            ]
          },
          "metadata": {
            "tags": []
          },
          "execution_count": 6
        }
      ]
    },
    {
      "cell_type": "code",
      "metadata": {
        "id": "RisoruOhOcCI"
      },
      "source": [
        "def unet(depth, n_labels=1, final_activation='sigmoid', input_size=(240, 240, 4), num_conv_layers=2, loss_function=soft_dice_loss, metrics=dice_coefficient, lr=1e-4, data_format='channels_last'):\r\n",
        "  if not isinstance(metrics, list):\r\n",
        "    metrics = [metrics]\r\n",
        "  layers = []\r\n",
        "\r\n",
        "  # Input\r\n",
        "  input_layer = Input(input_size)\r\n",
        "  layers.append([input_layer])\r\n",
        "\r\n",
        "  for b in range(depth-2):\r\n",
        "    block = []\r\n",
        "    conv = [layers[-1][-1]]\r\n",
        "    num_filters = 64 * (2**b)\r\n",
        "    for i in range(num_conv_layers):\r\n",
        "      conv.append(Conv2D(num_filters, 3, activation = 'relu', padding = 'same', kernel_initializer = 'he_normal', data_format=data_format)(conv[-1]))\r\n",
        "    block.append(conv[-1])\r\n",
        "    block.append(MaxPooling2D(pool_size=(2, 2), data_format=data_format)(block[-1]))\r\n",
        "    layers.append(block)\r\n",
        "\r\n",
        "  b = depth-2\r\n",
        "  block4 = []\r\n",
        "  conv = [layers[-1][-1]]\r\n",
        "  num_filters = 64 * (2**b)\r\n",
        "  for i in range(num_conv_layers):\r\n",
        "    conv.append(Conv2D(num_filters, 3, activation = 'relu', padding = 'same', kernel_initializer = 'he_normal', data_format=data_format)(conv[-1]))\r\n",
        "  block4.append(conv[-1])\r\n",
        "  block4.append(Dropout(0.5)(block4[-1]))\r\n",
        "  block4.append(MaxPooling2D(pool_size=(2, 2), data_format=data_format)(block4[-1]))\r\n",
        "  layers.append(block4)\r\n",
        "\r\n",
        "  b = depth-1\r\n",
        "  block5 = []\r\n",
        "  conv = [layers[-1][-1]]\r\n",
        "  num_filters = 64 * (2**b)\r\n",
        "  for i in range(num_conv_layers):\r\n",
        "    conv.append(Conv2D(num_filters, 3, activation = 'relu', padding = 'same', kernel_initializer = 'he_normal', data_format=data_format)(conv[-1]))\r\n",
        "  block5.append(conv[-1])\r\n",
        "  block5.append(Dropout(0.5)(block5[-1]))\r\n",
        "  layers.append(block5)\r\n",
        "\r\n",
        "\r\n",
        "  for b in range(depth-2):\r\n",
        "    block = [layers[-1][-1]]\r\n",
        "    num_filters = (64 * (2**(depth-2-b)))\r\n",
        "    block.append(Conv2D(num_filters, 2, activation = 'relu', padding = 'same', kernel_initializer = 'he_normal', data_format=data_format)(UpSampling2D(size = (2,2), data_format=data_format)(block[-1])))\r\n",
        "    if b == 0:\r\n",
        "      down_layer = 1\r\n",
        "    else:\r\n",
        "      down_layer = 0\r\n",
        "    block.append(concatenate([layers[depth-1-b][down_layer],block[-1]], axis = 3))\r\n",
        "    conv = [block[-1]]\r\n",
        "    for i in range(num_conv_layers):\r\n",
        "      conv.append(Conv2D(num_filters, 3, activation = 'relu', padding = 'same', kernel_initializer = 'he_normal', data_format=data_format)(conv[-1]))\r\n",
        "    block.append(conv[-1])\r\n",
        "    layers.append(block)\r\n",
        "\r\n",
        "  b = depth-2\r\n",
        "  block = [layers[-1][-1]]\r\n",
        "  num_filters = (64 * (2**(depth-2-b)))\r\n",
        "  block.append(Conv2D(num_filters, 2, activation = 'relu', padding = 'same', kernel_initializer = 'he_normal', data_format=data_format)(UpSampling2D(size = (2,2), data_format=data_format)(block[-1])))\r\n",
        "  block.append(concatenate([layers[1][0], block[-1]], axis = 3))\r\n",
        "  conv = [block[-1]]\r\n",
        "  for i in range(num_conv_layers):\r\n",
        "    conv.append(Conv2D(num_filters, 3, activation = 'relu', padding = 'same', kernel_initializer = 'he_normal', data_format=data_format)(conv[-1]))\r\n",
        "  conv.append(Conv2D(2, 3, activation = 'relu', padding = 'same', kernel_initializer = 'he_normal', data_format=data_format)(conv[-1]))\r\n",
        "  block.append(conv[-1])\r\n",
        "  layers.append(block)\r\n",
        "\r\n",
        "  output_layer = Conv2D(n_labels, 1, activation = 'sigmoid', data_format=data_format)(layers[-1][-1])\r\n",
        "  layers.append([output_layer])\r\n",
        "\r\n",
        "  model = Model(inputs=input_layer, outputs=output_layer)\r\n",
        "  model.compile(optimizer = Adam(lr = lr), loss = loss_function, metrics = metrics)\r\n",
        "\r\n",
        "  return model"
      ],
      "execution_count": 331,
      "outputs": []
    },
    {
      "cell_type": "code",
      "metadata": {
        "colab": {
          "base_uri": "https://localhost:8080/",
          "height": 52
        },
        "id": "xOydRjm4gVV4",
        "outputId": "432d00ed-5780-405c-c64a-6822c8ae4a84"
      },
      "source": [
        "# Test unet function\r\n",
        "'''\r\n",
        "model = unet(5, n_labels=4)\r\n",
        "x = np.ones((240, 240, 4))\r\n",
        "x = np.expand_dims(x, axis=0)\r\n",
        "y = np.ones((240, 240, 4))\r\n",
        "y = np.expand_dims(y, axis=0)\r\n",
        "history = model.fit(x=x, y=y, epochs=10)\r\n",
        "'''"
      ],
      "execution_count": 8,
      "outputs": [
        {
          "output_type": "execute_result",
          "data": {
            "application/vnd.google.colaboratory.intrinsic+json": {
              "type": "string"
            },
            "text/plain": [
              "'\\nmodel = unet(5, n_labels=4)\\nx = np.ones((240, 240, 4))\\nx = np.expand_dims(x, axis=0)\\ny = np.ones((240, 240, 4))\\ny = np.expand_dims(y, axis=0)\\nhistory = model.fit(x=x, y=y, epochs=10)\\n'"
            ]
          },
          "metadata": {
            "tags": []
          },
          "execution_count": 8
        }
      ]
    },
    {
      "cell_type": "markdown",
      "metadata": {
        "id": "A2Mn9BLoYIpq"
      },
      "source": [
        "# Data Preprocessing"
      ]
    },
    {
      "cell_type": "code",
      "metadata": {
        "id": "ed5cKU-bkNK2"
      },
      "source": [
        "def configurePath(path, dir=\"Dataset/Task01_BrainTumour/\"):\r\n",
        "  return dir + path[2:]"
      ],
      "execution_count": 9,
      "outputs": []
    },
    {
      "cell_type": "code",
      "metadata": {
        "id": "ey0XB2aInjec"
      },
      "source": [
        "# Data and dataset\r\n",
        "data = { \r\n",
        "\"name\": \"BRATS\", \r\n",
        "\"description\": \"Gliomas segmentation tumour and oedema in on brain images\",\r\n",
        "\"reference\": \"https://www.med.upenn.edu/sbia/brats2017.html\",\r\n",
        "\"licence\":\"CC-BY-SA 4.0\",\r\n",
        "\"release\":\"2.0 04/05/2018\",\r\n",
        "\"tensorImageSize\": \"4D\",\r\n",
        "\"modality\": { \r\n",
        "\t \"0\": \"FLAIR\", \r\n",
        "\t \"1\": \"T1w\", \r\n",
        "\t \"2\": \"t1gd\",\r\n",
        "\t \"3\": \"T2w\"\r\n",
        " },  \r\n",
        " \"labels\": { \r\n",
        "\t \"0\": \"background\", \r\n",
        "\t \"1\": \"edema\",\r\n",
        "\t \"2\": \"non-enhancing tumor\",\r\n",
        "\t \"3\": \"enhancing tumour\"\r\n",
        " }, \r\n",
        " \"numTraining\": 484, \r\n",
        " \"numTest\": 266,\r\n",
        " \"training\":[{\"image\":\"./imagesTr/BRATS_457.nii.gz\",\"label\":\"./labelsTr/BRATS_457.nii.gz\"},{\"image\":\"./imagesTr/BRATS_306.nii.gz\",\"label\":\"./labelsTr/BRATS_306.nii.gz\"},{\"image\":\"./imagesTr/BRATS_206.nii.gz\",\"label\":\"./labelsTr/BRATS_206.nii.gz\"},{\"image\":\"./imagesTr/BRATS_449.nii.gz\",\"label\":\"./labelsTr/BRATS_449.nii.gz\"},{\"image\":\"./imagesTr/BRATS_318.nii.gz\",\"label\":\"./labelsTr/BRATS_318.nii.gz\"},{\"image\":\"./imagesTr/BRATS_218.nii.gz\",\"label\":\"./labelsTr/BRATS_218.nii.gz\"},{\"image\":\"./imagesTr/BRATS_434.nii.gz\",\"label\":\"./labelsTr/BRATS_434.nii.gz\"},{\"image\":\"./imagesTr/BRATS_365.nii.gz\",\"label\":\"./labelsTr/BRATS_365.nii.gz\"},{\"image\":\"./imagesTr/BRATS_265.nii.gz\",\"label\":\"./labelsTr/BRATS_265.nii.gz\"},{\"image\":\"./imagesTr/BRATS_214.nii.gz\",\"label\":\"./labelsTr/BRATS_214.nii.gz\"},{\"image\":\"./imagesTr/BRATS_314.nii.gz\",\"label\":\"./labelsTr/BRATS_314.nii.gz\"},{\"image\":\"./imagesTr/BRATS_445.nii.gz\",\"label\":\"./labelsTr/BRATS_445.nii.gz\"},{\"image\":\"./imagesTr/BRATS_269.nii.gz\",\"label\":\"./labelsTr/BRATS_269.nii.gz\"},{\"image\":\"./imagesTr/BRATS_369.nii.gz\",\"label\":\"./labelsTr/BRATS_369.nii.gz\"},{\"image\":\"./imagesTr/BRATS_438.nii.gz\",\"label\":\"./labelsTr/BRATS_438.nii.gz\"},{\"image\":\"./imagesTr/BRATS_277.nii.gz\",\"label\":\"./labelsTr/BRATS_277.nii.gz\"},{\"image\":\"./imagesTr/BRATS_377.nii.gz\",\"label\":\"./labelsTr/BRATS_377.nii.gz\"},{\"image\":\"./imagesTr/BRATS_426.nii.gz\",\"label\":\"./labelsTr/BRATS_426.nii.gz\"},{\"image\":\"./imagesTr/BRATS_095.nii.gz\",\"label\":\"./labelsTr/BRATS_095.nii.gz\"},{\"image\":\"./imagesTr/BRATS_222.nii.gz\",\"label\":\"./labelsTr/BRATS_222.nii.gz\"},{\"image\":\"./imagesTr/BRATS_195.nii.gz\",\"label\":\"./labelsTr/BRATS_195.nii.gz\"},{\"image\":\"./imagesTr/BRATS_473.nii.gz\",\"label\":\"./labelsTr/BRATS_473.nii.gz\"},{\"image\":\"./imagesTr/BRATS_322.nii.gz\",\"label\":\"./labelsTr/BRATS_322.nii.gz\"},{\"image\":\"./imagesTr/BRATS_241.nii.gz\",\"label\":\"./labelsTr/BRATS_241.nii.gz\"},{\"image\":\"./imagesTr/BRATS_410.nii.gz\",\"label\":\"./labelsTr/BRATS_410.nii.gz\"},{\"image\":\"./imagesTr/BRATS_341.nii.gz\",\"label\":\"./labelsTr/BRATS_341.nii.gz\"},{\"image\":\"./imagesTr/BRATS_330.nii.gz\",\"label\":\"./labelsTr/BRATS_330.nii.gz\"},{\"image\":\"./imagesTr/BRATS_461.nii.gz\",\"label\":\"./labelsTr/BRATS_461.nii.gz\"},{\"image\":\"./imagesTr/BRATS_187.nii.gz\",\"label\":\"./labelsTr/BRATS_187.nii.gz\"},{\"image\":\"./imagesTr/BRATS_230.nii.gz\",\"label\":\"./labelsTr/BRATS_230.nii.gz\"},{\"image\":\"./imagesTr/BRATS_087.nii.gz\",\"label\":\"./labelsTr/BRATS_087.nii.gz\"},{\"image\":\"./imagesTr/BRATS_199.nii.gz\",\"label\":\"./labelsTr/BRATS_199.nii.gz\"},{\"image\":\"./imagesTr/BRATS_099.nii.gz\",\"label\":\"./labelsTr/BRATS_099.nii.gz\"},{\"image\":\"./imagesTr/BRATS_353.nii.gz\",\"label\":\"./labelsTr/BRATS_353.nii.gz\"},{\"image\":\"./imagesTr/BRATS_402.nii.gz\",\"label\":\"./labelsTr/BRATS_402.nii.gz\"},{\"image\":\"./imagesTr/BRATS_253.nii.gz\",\"label\":\"./labelsTr/BRATS_253.nii.gz\"},{\"image\":\"./imagesTr/BRATS_384.nii.gz\",\"label\":\"./labelsTr/BRATS_384.nii.gz\"},{\"image\":\"./imagesTr/BRATS_133.nii.gz\",\"label\":\"./labelsTr/BRATS_133.nii.gz\"},{\"image\":\"./imagesTr/BRATS_284.nii.gz\",\"label\":\"./labelsTr/BRATS_284.nii.gz\"},{\"image\":\"./imagesTr/BRATS_033.nii.gz\",\"label\":\"./labelsTr/BRATS_033.nii.gz\"},{\"image\":\"./imagesTr/BRATS_150.nii.gz\",\"label\":\"./labelsTr/BRATS_150.nii.gz\"},{\"image\":\"./imagesTr/BRATS_050.nii.gz\",\"label\":\"./labelsTr/BRATS_050.nii.gz\"},{\"image\":\"./imagesTr/BRATS_021.nii.gz\",\"label\":\"./labelsTr/BRATS_021.nii.gz\"},{\"image\":\"./imagesTr/BRATS_296.nii.gz\",\"label\":\"./labelsTr/BRATS_296.nii.gz\"},{\"image\":\"./imagesTr/BRATS_121.nii.gz\",\"label\":\"./labelsTr/BRATS_121.nii.gz\"},{\"image\":\"./imagesTr/BRATS_396.nii.gz\",\"label\":\"./labelsTr/BRATS_396.nii.gz\"},{\"image\":\"./imagesTr/BRATS_288.nii.gz\",\"label\":\"./labelsTr/BRATS_288.nii.gz\"},{\"image\":\"./imagesTr/BRATS_388.nii.gz\",\"label\":\"./labelsTr/BRATS_388.nii.gz\"},{\"image\":\"./imagesTr/BRATS_042.nii.gz\",\"label\":\"./labelsTr/BRATS_042.nii.gz\"},{\"image\":\"./imagesTr/BRATS_142.nii.gz\",\"label\":\"./labelsTr/BRATS_142.nii.gz\"},{\"image\":\"./imagesTr/BRATS_017.nii.gz\",\"label\":\"./labelsTr/BRATS_017.nii.gz\"},{\"image\":\"./imagesTr/BRATS_117.nii.gz\",\"label\":\"./labelsTr/BRATS_117.nii.gz\"},{\"image\":\"./imagesTr/BRATS_009.nii.gz\",\"label\":\"./labelsTr/BRATS_009.nii.gz\"},{\"image\":\"./imagesTr/BRATS_109.nii.gz\",\"label\":\"./labelsTr/BRATS_109.nii.gz\"},{\"image\":\"./imagesTr/BRATS_074.nii.gz\",\"label\":\"./labelsTr/BRATS_074.nii.gz\"},{\"image\":\"./imagesTr/BRATS_174.nii.gz\",\"label\":\"./labelsTr/BRATS_174.nii.gz\"},{\"image\":\"./imagesTr/BRATS_105.nii.gz\",\"label\":\"./labelsTr/BRATS_105.nii.gz\"},{\"image\":\"./imagesTr/BRATS_005.nii.gz\",\"label\":\"./labelsTr/BRATS_005.nii.gz\"},{\"image\":\"./imagesTr/BRATS_178.nii.gz\",\"label\":\"./labelsTr/BRATS_178.nii.gz\"},{\"image\":\"./imagesTr/BRATS_078.nii.gz\",\"label\":\"./labelsTr/BRATS_078.nii.gz\"},{\"image\":\"./imagesTr/BRATS_480.nii.gz\",\"label\":\"./labelsTr/BRATS_480.nii.gz\"},{\"image\":\"./imagesTr/BRATS_166.nii.gz\",\"label\":\"./labelsTr/BRATS_166.nii.gz\"},{\"image\":\"./imagesTr/BRATS_066.nii.gz\",\"label\":\"./labelsTr/BRATS_066.nii.gz\"},{\"image\":\"./imagesTr/BRATS_040.nii.gz\",\"label\":\"./labelsTr/BRATS_040.nii.gz\"},{\"image\":\"./imagesTr/BRATS_140.nii.gz\",\"label\":\"./labelsTr/BRATS_140.nii.gz\"},{\"image\":\"./imagesTr/BRATS_023.nii.gz\",\"label\":\"./labelsTr/BRATS_023.nii.gz\"},{\"image\":\"./imagesTr/BRATS_294.nii.gz\",\"label\":\"./labelsTr/BRATS_294.nii.gz\"},{\"image\":\"./imagesTr/BRATS_123.nii.gz\",\"label\":\"./labelsTr/BRATS_123.nii.gz\"},{\"image\":\"./imagesTr/BRATS_394.nii.gz\",\"label\":\"./labelsTr/BRATS_394.nii.gz\"},{\"image\":\"./imagesTr/BRATS_398.nii.gz\",\"label\":\"./labelsTr/BRATS_398.nii.gz\"},{\"image\":\"./imagesTr/BRATS_298.nii.gz\",\"label\":\"./labelsTr/BRATS_298.nii.gz\"},{\"image\":\"./imagesTr/BRATS_152.nii.gz\",\"label\":\"./labelsTr/BRATS_152.nii.gz\"},{\"image\":\"./imagesTr/BRATS_052.nii.gz\",\"label\":\"./labelsTr/BRATS_052.nii.gz\"},{\"image\":\"./imagesTr/BRATS_386.nii.gz\",\"label\":\"./labelsTr/BRATS_386.nii.gz\"},{\"image\":\"./imagesTr/BRATS_131.nii.gz\",\"label\":\"./labelsTr/BRATS_131.nii.gz\"},{\"image\":\"./imagesTr/BRATS_286.nii.gz\",\"label\":\"./labelsTr/BRATS_286.nii.gz\"},{\"image\":\"./imagesTr/BRATS_031.nii.gz\",\"label\":\"./labelsTr/BRATS_031.nii.gz\"},{\"image\":\"./imagesTr/BRATS_119.nii.gz\",\"label\":\"./labelsTr/BRATS_119.nii.gz\"},{\"image\":\"./imagesTr/BRATS_019.nii.gz\",\"label\":\"./labelsTr/BRATS_019.nii.gz\"},{\"image\":\"./imagesTr/BRATS_482.nii.gz\",\"label\":\"./labelsTr/BRATS_482.nii.gz\"},{\"image\":\"./imagesTr/BRATS_164.nii.gz\",\"label\":\"./labelsTr/BRATS_164.nii.gz\"},{\"image\":\"./imagesTr/BRATS_064.nii.gz\",\"label\":\"./labelsTr/BRATS_064.nii.gz\"},{\"image\":\"./imagesTr/BRATS_107.nii.gz\",\"label\":\"./labelsTr/BRATS_107.nii.gz\"},{\"image\":\"./imagesTr/BRATS_007.nii.gz\",\"label\":\"./labelsTr/BRATS_007.nii.gz\"},{\"image\":\"./imagesTr/BRATS_076.nii.gz\",\"label\":\"./labelsTr/BRATS_076.nii.gz\"},{\"image\":\"./imagesTr/BRATS_176.nii.gz\",\"label\":\"./labelsTr/BRATS_176.nii.gz\"},{\"image\":\"./imagesTr/BRATS_015.nii.gz\",\"label\":\"./labelsTr/BRATS_015.nii.gz\"},{\"image\":\"./imagesTr/BRATS_115.nii.gz\",\"label\":\"./labelsTr/BRATS_115.nii.gz\"},{\"image\":\"./imagesTr/BRATS_068.nii.gz\",\"label\":\"./labelsTr/BRATS_068.nii.gz\"},{\"image\":\"./imagesTr/BRATS_168.nii.gz\",\"label\":\"./labelsTr/BRATS_168.nii.gz\"},{\"image\":\"./imagesTr/BRATS_208.nii.gz\",\"label\":\"./labelsTr/BRATS_208.nii.gz\"},{\"image\":\"./imagesTr/BRATS_308.nii.gz\",\"label\":\"./labelsTr/BRATS_308.nii.gz\"},{\"image\":\"./imagesTr/BRATS_459.nii.gz\",\"label\":\"./labelsTr/BRATS_459.nii.gz\"},{\"image\":\"./imagesTr/BRATS_275.nii.gz\",\"label\":\"./labelsTr/BRATS_275.nii.gz\"},{\"image\":\"./imagesTr/BRATS_375.nii.gz\",\"label\":\"./labelsTr/BRATS_375.nii.gz\"},{\"image\":\"./imagesTr/BRATS_424.nii.gz\",\"label\":\"./labelsTr/BRATS_424.nii.gz\"},{\"image\":\"./imagesTr/BRATS_216.nii.gz\",\"label\":\"./labelsTr/BRATS_216.nii.gz\"},{\"image\":\"./imagesTr/BRATS_316.nii.gz\",\"label\":\"./labelsTr/BRATS_316.nii.gz\"},{\"image\":\"./imagesTr/BRATS_447.nii.gz\",\"label\":\"./labelsTr/BRATS_447.nii.gz\"},{\"image\":\"./imagesTr/BRATS_436.nii.gz\",\"label\":\"./labelsTr/BRATS_436.nii.gz\"},{\"image\":\"./imagesTr/BRATS_367.nii.gz\",\"label\":\"./labelsTr/BRATS_367.nii.gz\"},{\"image\":\"./imagesTr/BRATS_267.nii.gz\",\"label\":\"./labelsTr/BRATS_267.nii.gz\"},{\"image\":\"./imagesTr/BRATS_455.nii.gz\",\"label\":\"./labelsTr/BRATS_455.nii.gz\"},{\"image\":\"./imagesTr/BRATS_304.nii.gz\",\"label\":\"./labelsTr/BRATS_304.nii.gz\"},{\"image\":\"./imagesTr/BRATS_204.nii.gz\",\"label\":\"./labelsTr/BRATS_204.nii.gz\"},{\"image\":\"./imagesTr/BRATS_428.nii.gz\",\"label\":\"./labelsTr/BRATS_428.nii.gz\"},{\"image\":\"./imagesTr/BRATS_379.nii.gz\",\"label\":\"./labelsTr/BRATS_379.nii.gz\"},{\"image\":\"./imagesTr/BRATS_279.nii.gz\",\"label\":\"./labelsTr/BRATS_279.nii.gz\"},{\"image\":\"./imagesTr/BRATS_351.nii.gz\",\"label\":\"./labelsTr/BRATS_351.nii.gz\"},{\"image\":\"./imagesTr/BRATS_400.nii.gz\",\"label\":\"./labelsTr/BRATS_400.nii.gz\"},{\"image\":\"./imagesTr/BRATS_251.nii.gz\",\"label\":\"./labelsTr/BRATS_251.nii.gz\"},{\"image\":\"./imagesTr/BRATS_332.nii.gz\",\"label\":\"./labelsTr/BRATS_332.nii.gz\"},{\"image\":\"./imagesTr/BRATS_463.nii.gz\",\"label\":\"./labelsTr/BRATS_463.nii.gz\"},{\"image\":\"./imagesTr/BRATS_185.nii.gz\",\"label\":\"./labelsTr/BRATS_185.nii.gz\"},{\"image\":\"./imagesTr/BRATS_232.nii.gz\",\"label\":\"./labelsTr/BRATS_232.nii.gz\"},{\"image\":\"./imagesTr/BRATS_085.nii.gz\",\"label\":\"./labelsTr/BRATS_085.nii.gz\"},{\"image\":\"./imagesTr/BRATS_089.nii.gz\",\"label\":\"./labelsTr/BRATS_089.nii.gz\"},{\"image\":\"./imagesTr/BRATS_189.nii.gz\",\"label\":\"./labelsTr/BRATS_189.nii.gz\"},{\"image\":\"./imagesTr/BRATS_243.nii.gz\",\"label\":\"./labelsTr/BRATS_243.nii.gz\"},{\"image\":\"./imagesTr/BRATS_412.nii.gz\",\"label\":\"./labelsTr/BRATS_412.nii.gz\"},{\"image\":\"./imagesTr/BRATS_343.nii.gz\",\"label\":\"./labelsTr/BRATS_343.nii.gz\"},{\"image\":\"./imagesTr/BRATS_097.nii.gz\",\"label\":\"./labelsTr/BRATS_097.nii.gz\"},{\"image\":\"./imagesTr/BRATS_220.nii.gz\",\"label\":\"./labelsTr/BRATS_220.nii.gz\"},{\"image\":\"./imagesTr/BRATS_197.nii.gz\",\"label\":\"./labelsTr/BRATS_197.nii.gz\"},{\"image\":\"./imagesTr/BRATS_471.nii.gz\",\"label\":\"./labelsTr/BRATS_471.nii.gz\"},{\"image\":\"./imagesTr/BRATS_320.nii.gz\",\"label\":\"./labelsTr/BRATS_320.nii.gz\"},{\"image\":\"./imagesTr/BRATS_072.nii.gz\",\"label\":\"./labelsTr/BRATS_072.nii.gz\"},{\"image\":\"./imagesTr/BRATS_172.nii.gz\",\"label\":\"./labelsTr/BRATS_172.nii.gz\"},{\"image\":\"./imagesTr/BRATS_011.nii.gz\",\"label\":\"./labelsTr/BRATS_011.nii.gz\"},{\"image\":\"./imagesTr/BRATS_111.nii.gz\",\"label\":\"./labelsTr/BRATS_111.nii.gz\"},{\"image\":\"./imagesTr/BRATS_160.nii.gz\",\"label\":\"./labelsTr/BRATS_160.nii.gz\"},{\"image\":\"./imagesTr/BRATS_060.nii.gz\",\"label\":\"./labelsTr/BRATS_060.nii.gz\"},{\"image\":\"./imagesTr/BRATS_103.nii.gz\",\"label\":\"./labelsTr/BRATS_103.nii.gz\"},{\"image\":\"./imagesTr/BRATS_003.nii.gz\",\"label\":\"./labelsTr/BRATS_003.nii.gz\"},{\"image\":\"./imagesTr/BRATS_156.nii.gz\",\"label\":\"./labelsTr/BRATS_156.nii.gz\"},{\"image\":\"./imagesTr/BRATS_056.nii.gz\",\"label\":\"./labelsTr/BRATS_056.nii.gz\"},{\"image\":\"./imagesTr/BRATS_148.nii.gz\",\"label\":\"./labelsTr/BRATS_148.nii.gz\"},{\"image\":\"./imagesTr/BRATS_048.nii.gz\",\"label\":\"./labelsTr/BRATS_048.nii.gz\"},{\"image\":\"./imagesTr/BRATS_382.nii.gz\",\"label\":\"./labelsTr/BRATS_382.nii.gz\"},{\"image\":\"./imagesTr/BRATS_135.nii.gz\",\"label\":\"./labelsTr/BRATS_135.nii.gz\"},{\"image\":\"./imagesTr/BRATS_282.nii.gz\",\"label\":\"./labelsTr/BRATS_282.nii.gz\"},{\"image\":\"./imagesTr/BRATS_035.nii.gz\",\"label\":\"./labelsTr/BRATS_035.nii.gz\"},{\"image\":\"./imagesTr/BRATS_044.nii.gz\",\"label\":\"./labelsTr/BRATS_044.nii.gz\"},{\"image\":\"./imagesTr/BRATS_144.nii.gz\",\"label\":\"./labelsTr/BRATS_144.nii.gz\"},{\"image\":\"./imagesTr/BRATS_039.nii.gz\",\"label\":\"./labelsTr/BRATS_039.nii.gz\"},{\"image\":\"./imagesTr/BRATS_139.nii.gz\",\"label\":\"./labelsTr/BRATS_139.nii.gz\"},{\"image\":\"./imagesTr/BRATS_027.nii.gz\",\"label\":\"./labelsTr/BRATS_027.nii.gz\"},{\"image\":\"./imagesTr/BRATS_290.nii.gz\",\"label\":\"./labelsTr/BRATS_290.nii.gz\"},{\"image\":\"./imagesTr/BRATS_127.nii.gz\",\"label\":\"./labelsTr/BRATS_127.nii.gz\"},{\"image\":\"./imagesTr/BRATS_390.nii.gz\",\"label\":\"./labelsTr/BRATS_390.nii.gz\"},{\"image\":\"./imagesTr/BRATS_247.nii.gz\",\"label\":\"./labelsTr/BRATS_247.nii.gz\"},{\"image\":\"./imagesTr/BRATS_347.nii.gz\",\"label\":\"./labelsTr/BRATS_347.nii.gz\"},{\"image\":\"./imagesTr/BRATS_416.nii.gz\",\"label\":\"./labelsTr/BRATS_416.nii.gz\"},{\"image\":\"./imagesTr/BRATS_259.nii.gz\",\"label\":\"./labelsTr/BRATS_259.nii.gz\"},{\"image\":\"./imagesTr/BRATS_359.nii.gz\",\"label\":\"./labelsTr/BRATS_359.nii.gz\"},{\"image\":\"./imagesTr/BRATS_408.nii.gz\",\"label\":\"./labelsTr/BRATS_408.nii.gz\"},{\"image\":\"./imagesTr/BRATS_093.nii.gz\",\"label\":\"./labelsTr/BRATS_093.nii.gz\"},{\"image\":\"./imagesTr/BRATS_224.nii.gz\",\"label\":\"./labelsTr/BRATS_224.nii.gz\"},{\"image\":\"./imagesTr/BRATS_193.nii.gz\",\"label\":\"./labelsTr/BRATS_193.nii.gz\"},{\"image\":\"./imagesTr/BRATS_324.nii.gz\",\"label\":\"./labelsTr/BRATS_324.nii.gz\"},{\"image\":\"./imagesTr/BRATS_475.nii.gz\",\"label\":\"./labelsTr/BRATS_475.nii.gz\"},{\"image\":\"./imagesTr/BRATS_404.nii.gz\",\"label\":\"./labelsTr/BRATS_404.nii.gz\"},{\"image\":\"./imagesTr/BRATS_355.nii.gz\",\"label\":\"./labelsTr/BRATS_355.nii.gz\"},{\"image\":\"./imagesTr/BRATS_255.nii.gz\",\"label\":\"./labelsTr/BRATS_255.nii.gz\"},{\"image\":\"./imagesTr/BRATS_479.nii.gz\",\"label\":\"./labelsTr/BRATS_479.nii.gz\"},{\"image\":\"./imagesTr/BRATS_328.nii.gz\",\"label\":\"./labelsTr/BRATS_328.nii.gz\"},{\"image\":\"./imagesTr/BRATS_228.nii.gz\",\"label\":\"./labelsTr/BRATS_228.nii.gz\"},{\"image\":\"./imagesTr/BRATS_467.nii.gz\",\"label\":\"./labelsTr/BRATS_467.nii.gz\"},{\"image\":\"./imagesTr/BRATS_336.nii.gz\",\"label\":\"./labelsTr/BRATS_336.nii.gz\"},{\"image\":\"./imagesTr/BRATS_181.nii.gz\",\"label\":\"./labelsTr/BRATS_181.nii.gz\"},{\"image\":\"./imagesTr/BRATS_236.nii.gz\",\"label\":\"./labelsTr/BRATS_236.nii.gz\"},{\"image\":\"./imagesTr/BRATS_081.nii.gz\",\"label\":\"./labelsTr/BRATS_081.nii.gz\"},{\"image\":\"./imagesTr/BRATS_363.nii.gz\",\"label\":\"./labelsTr/BRATS_363.nii.gz\"},{\"image\":\"./imagesTr/BRATS_432.nii.gz\",\"label\":\"./labelsTr/BRATS_432.nii.gz\"},{\"image\":\"./imagesTr/BRATS_263.nii.gz\",\"label\":\"./labelsTr/BRATS_263.nii.gz\"},{\"image\":\"./imagesTr/BRATS_300.nii.gz\",\"label\":\"./labelsTr/BRATS_300.nii.gz\"},{\"image\":\"./imagesTr/BRATS_451.nii.gz\",\"label\":\"./labelsTr/BRATS_451.nii.gz\"},{\"image\":\"./imagesTr/BRATS_200.nii.gz\",\"label\":\"./labelsTr/BRATS_200.nii.gz\"},{\"image\":\"./imagesTr/BRATS_271.nii.gz\",\"label\":\"./labelsTr/BRATS_271.nii.gz\"},{\"image\":\"./imagesTr/BRATS_420.nii.gz\",\"label\":\"./labelsTr/BRATS_420.nii.gz\"},{\"image\":\"./imagesTr/BRATS_371.nii.gz\",\"label\":\"./labelsTr/BRATS_371.nii.gz\"},{\"image\":\"./imagesTr/BRATS_212.nii.gz\",\"label\":\"./labelsTr/BRATS_212.nii.gz\"},{\"image\":\"./imagesTr/BRATS_443.nii.gz\",\"label\":\"./labelsTr/BRATS_443.nii.gz\"},{\"image\":\"./imagesTr/BRATS_312.nii.gz\",\"label\":\"./labelsTr/BRATS_312.nii.gz\"},{\"image\":\"./imagesTr/BRATS_418.nii.gz\",\"label\":\"./labelsTr/BRATS_418.nii.gz\"},{\"image\":\"./imagesTr/BRATS_349.nii.gz\",\"label\":\"./labelsTr/BRATS_349.nii.gz\"},{\"image\":\"./imagesTr/BRATS_249.nii.gz\",\"label\":\"./labelsTr/BRATS_249.nii.gz\"},{\"image\":\"./imagesTr/BRATS_465.nii.gz\",\"label\":\"./labelsTr/BRATS_465.nii.gz\"},{\"image\":\"./imagesTr/BRATS_334.nii.gz\",\"label\":\"./labelsTr/BRATS_334.nii.gz\"},{\"image\":\"./imagesTr/BRATS_183.nii.gz\",\"label\":\"./labelsTr/BRATS_183.nii.gz\"},{\"image\":\"./imagesTr/BRATS_234.nii.gz\",\"label\":\"./labelsTr/BRATS_234.nii.gz\"},{\"image\":\"./imagesTr/BRATS_083.nii.gz\",\"label\":\"./labelsTr/BRATS_083.nii.gz\"},{\"image\":\"./imagesTr/BRATS_406.nii.gz\",\"label\":\"./labelsTr/BRATS_406.nii.gz\"},{\"image\":\"./imagesTr/BRATS_357.nii.gz\",\"label\":\"./labelsTr/BRATS_357.nii.gz\"},{\"image\":\"./imagesTr/BRATS_257.nii.gz\",\"label\":\"./labelsTr/BRATS_257.nii.gz\"},{\"image\":\"./imagesTr/BRATS_091.nii.gz\",\"label\":\"./labelsTr/BRATS_091.nii.gz\"},{\"image\":\"./imagesTr/BRATS_226.nii.gz\",\"label\":\"./labelsTr/BRATS_226.nii.gz\"},{\"image\":\"./imagesTr/BRATS_191.nii.gz\",\"label\":\"./labelsTr/BRATS_191.nii.gz\"},{\"image\":\"./imagesTr/BRATS_326.nii.gz\",\"label\":\"./labelsTr/BRATS_326.nii.gz\"},{\"image\":\"./imagesTr/BRATS_477.nii.gz\",\"label\":\"./labelsTr/BRATS_477.nii.gz\"},{\"image\":\"./imagesTr/BRATS_245.nii.gz\",\"label\":\"./labelsTr/BRATS_245.nii.gz\"},{\"image\":\"./imagesTr/BRATS_345.nii.gz\",\"label\":\"./labelsTr/BRATS_345.nii.gz\"},{\"image\":\"./imagesTr/BRATS_414.nii.gz\",\"label\":\"./labelsTr/BRATS_414.nii.gz\"},{\"image\":\"./imagesTr/BRATS_238.nii.gz\",\"label\":\"./labelsTr/BRATS_238.nii.gz\"},{\"image\":\"./imagesTr/BRATS_338.nii.gz\",\"label\":\"./labelsTr/BRATS_338.nii.gz\"},{\"image\":\"./imagesTr/BRATS_469.nii.gz\",\"label\":\"./labelsTr/BRATS_469.nii.gz\"},{\"image\":\"./imagesTr/BRATS_210.nii.gz\",\"label\":\"./labelsTr/BRATS_210.nii.gz\"},{\"image\":\"./imagesTr/BRATS_441.nii.gz\",\"label\":\"./labelsTr/BRATS_441.nii.gz\"},{\"image\":\"./imagesTr/BRATS_310.nii.gz\",\"label\":\"./labelsTr/BRATS_310.nii.gz\"},{\"image\":\"./imagesTr/BRATS_273.nii.gz\",\"label\":\"./labelsTr/BRATS_273.nii.gz\"},{\"image\":\"./imagesTr/BRATS_422.nii.gz\",\"label\":\"./labelsTr/BRATS_422.nii.gz\"},{\"image\":\"./imagesTr/BRATS_373.nii.gz\",\"label\":\"./labelsTr/BRATS_373.nii.gz\"},{\"image\":\"./imagesTr/BRATS_302.nii.gz\",\"label\":\"./labelsTr/BRATS_302.nii.gz\"},{\"image\":\"./imagesTr/BRATS_453.nii.gz\",\"label\":\"./labelsTr/BRATS_453.nii.gz\"},{\"image\":\"./imagesTr/BRATS_202.nii.gz\",\"label\":\"./labelsTr/BRATS_202.nii.gz\"},{\"image\":\"./imagesTr/BRATS_361.nii.gz\",\"label\":\"./labelsTr/BRATS_361.nii.gz\"},{\"image\":\"./imagesTr/BRATS_430.nii.gz\",\"label\":\"./labelsTr/BRATS_430.nii.gz\"},{\"image\":\"./imagesTr/BRATS_261.nii.gz\",\"label\":\"./labelsTr/BRATS_261.nii.gz\"},{\"image\":\"./imagesTr/BRATS_101.nii.gz\",\"label\":\"./labelsTr/BRATS_101.nii.gz\"},{\"image\":\"./imagesTr/BRATS_001.nii.gz\",\"label\":\"./labelsTr/BRATS_001.nii.gz\"},{\"image\":\"./imagesTr/BRATS_484.nii.gz\",\"label\":\"./labelsTr/BRATS_484.nii.gz\"},{\"image\":\"./imagesTr/BRATS_162.nii.gz\",\"label\":\"./labelsTr/BRATS_162.nii.gz\"},{\"image\":\"./imagesTr/BRATS_062.nii.gz\",\"label\":\"./labelsTr/BRATS_062.nii.gz\"},{\"image\":\"./imagesTr/BRATS_013.nii.gz\",\"label\":\"./labelsTr/BRATS_013.nii.gz\"},{\"image\":\"./imagesTr/BRATS_113.nii.gz\",\"label\":\"./labelsTr/BRATS_113.nii.gz\"},{\"image\":\"./imagesTr/BRATS_070.nii.gz\",\"label\":\"./labelsTr/BRATS_070.nii.gz\"},{\"image\":\"./imagesTr/BRATS_170.nii.gz\",\"label\":\"./labelsTr/BRATS_170.nii.gz\"},{\"image\":\"./imagesTr/BRATS_058.nii.gz\",\"label\":\"./labelsTr/BRATS_058.nii.gz\"},{\"image\":\"./imagesTr/BRATS_158.nii.gz\",\"label\":\"./labelsTr/BRATS_158.nii.gz\"},{\"image\":\"./imagesTr/BRATS_025.nii.gz\",\"label\":\"./labelsTr/BRATS_025.nii.gz\"},{\"image\":\"./imagesTr/BRATS_292.nii.gz\",\"label\":\"./labelsTr/BRATS_292.nii.gz\"},{\"image\":\"./imagesTr/BRATS_125.nii.gz\",\"label\":\"./labelsTr/BRATS_125.nii.gz\"},{\"image\":\"./imagesTr/BRATS_392.nii.gz\",\"label\":\"./labelsTr/BRATS_392.nii.gz\"},{\"image\":\"./imagesTr/BRATS_046.nii.gz\",\"label\":\"./labelsTr/BRATS_046.nii.gz\"},{\"image\":\"./imagesTr/BRATS_146.nii.gz\",\"label\":\"./labelsTr/BRATS_146.nii.gz\"},{\"image\":\"./imagesTr/BRATS_380.nii.gz\",\"label\":\"./labelsTr/BRATS_380.nii.gz\"},{\"image\":\"./imagesTr/BRATS_137.nii.gz\",\"label\":\"./labelsTr/BRATS_137.nii.gz\"},{\"image\":\"./imagesTr/BRATS_280.nii.gz\",\"label\":\"./labelsTr/BRATS_280.nii.gz\"},{\"image\":\"./imagesTr/BRATS_037.nii.gz\",\"label\":\"./labelsTr/BRATS_037.nii.gz\"},{\"image\":\"./imagesTr/BRATS_154.nii.gz\",\"label\":\"./labelsTr/BRATS_154.nii.gz\"},{\"image\":\"./imagesTr/BRATS_054.nii.gz\",\"label\":\"./labelsTr/BRATS_054.nii.gz\"},{\"image\":\"./imagesTr/BRATS_129.nii.gz\",\"label\":\"./labelsTr/BRATS_129.nii.gz\"},{\"image\":\"./imagesTr/BRATS_029.nii.gz\",\"label\":\"./labelsTr/BRATS_029.nii.gz\"},{\"image\":\"./imagesTr/BRATS_175.nii.gz\",\"label\":\"./labelsTr/BRATS_175.nii.gz\"},{\"image\":\"./imagesTr/BRATS_075.nii.gz\",\"label\":\"./labelsTr/BRATS_075.nii.gz\"},{\"image\":\"./imagesTr/BRATS_108.nii.gz\",\"label\":\"./labelsTr/BRATS_108.nii.gz\"},{\"image\":\"./imagesTr/BRATS_008.nii.gz\",\"label\":\"./labelsTr/BRATS_008.nii.gz\"},{\"image\":\"./imagesTr/BRATS_116.nii.gz\",\"label\":\"./labelsTr/BRATS_116.nii.gz\"},{\"image\":\"./imagesTr/BRATS_016.nii.gz\",\"label\":\"./labelsTr/BRATS_016.nii.gz\"},{\"image\":\"./imagesTr/BRATS_067.nii.gz\",\"label\":\"./labelsTr/BRATS_067.nii.gz\"},{\"image\":\"./imagesTr/BRATS_481.nii.gz\",\"label\":\"./labelsTr/BRATS_481.nii.gz\"},{\"image\":\"./imagesTr/BRATS_167.nii.gz\",\"label\":\"./labelsTr/BRATS_167.nii.gz\"},{\"image\":\"./imagesTr/BRATS_079.nii.gz\",\"label\":\"./labelsTr/BRATS_079.nii.gz\"},{\"image\":\"./imagesTr/BRATS_179.nii.gz\",\"label\":\"./labelsTr/BRATS_179.nii.gz\"},{\"image\":\"./imagesTr/BRATS_004.nii.gz\",\"label\":\"./labelsTr/BRATS_004.nii.gz\"},{\"image\":\"./imagesTr/BRATS_104.nii.gz\",\"label\":\"./labelsTr/BRATS_104.nii.gz\"},{\"image\":\"./imagesTr/BRATS_051.nii.gz\",\"label\":\"./labelsTr/BRATS_051.nii.gz\"},{\"image\":\"./imagesTr/BRATS_151.nii.gz\",\"label\":\"./labelsTr/BRATS_151.nii.gz\"},{\"image\":\"./imagesTr/BRATS_285.nii.gz\",\"label\":\"./labelsTr/BRATS_285.nii.gz\"},{\"image\":\"./imagesTr/BRATS_032.nii.gz\",\"label\":\"./labelsTr/BRATS_032.nii.gz\"},{\"image\":\"./imagesTr/BRATS_385.nii.gz\",\"label\":\"./labelsTr/BRATS_385.nii.gz\"},{\"image\":\"./imagesTr/BRATS_132.nii.gz\",\"label\":\"./labelsTr/BRATS_132.nii.gz\"},{\"image\":\"./imagesTr/BRATS_143.nii.gz\",\"label\":\"./labelsTr/BRATS_143.nii.gz\"},{\"image\":\"./imagesTr/BRATS_043.nii.gz\",\"label\":\"./labelsTr/BRATS_043.nii.gz\"},{\"image\":\"./imagesTr/BRATS_389.nii.gz\",\"label\":\"./labelsTr/BRATS_389.nii.gz\"},{\"image\":\"./imagesTr/BRATS_289.nii.gz\",\"label\":\"./labelsTr/BRATS_289.nii.gz\"},{\"image\":\"./imagesTr/BRATS_120.nii.gz\",\"label\":\"./labelsTr/BRATS_120.nii.gz\"},{\"image\":\"./imagesTr/BRATS_397.nii.gz\",\"label\":\"./labelsTr/BRATS_397.nii.gz\"},{\"image\":\"./imagesTr/BRATS_020.nii.gz\",\"label\":\"./labelsTr/BRATS_020.nii.gz\"},{\"image\":\"./imagesTr/BRATS_297.nii.gz\",\"label\":\"./labelsTr/BRATS_297.nii.gz\"},{\"image\":\"./imagesTr/BRATS_411.nii.gz\",\"label\":\"./labelsTr/BRATS_411.nii.gz\"},{\"image\":\"./imagesTr/BRATS_340.nii.gz\",\"label\":\"./labelsTr/BRATS_340.nii.gz\"},{\"image\":\"./imagesTr/BRATS_240.nii.gz\",\"label\":\"./labelsTr/BRATS_240.nii.gz\"},{\"image\":\"./imagesTr/BRATS_194.nii.gz\",\"label\":\"./labelsTr/BRATS_194.nii.gz\"},{\"image\":\"./imagesTr/BRATS_472.nii.gz\",\"label\":\"./labelsTr/BRATS_472.nii.gz\"},{\"image\":\"./imagesTr/BRATS_323.nii.gz\",\"label\":\"./labelsTr/BRATS_323.nii.gz\"},{\"image\":\"./imagesTr/BRATS_094.nii.gz\",\"label\":\"./labelsTr/BRATS_094.nii.gz\"},{\"image\":\"./imagesTr/BRATS_223.nii.gz\",\"label\":\"./labelsTr/BRATS_223.nii.gz\"},{\"image\":\"./imagesTr/BRATS_252.nii.gz\",\"label\":\"./labelsTr/BRATS_252.nii.gz\"},{\"image\":\"./imagesTr/BRATS_352.nii.gz\",\"label\":\"./labelsTr/BRATS_352.nii.gz\"},{\"image\":\"./imagesTr/BRATS_403.nii.gz\",\"label\":\"./labelsTr/BRATS_403.nii.gz\"},{\"image\":\"./imagesTr/BRATS_098.nii.gz\",\"label\":\"./labelsTr/BRATS_098.nii.gz\"},{\"image\":\"./imagesTr/BRATS_198.nii.gz\",\"label\":\"./labelsTr/BRATS_198.nii.gz\"},{\"image\":\"./imagesTr/BRATS_231.nii.gz\",\"label\":\"./labelsTr/BRATS_231.nii.gz\"},{\"image\":\"./imagesTr/BRATS_086.nii.gz\",\"label\":\"./labelsTr/BRATS_086.nii.gz\"},{\"image\":\"./imagesTr/BRATS_331.nii.gz\",\"label\":\"./labelsTr/BRATS_331.nii.gz\"},{\"image\":\"./imagesTr/BRATS_460.nii.gz\",\"label\":\"./labelsTr/BRATS_460.nii.gz\"},{\"image\":\"./imagesTr/BRATS_186.nii.gz\",\"label\":\"./labelsTr/BRATS_186.nii.gz\"},{\"image\":\"./imagesTr/BRATS_264.nii.gz\",\"label\":\"./labelsTr/BRATS_264.nii.gz\"},{\"image\":\"./imagesTr/BRATS_435.nii.gz\",\"label\":\"./labelsTr/BRATS_435.nii.gz\"},{\"image\":\"./imagesTr/BRATS_364.nii.gz\",\"label\":\"./labelsTr/BRATS_364.nii.gz\"},{\"image\":\"./imagesTr/BRATS_219.nii.gz\",\"label\":\"./labelsTr/BRATS_219.nii.gz\"},{\"image\":\"./imagesTr/BRATS_448.nii.gz\",\"label\":\"./labelsTr/BRATS_448.nii.gz\"},{\"image\":\"./imagesTr/BRATS_319.nii.gz\",\"label\":\"./labelsTr/BRATS_319.nii.gz\"},{\"image\":\"./imagesTr/BRATS_207.nii.gz\",\"label\":\"./labelsTr/BRATS_207.nii.gz\"},{\"image\":\"./imagesTr/BRATS_456.nii.gz\",\"label\":\"./labelsTr/BRATS_456.nii.gz\"},{\"image\":\"./imagesTr/BRATS_307.nii.gz\",\"label\":\"./labelsTr/BRATS_307.nii.gz\"},{\"image\":\"./imagesTr/BRATS_376.nii.gz\",\"label\":\"./labelsTr/BRATS_376.nii.gz\"},{\"image\":\"./imagesTr/BRATS_427.nii.gz\",\"label\":\"./labelsTr/BRATS_427.nii.gz\"},{\"image\":\"./imagesTr/BRATS_276.nii.gz\",\"label\":\"./labelsTr/BRATS_276.nii.gz\"},{\"image\":\"./imagesTr/BRATS_368.nii.gz\",\"label\":\"./labelsTr/BRATS_368.nii.gz\"},{\"image\":\"./imagesTr/BRATS_439.nii.gz\",\"label\":\"./labelsTr/BRATS_439.nii.gz\"},{\"image\":\"./imagesTr/BRATS_268.nii.gz\",\"label\":\"./labelsTr/BRATS_268.nii.gz\"},{\"image\":\"./imagesTr/BRATS_315.nii.gz\",\"label\":\"./labelsTr/BRATS_315.nii.gz\"},{\"image\":\"./imagesTr/BRATS_444.nii.gz\",\"label\":\"./labelsTr/BRATS_444.nii.gz\"},{\"image\":\"./imagesTr/BRATS_215.nii.gz\",\"label\":\"./labelsTr/BRATS_215.nii.gz\"},{\"image\":\"./imagesTr/BRATS_233.nii.gz\",\"label\":\"./labelsTr/BRATS_233.nii.gz\"},{\"image\":\"./imagesTr/BRATS_084.nii.gz\",\"label\":\"./labelsTr/BRATS_084.nii.gz\"},{\"image\":\"./imagesTr/BRATS_333.nii.gz\",\"label\":\"./labelsTr/BRATS_333.nii.gz\"},{\"image\":\"./imagesTr/BRATS_462.nii.gz\",\"label\":\"./labelsTr/BRATS_462.nii.gz\"},{\"image\":\"./imagesTr/BRATS_184.nii.gz\",\"label\":\"./labelsTr/BRATS_184.nii.gz\"},{\"image\":\"./imagesTr/BRATS_250.nii.gz\",\"label\":\"./labelsTr/BRATS_250.nii.gz\"},{\"image\":\"./imagesTr/BRATS_350.nii.gz\",\"label\":\"./labelsTr/BRATS_350.nii.gz\"},{\"image\":\"./imagesTr/BRATS_401.nii.gz\",\"label\":\"./labelsTr/BRATS_401.nii.gz\"},{\"image\":\"./imagesTr/BRATS_196.nii.gz\",\"label\":\"./labelsTr/BRATS_196.nii.gz\"},{\"image\":\"./imagesTr/BRATS_470.nii.gz\",\"label\":\"./labelsTr/BRATS_470.nii.gz\"},{\"image\":\"./imagesTr/BRATS_321.nii.gz\",\"label\":\"./labelsTr/BRATS_321.nii.gz\"},{\"image\":\"./imagesTr/BRATS_096.nii.gz\",\"label\":\"./labelsTr/BRATS_096.nii.gz\"},{\"image\":\"./imagesTr/BRATS_221.nii.gz\",\"label\":\"./labelsTr/BRATS_221.nii.gz\"},{\"image\":\"./imagesTr/BRATS_413.nii.gz\",\"label\":\"./labelsTr/BRATS_413.nii.gz\"},{\"image\":\"./imagesTr/BRATS_342.nii.gz\",\"label\":\"./labelsTr/BRATS_342.nii.gz\"},{\"image\":\"./imagesTr/BRATS_242.nii.gz\",\"label\":\"./labelsTr/BRATS_242.nii.gz\"},{\"image\":\"./imagesTr/BRATS_188.nii.gz\",\"label\":\"./labelsTr/BRATS_188.nii.gz\"},{\"image\":\"./imagesTr/BRATS_088.nii.gz\",\"label\":\"./labelsTr/BRATS_088.nii.gz\"},{\"image\":\"./imagesTr/BRATS_317.nii.gz\",\"label\":\"./labelsTr/BRATS_317.nii.gz\"},{\"image\":\"./imagesTr/BRATS_446.nii.gz\",\"label\":\"./labelsTr/BRATS_446.nii.gz\"},{\"image\":\"./imagesTr/BRATS_217.nii.gz\",\"label\":\"./labelsTr/BRATS_217.nii.gz\"},{\"image\":\"./imagesTr/BRATS_374.nii.gz\",\"label\":\"./labelsTr/BRATS_374.nii.gz\"},{\"image\":\"./imagesTr/BRATS_425.nii.gz\",\"label\":\"./labelsTr/BRATS_425.nii.gz\"},{\"image\":\"./imagesTr/BRATS_274.nii.gz\",\"label\":\"./labelsTr/BRATS_274.nii.gz\"},{\"image\":\"./imagesTr/BRATS_309.nii.gz\",\"label\":\"./labelsTr/BRATS_309.nii.gz\"},{\"image\":\"./imagesTr/BRATS_458.nii.gz\",\"label\":\"./labelsTr/BRATS_458.nii.gz\"},{\"image\":\"./imagesTr/BRATS_209.nii.gz\",\"label\":\"./labelsTr/BRATS_209.nii.gz\"},{\"image\":\"./imagesTr/BRATS_278.nii.gz\",\"label\":\"./labelsTr/BRATS_278.nii.gz\"},{\"image\":\"./imagesTr/BRATS_429.nii.gz\",\"label\":\"./labelsTr/BRATS_429.nii.gz\"},{\"image\":\"./imagesTr/BRATS_378.nii.gz\",\"label\":\"./labelsTr/BRATS_378.nii.gz\"},{\"image\":\"./imagesTr/BRATS_205.nii.gz\",\"label\":\"./labelsTr/BRATS_205.nii.gz\"},{\"image\":\"./imagesTr/BRATS_454.nii.gz\",\"label\":\"./labelsTr/BRATS_454.nii.gz\"},{\"image\":\"./imagesTr/BRATS_305.nii.gz\",\"label\":\"./labelsTr/BRATS_305.nii.gz\"},{\"image\":\"./imagesTr/BRATS_266.nii.gz\",\"label\":\"./labelsTr/BRATS_266.nii.gz\"},{\"image\":\"./imagesTr/BRATS_437.nii.gz\",\"label\":\"./labelsTr/BRATS_437.nii.gz\"},{\"image\":\"./imagesTr/BRATS_366.nii.gz\",\"label\":\"./labelsTr/BRATS_366.nii.gz\"},{\"image\":\"./imagesTr/BRATS_006.nii.gz\",\"label\":\"./labelsTr/BRATS_006.nii.gz\"},{\"image\":\"./imagesTr/BRATS_106.nii.gz\",\"label\":\"./labelsTr/BRATS_106.nii.gz\"},{\"image\":\"./imagesTr/BRATS_065.nii.gz\",\"label\":\"./labelsTr/BRATS_065.nii.gz\"},{\"image\":\"./imagesTr/BRATS_483.nii.gz\",\"label\":\"./labelsTr/BRATS_483.nii.gz\"},{\"image\":\"./imagesTr/BRATS_165.nii.gz\",\"label\":\"./labelsTr/BRATS_165.nii.gz\"},{\"image\":\"./imagesTr/BRATS_018.nii.gz\",\"label\":\"./labelsTr/BRATS_018.nii.gz\"},{\"image\":\"./imagesTr/BRATS_118.nii.gz\",\"label\":\"./labelsTr/BRATS_118.nii.gz\"},{\"image\":\"./imagesTr/BRATS_169.nii.gz\",\"label\":\"./labelsTr/BRATS_169.nii.gz\"},{\"image\":\"./imagesTr/BRATS_069.nii.gz\",\"label\":\"./labelsTr/BRATS_069.nii.gz\"},{\"image\":\"./imagesTr/BRATS_114.nii.gz\",\"label\":\"./labelsTr/BRATS_114.nii.gz\"},{\"image\":\"./imagesTr/BRATS_014.nii.gz\",\"label\":\"./labelsTr/BRATS_014.nii.gz\"},{\"image\":\"./imagesTr/BRATS_177.nii.gz\",\"label\":\"./labelsTr/BRATS_177.nii.gz\"},{\"image\":\"./imagesTr/BRATS_077.nii.gz\",\"label\":\"./labelsTr/BRATS_077.nii.gz\"},{\"image\":\"./imagesTr/BRATS_122.nii.gz\",\"label\":\"./labelsTr/BRATS_122.nii.gz\"},{\"image\":\"./imagesTr/BRATS_395.nii.gz\",\"label\":\"./labelsTr/BRATS_395.nii.gz\"},{\"image\":\"./imagesTr/BRATS_022.nii.gz\",\"label\":\"./labelsTr/BRATS_022.nii.gz\"},{\"image\":\"./imagesTr/BRATS_295.nii.gz\",\"label\":\"./labelsTr/BRATS_295.nii.gz\"},{\"image\":\"./imagesTr/BRATS_141.nii.gz\",\"label\":\"./labelsTr/BRATS_141.nii.gz\"},{\"image\":\"./imagesTr/BRATS_041.nii.gz\",\"label\":\"./labelsTr/BRATS_041.nii.gz\"},{\"image\":\"./imagesTr/BRATS_287.nii.gz\",\"label\":\"./labelsTr/BRATS_287.nii.gz\"},{\"image\":\"./imagesTr/BRATS_030.nii.gz\",\"label\":\"./labelsTr/BRATS_030.nii.gz\"},{\"image\":\"./imagesTr/BRATS_387.nii.gz\",\"label\":\"./labelsTr/BRATS_387.nii.gz\"},{\"image\":\"./imagesTr/BRATS_130.nii.gz\",\"label\":\"./labelsTr/BRATS_130.nii.gz\"},{\"image\":\"./imagesTr/BRATS_053.nii.gz\",\"label\":\"./labelsTr/BRATS_053.nii.gz\"},{\"image\":\"./imagesTr/BRATS_153.nii.gz\",\"label\":\"./labelsTr/BRATS_153.nii.gz\"},{\"image\":\"./imagesTr/BRATS_299.nii.gz\",\"label\":\"./labelsTr/BRATS_299.nii.gz\"},{\"image\":\"./imagesTr/BRATS_399.nii.gz\",\"label\":\"./labelsTr/BRATS_399.nii.gz\"},{\"image\":\"./imagesTr/BRATS_201.nii.gz\",\"label\":\"./labelsTr/BRATS_201.nii.gz\"},{\"image\":\"./imagesTr/BRATS_301.nii.gz\",\"label\":\"./labelsTr/BRATS_301.nii.gz\"},{\"image\":\"./imagesTr/BRATS_450.nii.gz\",\"label\":\"./labelsTr/BRATS_450.nii.gz\"},{\"image\":\"./imagesTr/BRATS_262.nii.gz\",\"label\":\"./labelsTr/BRATS_262.nii.gz\"},{\"image\":\"./imagesTr/BRATS_362.nii.gz\",\"label\":\"./labelsTr/BRATS_362.nii.gz\"},{\"image\":\"./imagesTr/BRATS_433.nii.gz\",\"label\":\"./labelsTr/BRATS_433.nii.gz\"},{\"image\":\"./imagesTr/BRATS_442.nii.gz\",\"label\":\"./labelsTr/BRATS_442.nii.gz\"},{\"image\":\"./imagesTr/BRATS_313.nii.gz\",\"label\":\"./labelsTr/BRATS_313.nii.gz\"},{\"image\":\"./imagesTr/BRATS_213.nii.gz\",\"label\":\"./labelsTr/BRATS_213.nii.gz\"},{\"image\":\"./imagesTr/BRATS_421.nii.gz\",\"label\":\"./labelsTr/BRATS_421.nii.gz\"},{\"image\":\"./imagesTr/BRATS_370.nii.gz\",\"label\":\"./labelsTr/BRATS_370.nii.gz\"},{\"image\":\"./imagesTr/BRATS_270.nii.gz\",\"label\":\"./labelsTr/BRATS_270.nii.gz\"},{\"image\":\"./imagesTr/BRATS_192.nii.gz\",\"label\":\"./labelsTr/BRATS_192.nii.gz\"},{\"image\":\"./imagesTr/BRATS_325.nii.gz\",\"label\":\"./labelsTr/BRATS_325.nii.gz\"},{\"image\":\"./imagesTr/BRATS_474.nii.gz\",\"label\":\"./labelsTr/BRATS_474.nii.gz\"},{\"image\":\"./imagesTr/BRATS_092.nii.gz\",\"label\":\"./labelsTr/BRATS_092.nii.gz\"},{\"image\":\"./imagesTr/BRATS_225.nii.gz\",\"label\":\"./labelsTr/BRATS_225.nii.gz\"},{\"image\":\"./imagesTr/BRATS_358.nii.gz\",\"label\":\"./labelsTr/BRATS_358.nii.gz\"},{\"image\":\"./imagesTr/BRATS_409.nii.gz\",\"label\":\"./labelsTr/BRATS_409.nii.gz\"},{\"image\":\"./imagesTr/BRATS_258.nii.gz\",\"label\":\"./labelsTr/BRATS_258.nii.gz\"},{\"image\":\"./imagesTr/BRATS_346.nii.gz\",\"label\":\"./labelsTr/BRATS_346.nii.gz\"},{\"image\":\"./imagesTr/BRATS_417.nii.gz\",\"label\":\"./labelsTr/BRATS_417.nii.gz\"},{\"image\":\"./imagesTr/BRATS_246.nii.gz\",\"label\":\"./labelsTr/BRATS_246.nii.gz\"},{\"image\":\"./imagesTr/BRATS_237.nii.gz\",\"label\":\"./labelsTr/BRATS_237.nii.gz\"},{\"image\":\"./imagesTr/BRATS_080.nii.gz\",\"label\":\"./labelsTr/BRATS_080.nii.gz\"},{\"image\":\"./imagesTr/BRATS_466.nii.gz\",\"label\":\"./labelsTr/BRATS_466.nii.gz\"},{\"image\":\"./imagesTr/BRATS_337.nii.gz\",\"label\":\"./labelsTr/BRATS_337.nii.gz\"},{\"image\":\"./imagesTr/BRATS_180.nii.gz\",\"label\":\"./labelsTr/BRATS_180.nii.gz\"},{\"image\":\"./imagesTr/BRATS_229.nii.gz\",\"label\":\"./labelsTr/BRATS_229.nii.gz\"},{\"image\":\"./imagesTr/BRATS_478.nii.gz\",\"label\":\"./labelsTr/BRATS_478.nii.gz\"},{\"image\":\"./imagesTr/BRATS_329.nii.gz\",\"label\":\"./labelsTr/BRATS_329.nii.gz\"},{\"image\":\"./imagesTr/BRATS_254.nii.gz\",\"label\":\"./labelsTr/BRATS_254.nii.gz\"},{\"image\":\"./imagesTr/BRATS_405.nii.gz\",\"label\":\"./labelsTr/BRATS_405.nii.gz\"},{\"image\":\"./imagesTr/BRATS_354.nii.gz\",\"label\":\"./labelsTr/BRATS_354.nii.gz\"},{\"image\":\"./imagesTr/BRATS_283.nii.gz\",\"label\":\"./labelsTr/BRATS_283.nii.gz\"},{\"image\":\"./imagesTr/BRATS_034.nii.gz\",\"label\":\"./labelsTr/BRATS_034.nii.gz\"},{\"image\":\"./imagesTr/BRATS_383.nii.gz\",\"label\":\"./labelsTr/BRATS_383.nii.gz\"},{\"image\":\"./imagesTr/BRATS_134.nii.gz\",\"label\":\"./labelsTr/BRATS_134.nii.gz\"},{\"image\":\"./imagesTr/BRATS_049.nii.gz\",\"label\":\"./labelsTr/BRATS_049.nii.gz\"},{\"image\":\"./imagesTr/BRATS_149.nii.gz\",\"label\":\"./labelsTr/BRATS_149.nii.gz\"},{\"image\":\"./imagesTr/BRATS_057.nii.gz\",\"label\":\"./labelsTr/BRATS_057.nii.gz\"},{\"image\":\"./imagesTr/BRATS_157.nii.gz\",\"label\":\"./labelsTr/BRATS_157.nii.gz\"},{\"image\":\"./imagesTr/BRATS_126.nii.gz\",\"label\":\"./labelsTr/BRATS_126.nii.gz\"},{\"image\":\"./imagesTr/BRATS_391.nii.gz\",\"label\":\"./labelsTr/BRATS_391.nii.gz\"},{\"image\":\"./imagesTr/BRATS_026.nii.gz\",\"label\":\"./labelsTr/BRATS_026.nii.gz\"},{\"image\":\"./imagesTr/BRATS_291.nii.gz\",\"label\":\"./labelsTr/BRATS_291.nii.gz\"},{\"image\":\"./imagesTr/BRATS_138.nii.gz\",\"label\":\"./labelsTr/BRATS_138.nii.gz\"},{\"image\":\"./imagesTr/BRATS_038.nii.gz\",\"label\":\"./labelsTr/BRATS_038.nii.gz\"},{\"image\":\"./imagesTr/BRATS_145.nii.gz\",\"label\":\"./labelsTr/BRATS_145.nii.gz\"},{\"image\":\"./imagesTr/BRATS_045.nii.gz\",\"label\":\"./labelsTr/BRATS_045.nii.gz\"},{\"image\":\"./imagesTr/BRATS_110.nii.gz\",\"label\":\"./labelsTr/BRATS_110.nii.gz\"},{\"image\":\"./imagesTr/BRATS_010.nii.gz\",\"label\":\"./labelsTr/BRATS_010.nii.gz\"},{\"image\":\"./imagesTr/BRATS_173.nii.gz\",\"label\":\"./labelsTr/BRATS_173.nii.gz\"},{\"image\":\"./imagesTr/BRATS_073.nii.gz\",\"label\":\"./labelsTr/BRATS_073.nii.gz\"},{\"image\":\"./imagesTr/BRATS_002.nii.gz\",\"label\":\"./labelsTr/BRATS_002.nii.gz\"},{\"image\":\"./imagesTr/BRATS_102.nii.gz\",\"label\":\"./labelsTr/BRATS_102.nii.gz\"},{\"image\":\"./imagesTr/BRATS_061.nii.gz\",\"label\":\"./labelsTr/BRATS_061.nii.gz\"},{\"image\":\"./imagesTr/BRATS_161.nii.gz\",\"label\":\"./labelsTr/BRATS_161.nii.gz\"},{\"image\":\"./imagesTr/BRATS_147.nii.gz\",\"label\":\"./labelsTr/BRATS_147.nii.gz\"},{\"image\":\"./imagesTr/BRATS_047.nii.gz\",\"label\":\"./labelsTr/BRATS_047.nii.gz\"},{\"image\":\"./imagesTr/BRATS_124.nii.gz\",\"label\":\"./labelsTr/BRATS_124.nii.gz\"},{\"image\":\"./imagesTr/BRATS_393.nii.gz\",\"label\":\"./labelsTr/BRATS_393.nii.gz\"},{\"image\":\"./imagesTr/BRATS_024.nii.gz\",\"label\":\"./labelsTr/BRATS_024.nii.gz\"},{\"image\":\"./imagesTr/BRATS_293.nii.gz\",\"label\":\"./labelsTr/BRATS_293.nii.gz\"},{\"image\":\"./imagesTr/BRATS_159.nii.gz\",\"label\":\"./labelsTr/BRATS_159.nii.gz\"},{\"image\":\"./imagesTr/BRATS_059.nii.gz\",\"label\":\"./labelsTr/BRATS_059.nii.gz\"},{\"image\":\"./imagesTr/BRATS_028.nii.gz\",\"label\":\"./labelsTr/BRATS_028.nii.gz\"},{\"image\":\"./imagesTr/BRATS_128.nii.gz\",\"label\":\"./labelsTr/BRATS_128.nii.gz\"},{\"image\":\"./imagesTr/BRATS_055.nii.gz\",\"label\":\"./labelsTr/BRATS_055.nii.gz\"},{\"image\":\"./imagesTr/BRATS_155.nii.gz\",\"label\":\"./labelsTr/BRATS_155.nii.gz\"},{\"image\":\"./imagesTr/BRATS_281.nii.gz\",\"label\":\"./labelsTr/BRATS_281.nii.gz\"},{\"image\":\"./imagesTr/BRATS_036.nii.gz\",\"label\":\"./labelsTr/BRATS_036.nii.gz\"},{\"image\":\"./imagesTr/BRATS_381.nii.gz\",\"label\":\"./labelsTr/BRATS_381.nii.gz\"},{\"image\":\"./imagesTr/BRATS_136.nii.gz\",\"label\":\"./labelsTr/BRATS_136.nii.gz\"},{\"image\":\"./imagesTr/BRATS_063.nii.gz\",\"label\":\"./labelsTr/BRATS_063.nii.gz\"},{\"image\":\"./imagesTr/BRATS_163.nii.gz\",\"label\":\"./labelsTr/BRATS_163.nii.gz\"},{\"image\":\"./imagesTr/BRATS_100.nii.gz\",\"label\":\"./labelsTr/BRATS_100.nii.gz\"},{\"image\":\"./imagesTr/BRATS_171.nii.gz\",\"label\":\"./labelsTr/BRATS_171.nii.gz\"},{\"image\":\"./imagesTr/BRATS_071.nii.gz\",\"label\":\"./labelsTr/BRATS_071.nii.gz\"},{\"image\":\"./imagesTr/BRATS_112.nii.gz\",\"label\":\"./labelsTr/BRATS_112.nii.gz\"},{\"image\":\"./imagesTr/BRATS_012.nii.gz\",\"label\":\"./labelsTr/BRATS_012.nii.gz\"},{\"image\":\"./imagesTr/BRATS_423.nii.gz\",\"label\":\"./labelsTr/BRATS_423.nii.gz\"},{\"image\":\"./imagesTr/BRATS_372.nii.gz\",\"label\":\"./labelsTr/BRATS_372.nii.gz\"},{\"image\":\"./imagesTr/BRATS_272.nii.gz\",\"label\":\"./labelsTr/BRATS_272.nii.gz\"},{\"image\":\"./imagesTr/BRATS_440.nii.gz\",\"label\":\"./labelsTr/BRATS_440.nii.gz\"},{\"image\":\"./imagesTr/BRATS_311.nii.gz\",\"label\":\"./labelsTr/BRATS_311.nii.gz\"},{\"image\":\"./imagesTr/BRATS_211.nii.gz\",\"label\":\"./labelsTr/BRATS_211.nii.gz\"},{\"image\":\"./imagesTr/BRATS_260.nii.gz\",\"label\":\"./labelsTr/BRATS_260.nii.gz\"},{\"image\":\"./imagesTr/BRATS_360.nii.gz\",\"label\":\"./labelsTr/BRATS_360.nii.gz\"},{\"image\":\"./imagesTr/BRATS_431.nii.gz\",\"label\":\"./labelsTr/BRATS_431.nii.gz\"},{\"image\":\"./imagesTr/BRATS_203.nii.gz\",\"label\":\"./labelsTr/BRATS_203.nii.gz\"},{\"image\":\"./imagesTr/BRATS_303.nii.gz\",\"label\":\"./labelsTr/BRATS_303.nii.gz\"},{\"image\":\"./imagesTr/BRATS_452.nii.gz\",\"label\":\"./labelsTr/BRATS_452.nii.gz\"},{\"image\":\"./imagesTr/BRATS_256.nii.gz\",\"label\":\"./labelsTr/BRATS_256.nii.gz\"},{\"image\":\"./imagesTr/BRATS_407.nii.gz\",\"label\":\"./labelsTr/BRATS_407.nii.gz\"},{\"image\":\"./imagesTr/BRATS_356.nii.gz\",\"label\":\"./labelsTr/BRATS_356.nii.gz\"},{\"image\":\"./imagesTr/BRATS_235.nii.gz\",\"label\":\"./labelsTr/BRATS_235.nii.gz\"},{\"image\":\"./imagesTr/BRATS_082.nii.gz\",\"label\":\"./labelsTr/BRATS_082.nii.gz\"},{\"image\":\"./imagesTr/BRATS_464.nii.gz\",\"label\":\"./labelsTr/BRATS_464.nii.gz\"},{\"image\":\"./imagesTr/BRATS_335.nii.gz\",\"label\":\"./labelsTr/BRATS_335.nii.gz\"},{\"image\":\"./imagesTr/BRATS_182.nii.gz\",\"label\":\"./labelsTr/BRATS_182.nii.gz\"},{\"image\":\"./imagesTr/BRATS_248.nii.gz\",\"label\":\"./labelsTr/BRATS_248.nii.gz\"},{\"image\":\"./imagesTr/BRATS_419.nii.gz\",\"label\":\"./labelsTr/BRATS_419.nii.gz\"},{\"image\":\"./imagesTr/BRATS_348.nii.gz\",\"label\":\"./labelsTr/BRATS_348.nii.gz\"},{\"image\":\"./imagesTr/BRATS_339.nii.gz\",\"label\":\"./labelsTr/BRATS_339.nii.gz\"},{\"image\":\"./imagesTr/BRATS_468.nii.gz\",\"label\":\"./labelsTr/BRATS_468.nii.gz\"},{\"image\":\"./imagesTr/BRATS_239.nii.gz\",\"label\":\"./labelsTr/BRATS_239.nii.gz\"},{\"image\":\"./imagesTr/BRATS_344.nii.gz\",\"label\":\"./labelsTr/BRATS_344.nii.gz\"},{\"image\":\"./imagesTr/BRATS_415.nii.gz\",\"label\":\"./labelsTr/BRATS_415.nii.gz\"},{\"image\":\"./imagesTr/BRATS_244.nii.gz\",\"label\":\"./labelsTr/BRATS_244.nii.gz\"},{\"image\":\"./imagesTr/BRATS_190.nii.gz\",\"label\":\"./labelsTr/BRATS_190.nii.gz\"},{\"image\":\"./imagesTr/BRATS_327.nii.gz\",\"label\":\"./labelsTr/BRATS_327.nii.gz\"},{\"image\":\"./imagesTr/BRATS_476.nii.gz\",\"label\":\"./labelsTr/BRATS_476.nii.gz\"},{\"image\":\"./imagesTr/BRATS_090.nii.gz\",\"label\":\"./labelsTr/BRATS_090.nii.gz\"},{\"image\":\"./imagesTr/BRATS_227.nii.gz\",\"label\":\"./labelsTr/BRATS_227.nii.gz\"}],\r\n",
        " \"test\":[\"./imagesTs/BRATS_557.nii.gz\",\"./imagesTs/BRATS_549.nii.gz\",\"./imagesTs/BRATS_683.nii.gz\",\"./imagesTs/BRATS_534.nii.gz\",\"./imagesTs/BRATS_545.nii.gz\",\"./imagesTs/BRATS_538.nii.gz\",\"./imagesTs/BRATS_526.nii.gz\",\"./imagesTs/BRATS_691.nii.gz\",\"./imagesTs/BRATS_573.nii.gz\",\"./imagesTs/BRATS_510.nii.gz\",\"./imagesTs/BRATS_561.nii.gz\",\"./imagesTs/BRATS_502.nii.gz\",\"./imagesTs/BRATS_662.nii.gz\",\"./imagesTs/BRATS_601.nii.gz\",\"./imagesTs/BRATS_701.nii.gz\",\"./imagesTs/BRATS_670.nii.gz\",\"./imagesTs/BRATS_713.nii.gz\",\"./imagesTs/BRATS_613.nii.gz\",\"./imagesTs/BRATS_746.nii.gz\",\"./imagesTs/BRATS_646.nii.gz\",\"./imagesTs/BRATS_658.nii.gz\",\"./imagesTs/BRATS_725.nii.gz\",\"./imagesTs/BRATS_592.nii.gz\",\"./imagesTs/BRATS_625.nii.gz\",\"./imagesTs/BRATS_492.nii.gz\",\"./imagesTs/BRATS_654.nii.gz\",\"./imagesTs/BRATS_629.nii.gz\",\"./imagesTs/BRATS_729.nii.gz\",\"./imagesTs/BRATS_637.nii.gz\",\"./imagesTs/BRATS_580.nii.gz\",\"./imagesTs/BRATS_737.nii.gz\",\"./imagesTs/BRATS_711.nii.gz\",\"./imagesTs/BRATS_611.nii.gz\",\"./imagesTs/BRATS_672.nii.gz\",\"./imagesTs/BRATS_603.nii.gz\",\"./imagesTs/BRATS_703.nii.gz\",\"./imagesTs/BRATS_660.nii.gz\",\"./imagesTs/BRATS_648.nii.gz\",\"./imagesTs/BRATS_748.nii.gz\",\"./imagesTs/BRATS_635.nii.gz\",\"./imagesTs/BRATS_582.nii.gz\",\"./imagesTs/BRATS_735.nii.gz\",\"./imagesTs/BRATS_656.nii.gz\",\"./imagesTs/BRATS_727.nii.gz\",\"./imagesTs/BRATS_590.nii.gz\",\"./imagesTs/BRATS_627.nii.gz\",\"./imagesTs/BRATS_490.nii.gz\",\"./imagesTs/BRATS_744.nii.gz\",\"./imagesTs/BRATS_644.nii.gz\",\"./imagesTs/BRATS_739.nii.gz\",\"./imagesTs/BRATS_639.nii.gz\",\"./imagesTs/BRATS_559.nii.gz\",\"./imagesTs/BRATS_524.nii.gz\",\"./imagesTs/BRATS_693.nii.gz\",\"./imagesTs/BRATS_547.nii.gz\",\"./imagesTs/BRATS_681.nii.gz\",\"./imagesTs/BRATS_536.nii.gz\",\"./imagesTs/BRATS_555.nii.gz\",\"./imagesTs/BRATS_528.nii.gz\",\"./imagesTs/BRATS_500.nii.gz\",\"./imagesTs/BRATS_563.nii.gz\",\"./imagesTs/BRATS_512.nii.gz\",\"./imagesTs/BRATS_571.nii.gz\",\"./imagesTs/BRATS_723.nii.gz\",\"./imagesTs/BRATS_594.nii.gz\",\"./imagesTs/BRATS_623.nii.gz\",\"./imagesTs/BRATS_494.nii.gz\",\"./imagesTs/BRATS_740.nii.gz\",\"./imagesTs/BRATS_640.nii.gz\",\"./imagesTs/BRATS_486.nii.gz\",\"./imagesTs/BRATS_631.nii.gz\",\"./imagesTs/BRATS_586.nii.gz\",\"./imagesTs/BRATS_731.nii.gz\",\"./imagesTs/BRATS_498.nii.gz\",\"./imagesTs/BRATS_598.nii.gz\",\"./imagesTs/BRATS_652.nii.gz\",\"./imagesTs/BRATS_607.nii.gz\",\"./imagesTs/BRATS_707.nii.gz\",\"./imagesTs/BRATS_619.nii.gz\",\"./imagesTs/BRATS_719.nii.gz\",\"./imagesTs/BRATS_664.nii.gz\",\"./imagesTs/BRATS_715.nii.gz\",\"./imagesTs/BRATS_615.nii.gz\",\"./imagesTs/BRATS_668.nii.gz\",\"./imagesTs/BRATS_676.nii.gz\",\"./imagesTs/BRATS_516.nii.gz\",\"./imagesTs/BRATS_508.nii.gz\",\"./imagesTs/BRATS_575.nii.gz\",\"./imagesTs/BRATS_504.nii.gz\",\"./imagesTs/BRATS_579.nii.gz\",\"./imagesTs/BRATS_567.nii.gz\",\"./imagesTs/BRATS_685.nii.gz\",\"./imagesTs/BRATS_532.nii.gz\",\"./imagesTs/BRATS_551.nii.gz\",\"./imagesTs/BRATS_520.nii.gz\",\"./imagesTs/BRATS_697.nii.gz\",\"./imagesTs/BRATS_689.nii.gz\",\"./imagesTs/BRATS_543.nii.gz\",\"./imagesTs/BRATS_518.nii.gz\",\"./imagesTs/BRATS_565.nii.gz\",\"./imagesTs/BRATS_506.nii.gz\",\"./imagesTs/BRATS_577.nii.gz\",\"./imagesTs/BRATS_514.nii.gz\",\"./imagesTs/BRATS_569.nii.gz\",\"./imagesTs/BRATS_541.nii.gz\",\"./imagesTs/BRATS_522.nii.gz\",\"./imagesTs/BRATS_695.nii.gz\",\"./imagesTs/BRATS_699.nii.gz\",\"./imagesTs/BRATS_553.nii.gz\",\"./imagesTs/BRATS_687.nii.gz\",\"./imagesTs/BRATS_530.nii.gz\",\"./imagesTs/BRATS_650.nii.gz\",\"./imagesTs/BRATS_750.nii.gz\",\"./imagesTs/BRATS_633.nii.gz\",\"./imagesTs/BRATS_584.nii.gz\",\"./imagesTs/BRATS_733.nii.gz\",\"./imagesTs/BRATS_588.nii.gz\",\"./imagesTs/BRATS_488.nii.gz\",\"./imagesTs/BRATS_742.nii.gz\",\"./imagesTs/BRATS_642.nii.gz\",\"./imagesTs/BRATS_721.nii.gz\",\"./imagesTs/BRATS_596.nii.gz\",\"./imagesTs/BRATS_621.nii.gz\",\"./imagesTs/BRATS_496.nii.gz\",\"./imagesTs/BRATS_709.nii.gz\",\"./imagesTs/BRATS_609.nii.gz\",\"./imagesTs/BRATS_674.nii.gz\",\"./imagesTs/BRATS_717.nii.gz\",\"./imagesTs/BRATS_617.nii.gz\",\"./imagesTs/BRATS_666.nii.gz\",\"./imagesTs/BRATS_605.nii.gz\",\"./imagesTs/BRATS_705.nii.gz\",\"./imagesTs/BRATS_678.nii.gz\",\"./imagesTs/BRATS_624.nii.gz\",\"./imagesTs/BRATS_493.nii.gz\",\"./imagesTs/BRATS_724.nii.gz\",\"./imagesTs/BRATS_593.nii.gz\",\"./imagesTs/BRATS_659.nii.gz\",\"./imagesTs/BRATS_647.nii.gz\",\"./imagesTs/BRATS_747.nii.gz\",\"./imagesTs/BRATS_581.nii.gz\",\"./imagesTs/BRATS_736.nii.gz\",\"./imagesTs/BRATS_636.nii.gz\",\"./imagesTs/BRATS_728.nii.gz\",\"./imagesTs/BRATS_628.nii.gz\",\"./imagesTs/BRATS_655.nii.gz\",\"./imagesTs/BRATS_700.nii.gz\",\"./imagesTs/BRATS_600.nii.gz\",\"./imagesTs/BRATS_663.nii.gz\",\"./imagesTs/BRATS_612.nii.gz\",\"./imagesTs/BRATS_712.nii.gz\",\"./imagesTs/BRATS_671.nii.gz\",\"./imagesTs/BRATS_511.nii.gz\",\"./imagesTs/BRATS_572.nii.gz\",\"./imagesTs/BRATS_503.nii.gz\",\"./imagesTs/BRATS_560.nii.gz\",\"./imagesTs/BRATS_535.nii.gz\",\"./imagesTs/BRATS_682.nii.gz\",\"./imagesTs/BRATS_548.nii.gz\",\"./imagesTs/BRATS_556.nii.gz\",\"./imagesTs/BRATS_690.nii.gz\",\"./imagesTs/BRATS_527.nii.gz\",\"./imagesTs/BRATS_539.nii.gz\",\"./imagesTs/BRATS_544.nii.gz\",\"./imagesTs/BRATS_562.nii.gz\",\"./imagesTs/BRATS_501.nii.gz\",\"./imagesTs/BRATS_570.nii.gz\",\"./imagesTs/BRATS_513.nii.gz\",\"./imagesTs/BRATS_546.nii.gz\",\"./imagesTs/BRATS_692.nii.gz\",\"./imagesTs/BRATS_525.nii.gz\",\"./imagesTs/BRATS_558.nii.gz\",\"./imagesTs/BRATS_529.nii.gz\",\"./imagesTs/BRATS_554.nii.gz\",\"./imagesTs/BRATS_537.nii.gz\",\"./imagesTs/BRATS_680.nii.gz\",\"./imagesTs/BRATS_657.nii.gz\",\"./imagesTs/BRATS_583.nii.gz\",\"./imagesTs/BRATS_734.nii.gz\",\"./imagesTs/BRATS_634.nii.gz\",\"./imagesTs/BRATS_749.nii.gz\",\"./imagesTs/BRATS_649.nii.gz\",\"./imagesTs/BRATS_638.nii.gz\",\"./imagesTs/BRATS_738.nii.gz\",\"./imagesTs/BRATS_645.nii.gz\",\"./imagesTs/BRATS_745.nii.gz\",\"./imagesTs/BRATS_626.nii.gz\",\"./imagesTs/BRATS_491.nii.gz\",\"./imagesTs/BRATS_726.nii.gz\",\"./imagesTs/BRATS_591.nii.gz\",\"./imagesTs/BRATS_673.nii.gz\",\"./imagesTs/BRATS_610.nii.gz\",\"./imagesTs/BRATS_710.nii.gz\",\"./imagesTs/BRATS_661.nii.gz\",\"./imagesTs/BRATS_702.nii.gz\",\"./imagesTs/BRATS_602.nii.gz\",\"./imagesTs/BRATS_550.nii.gz\",\"./imagesTs/BRATS_533.nii.gz\",\"./imagesTs/BRATS_684.nii.gz\",\"./imagesTs/BRATS_542.nii.gz\",\"./imagesTs/BRATS_688.nii.gz\",\"./imagesTs/BRATS_696.nii.gz\",\"./imagesTs/BRATS_521.nii.gz\",\"./imagesTs/BRATS_574.nii.gz\",\"./imagesTs/BRATS_509.nii.gz\",\"./imagesTs/BRATS_517.nii.gz\",\"./imagesTs/BRATS_566.nii.gz\",\"./imagesTs/BRATS_578.nii.gz\",\"./imagesTs/BRATS_505.nii.gz\",\"./imagesTs/BRATS_665.nii.gz\",\"./imagesTs/BRATS_718.nii.gz\",\"./imagesTs/BRATS_618.nii.gz\",\"./imagesTs/BRATS_706.nii.gz\",\"./imagesTs/BRATS_606.nii.gz\",\"./imagesTs/BRATS_677.nii.gz\",\"./imagesTs/BRATS_669.nii.gz\",\"./imagesTs/BRATS_614.nii.gz\",\"./imagesTs/BRATS_714.nii.gz\",\"./imagesTs/BRATS_641.nii.gz\",\"./imagesTs/BRATS_741.nii.gz\",\"./imagesTs/BRATS_622.nii.gz\",\"./imagesTs/BRATS_495.nii.gz\",\"./imagesTs/BRATS_722.nii.gz\",\"./imagesTs/BRATS_595.nii.gz\",\"./imagesTs/BRATS_653.nii.gz\",\"./imagesTs/BRATS_599.nii.gz\",\"./imagesTs/BRATS_499.nii.gz\",\"./imagesTs/BRATS_587.nii.gz\",\"./imagesTs/BRATS_730.nii.gz\",\"./imagesTs/BRATS_487.nii.gz\",\"./imagesTs/BRATS_630.nii.gz\",\"./imagesTs/BRATS_616.nii.gz\",\"./imagesTs/BRATS_716.nii.gz\",\"./imagesTs/BRATS_675.nii.gz\",\"./imagesTs/BRATS_608.nii.gz\",\"./imagesTs/BRATS_708.nii.gz\",\"./imagesTs/BRATS_679.nii.gz\",\"./imagesTs/BRATS_704.nii.gz\",\"./imagesTs/BRATS_604.nii.gz\",\"./imagesTs/BRATS_667.nii.gz\",\"./imagesTs/BRATS_585.nii.gz\",\"./imagesTs/BRATS_732.nii.gz\",\"./imagesTs/BRATS_485.nii.gz\",\"./imagesTs/BRATS_632.nii.gz\",\"./imagesTs/BRATS_651.nii.gz\",\"./imagesTs/BRATS_620.nii.gz\",\"./imagesTs/BRATS_497.nii.gz\",\"./imagesTs/BRATS_720.nii.gz\",\"./imagesTs/BRATS_597.nii.gz\",\"./imagesTs/BRATS_643.nii.gz\",\"./imagesTs/BRATS_743.nii.gz\",\"./imagesTs/BRATS_489.nii.gz\",\"./imagesTs/BRATS_589.nii.gz\",\"./imagesTs/BRATS_694.nii.gz\",\"./imagesTs/BRATS_523.nii.gz\",\"./imagesTs/BRATS_540.nii.gz\",\"./imagesTs/BRATS_531.nii.gz\",\"./imagesTs/BRATS_686.nii.gz\",\"./imagesTs/BRATS_552.nii.gz\",\"./imagesTs/BRATS_698.nii.gz\",\"./imagesTs/BRATS_507.nii.gz\",\"./imagesTs/BRATS_564.nii.gz\",\"./imagesTs/BRATS_519.nii.gz\",\"./imagesTs/BRATS_568.nii.gz\",\"./imagesTs/BRATS_515.nii.gz\",\"./imagesTs/BRATS_576.nii.gz\"]\r\n",
        " }\r\n",
        "dataset = data[\"training\"]\r\n",
        "for i in range(len(dataset)):\r\n",
        "  dataset[i]['image'] = configurePath(dataset[i]['image'])\r\n",
        "  dataset[i]['label'] = configurePath(dataset[i]['label'])"
      ],
      "execution_count": 10,
      "outputs": []
    },
    {
      "cell_type": "code",
      "metadata": {
        "colab": {
          "base_uri": "https://localhost:8080/"
        },
        "id": "oDUM3NaAoQtR",
        "outputId": "c590343a-b315-4195-bd99-008eeca2fa70"
      },
      "source": [
        "n_labels = len(data['labels'])\r\n",
        "print(n_labels)"
      ],
      "execution_count": 11,
      "outputs": [
        {
          "output_type": "stream",
          "text": [
            "4\n"
          ],
          "name": "stdout"
        }
      ]
    },
    {
      "cell_type": "code",
      "metadata": {
        "id": "ZYDieDLJguQH",
        "colab": {
          "base_uri": "https://localhost:8080/"
        },
        "outputId": "b24c0442-b0eb-4131-b911-c8a281fc3196"
      },
      "source": [
        "from google.colab import drive\r\n",
        "drive.mount(f'{os.sep}content{os.sep}drive{os.sep}', force_remount=True)"
      ],
      "execution_count": 12,
      "outputs": [
        {
          "output_type": "stream",
          "text": [
            "Mounted at /content/drive/\n"
          ],
          "name": "stdout"
        }
      ]
    },
    {
      "cell_type": "code",
      "metadata": {
        "id": "RpaxntolhFDt",
        "colab": {
          "base_uri": "https://localhost:8080/"
        },
        "outputId": "a734d900-099d-4f33-9ce2-245d7dc132e5"
      },
      "source": [
        "!ls \"/content/drive/My Drive/\""
      ],
      "execution_count": 13,
      "outputs": [
        {
          "output_type": "stream",
          "text": [
            "'Colab Notebooks'   SampleFolder   Task01_BrainTumour.tar\n"
          ],
          "name": "stdout"
        }
      ]
    },
    {
      "cell_type": "code",
      "metadata": {
        "id": "_cLm06rYiFPE"
      },
      "source": [
        "path = \"/content/drive/My Drive/Task01_BrainTumour.tar\""
      ],
      "execution_count": 14,
      "outputs": []
    },
    {
      "cell_type": "code",
      "metadata": {
        "id": "C4WgnPNUicro"
      },
      "source": [
        "# Extract data\r\n",
        "# data_tar = trf.open(path)\r\n",
        "# data_tar.extractall('./Dataset') # specify which folder to extract to\r\n",
        "# data_tar.close()"
      ],
      "execution_count": 15,
      "outputs": []
    },
    {
      "cell_type": "code",
      "metadata": {
        "id": "Vo_sJSK3ki_j",
        "colab": {
          "base_uri": "https://localhost:8080/"
        },
        "outputId": "cf9582a4-40b2-42a4-875c-bbb6f7a21131"
      },
      "source": [
        "!ls \"Dataset/\""
      ],
      "execution_count": 16,
      "outputs": [
        {
          "output_type": "stream",
          "text": [
            "Task01_BrainTumour\n"
          ],
          "name": "stdout"
        }
      ]
    },
    {
      "cell_type": "code",
      "metadata": {
        "id": "p1WYlfTHYR1z",
        "colab": {
          "base_uri": "https://localhost:8080/"
        },
        "outputId": "1f4761d1-7cef-4f7e-f03e-7b8e25df4973"
      },
      "source": [
        "# Data set size\r\n",
        "dataset_size = len(dataset)\r\n",
        "print(dataset_size)"
      ],
      "execution_count": 17,
      "outputs": [
        {
          "output_type": "stream",
          "text": [
            "484\n"
          ],
          "name": "stdout"
        }
      ]
    },
    {
      "cell_type": "code",
      "metadata": {
        "id": "JPhFWWpkYjep"
      },
      "source": [
        "# Gets image and label for i element in dataset\r\n",
        "def get_data(i):\r\n",
        "    image_obj = nib.load(dataset[i][\"image\"])\r\n",
        "    image_data = image_obj.get_fdata()\r\n",
        "    label_obj = nib.load(dataset[i][\"label\"])\r\n",
        "    label_data = label_obj.get_fdata()\r\n",
        "    label_data = to_categorical(label_data, num_classes=n_labels)\r\n",
        "    return image_data, label_data"
      ],
      "execution_count": 18,
      "outputs": []
    },
    {
      "cell_type": "code",
      "metadata": {
        "id": "cSZCLkNXY7ul",
        "colab": {
          "base_uri": "https://localhost:8080/"
        },
        "outputId": "72073e80-08cd-46dc-95f7-e67c4a106967"
      },
      "source": [
        "# Sampel the data and get dimensions\r\n",
        "image_sample, label_sample = get_data(0)\r\n",
        "image_dims = image_sample.shape\r\n",
        "label_dims = label_sample.shape\r\n",
        "print(image_dims)\r\n",
        "print(label_dims)"
      ],
      "execution_count": 19,
      "outputs": [
        {
          "output_type": "stream",
          "text": [
            "(240, 240, 155, 4)\n",
            "(240, 240, 155, 4)\n"
          ],
          "name": "stdout"
        }
      ]
    },
    {
      "cell_type": "code",
      "metadata": {
        "id": "S-UOA1Ehnaxx",
        "colab": {
          "base_uri": "https://localhost:8080/"
        },
        "outputId": "ec2bb238-8c20-42b0-80d8-06c03df67e03"
      },
      "source": [
        "h, w, d, c = image_dims\r\n",
        "print(h, w, d, c)"
      ],
      "execution_count": 20,
      "outputs": [
        {
          "output_type": "stream",
          "text": [
            "240 240 155 4\n"
          ],
          "name": "stdout"
        }
      ]
    },
    {
      "cell_type": "code",
      "metadata": {
        "id": "Ff8tw_WSlhRE",
        "colab": {
          "base_uri": "https://localhost:8080/"
        },
        "outputId": "a98fd2c1-5aef-4eb6-d176-0b7f923d6e11"
      },
      "source": [
        "train_images = []\r\n",
        "train_labels = []\r\n",
        "val_images = []\r\n",
        "val_labels = []\r\n",
        "test_images = []\r\n",
        "test_labels = []\r\n",
        "train_portion = 0.6\r\n",
        "validation_portion = (1-train_portion)/2\r\n",
        "test_portion = (1-train_portion)/2\r\n",
        "print(train_portion)\r\n",
        "print(validation_portion)\r\n",
        "print(test_portion)"
      ],
      "execution_count": 21,
      "outputs": [
        {
          "output_type": "stream",
          "text": [
            "0.6\n",
            "0.2\n",
            "0.2\n"
          ],
          "name": "stdout"
        }
      ]
    },
    {
      "cell_type": "code",
      "metadata": {
        "id": "yzqYb5eDp7Ye"
      },
      "source": [
        "def get_bgrd_ratio(y):\r\n",
        "  return np.sum(y[:, :, 0]) / (y.shape[0] * y.shape[1])"
      ],
      "execution_count": 22,
      "outputs": []
    },
    {
      "cell_type": "code",
      "metadata": {
        "id": "TozQg70ex53u"
      },
      "source": [
        "mean = [-1 for i in range(c)]\r\n",
        "std = [-1 for i in range(c)]"
      ],
      "execution_count": 23,
      "outputs": []
    },
    {
      "cell_type": "code",
      "metadata": {
        "id": "QItSOhnOyWO4"
      },
      "source": [
        "def scale_image(image):\r\n",
        "  scaled_img = image\r\n",
        "  for i in range(image.shape[-1]):\r\n",
        "    scaled_img[:, :, i] -= mean[i]\r\n",
        "    scaled_img[:, :, i] /= std[i]\r\n",
        "  return scaled_image\r\n",
        "\r\n",
        "def scale_images(images):\r\n",
        "  scaled_imgs = images\r\n",
        "  for i in range(images.shape[-1]):\r\n",
        "    scaled_imgs[:, :, :, i] -= mean[i]\r\n",
        "    scaled_imgs[:, :, :, i] /= std[i]\r\n",
        "  return scaled_imgs"
      ],
      "execution_count": 24,
      "outputs": []
    },
    {
      "cell_type": "code",
      "metadata": {
        "id": "J9LnUupgzXQC"
      },
      "source": [
        "def get_mean_std(images):\r\n",
        "  for i in range(images.shape[-1]):\r\n",
        "    mean[i] = np.mean(images[:, :, :, i])\r\n",
        "    std[i] = np.std(images[:, :, :, i])\r\n",
        "    if std[i] == 0:\r\n",
        "      std[i] = 1"
      ],
      "execution_count": 25,
      "outputs": []
    },
    {
      "cell_type": "code",
      "metadata": {
        "id": "k8jfMX-I64DP"
      },
      "source": [
        "def get_all_bgrd():\r\n",
        "  bgrd = {i:0 for i in range(101)}\r\n",
        "  for i in range(dataset_size):\r\n",
        "    image_data, label_data = get_data(i)\r\n",
        "    for j in range(d):\r\n",
        "      label = label_data[:, :, j, :]\r\n",
        "      bgrd_ratio = int(get_bgrd_ratio(label)*100)\r\n",
        "      bgrd[bgrd_ratio] += 1\r\n",
        "  return bgrd"
      ],
      "execution_count": 26,
      "outputs": []
    },
    {
      "cell_type": "code",
      "metadata": {
        "id": "rWiZvNAn7YyZ"
      },
      "source": [
        "# bgrd = get_all_bgrd()"
      ],
      "execution_count": 27,
      "outputs": []
    },
    {
      "cell_type": "code",
      "metadata": {
        "id": "Xkyl-X6lhFu5"
      },
      "source": [
        "# print(bgrd)"
      ],
      "execution_count": 28,
      "outputs": []
    },
    {
      "cell_type": "code",
      "metadata": {
        "id": "8U3tFu0gmLbJ"
      },
      "source": [
        "# f = open(\"bgrd.pkl\",\"wb\")\n",
        "# pickle.dump(bgrd,f)\n",
        "# f.close()"
      ],
      "execution_count": 29,
      "outputs": []
    },
    {
      "cell_type": "code",
      "metadata": {
        "colab": {
          "base_uri": "https://localhost:8080/",
          "height": 0
        },
        "id": "oy8QUjSqlqjQ",
        "outputId": "c0341f55-9a22-47ec-b800-726790fc88c3"
      },
      "source": [
        "'''\n",
        "f = open(\"bgrd.pkl\", \"rb\")\n",
        "bgrd = pickle.load(f)\n",
        "print(bgrd)\n",
        "'''\n",
        "# print(tmp_bgrd==bgrd)"
      ],
      "execution_count": 30,
      "outputs": [
        {
          "output_type": "execute_result",
          "data": {
            "application/vnd.google.colaboratory.intrinsic+json": {
              "type": "string"
            },
            "text/plain": [
              "'\\nf = open(\"bgrd.pkl\", \"rb\")\\nbgrd = pickle.load(f)\\nprint(bgrd)\\n'"
            ]
          },
          "metadata": {
            "tags": []
          },
          "execution_count": 30
        }
      ]
    },
    {
      "cell_type": "code",
      "metadata": {
        "colab": {
          "base_uri": "https://localhost:8080/",
          "height": 0
        },
        "id": "zeeZeObxhqa7",
        "outputId": "b3e1ec2b-005c-4ffd-bd28-3cb9bb2c7350"
      },
      "source": [
        "'''\n",
        "print(bgrd)\n",
        "print(type(bgrd))\n",
        "'''"
      ],
      "execution_count": 31,
      "outputs": [
        {
          "output_type": "execute_result",
          "data": {
            "application/vnd.google.colaboratory.intrinsic+json": {
              "type": "string"
            },
            "text/plain": [
              "'\\nprint(bgrd)\\nprint(type(bgrd))\\n'"
            ]
          },
          "metadata": {
            "tags": []
          },
          "execution_count": 31
        }
      ]
    },
    {
      "cell_type": "code",
      "metadata": {
        "id": "Xme0zrDr-L2d",
        "colab": {
          "base_uri": "https://localhost:8080/",
          "height": 0
        },
        "outputId": "2e5e8b10-8086-44c8-8636-535658fa1930"
      },
      "source": [
        "'''\r\n",
        "values = list(bgrd.values())\r\n",
        "for i in range(101):\r\n",
        "  bgrd[i] = sum(values[:i+1])\r\n",
        "plt.bar(list(bgrd.keys())[90:], list(bgrd.values())[90:])\r\n",
        "plt.xlabel(\"Threshold\")\r\n",
        "plt.ylabel(\"Number of MRI scans that fall in that threshold\")\r\n",
        "'''"
      ],
      "execution_count": 32,
      "outputs": [
        {
          "output_type": "execute_result",
          "data": {
            "application/vnd.google.colaboratory.intrinsic+json": {
              "type": "string"
            },
            "text/plain": [
              "'\\nvalues = list(bgrd.values())\\nfor i in range(101):\\n  bgrd[i] = sum(values[:i+1])\\nplt.bar(list(bgrd.keys())[90:], list(bgrd.values())[90:])\\nplt.xlabel(\"Threshold\")\\nplt.ylabel(\"Number of MRI scans that fall in that threshold\")\\n'"
            ]
          },
          "metadata": {
            "tags": []
          },
          "execution_count": 32
        }
      ]
    },
    {
      "cell_type": "code",
      "metadata": {
        "id": "2DluFDlz-11E"
      },
      "source": [
        "# print(sum([bgrd[i] for i in range(93)]))"
      ],
      "execution_count": 33,
      "outputs": []
    },
    {
      "cell_type": "code",
      "metadata": {
        "id": "rKLeQY8GnMsA"
      },
      "source": [
        "# print(bgrd[92])"
      ],
      "execution_count": 34,
      "outputs": []
    },
    {
      "cell_type": "code",
      "metadata": {
        "id": "oKXQ1nfq3QP4",
        "colab": {
          "base_uri": "https://localhost:8080/",
          "height": 0
        },
        "outputId": "f069a1b9-ef64-43ba-cd24-dd93882558b4"
      },
      "source": [
        "'''\r\n",
        "def get_dataset(thr=0.92, max_tries=100, max_images_added=10):\r\n",
        "  images = []\r\n",
        "  labels = []\r\n",
        "  for i in range(dataset_size):\r\n",
        "    print(i, len(images))\r\n",
        "    image_data, label_data = get_data(i)\r\n",
        "    tries = 0\r\n",
        "    images_added = 0\r\n",
        "    while tries <= max_tries and images_added <= images_added:\r\n",
        "      j = np.random.randint(low=0, high=c)\r\n",
        "      label = label_data[:, :, j, :]\r\n",
        "      bgrd_ratio = get_bgrd_ratio(label)\r\n",
        "      if bgrd_ratio <= thr:\r\n",
        "        image = image_data[:, :, j, :]\r\n",
        "        images.append(image)\r\n",
        "        labels.append(label)\r\n",
        "        images_added += 1\r\n",
        "      tries += 1\r\n",
        "  return images, labels\r\n",
        "'''"
      ],
      "execution_count": 35,
      "outputs": [
        {
          "output_type": "execute_result",
          "data": {
            "application/vnd.google.colaboratory.intrinsic+json": {
              "type": "string"
            },
            "text/plain": [
              "'\\ndef get_dataset(thr=0.92, max_tries=100, max_images_added=10):\\n  images = []\\n  labels = []\\n  for i in range(dataset_size):\\n    print(i, len(images))\\n    image_data, label_data = get_data(i)\\n    tries = 0\\n    images_added = 0\\n    while tries <= max_tries and images_added <= images_added:\\n      j = np.random.randint(low=0, high=c)\\n      label = label_data[:, :, j, :]\\n      bgrd_ratio = get_bgrd_ratio(label)\\n      if bgrd_ratio <= thr:\\n        image = image_data[:, :, j, :]\\n        images.append(image)\\n        labels.append(label)\\n        images_added += 1\\n      tries += 1\\n  return images, labels\\n'"
            ]
          },
          "metadata": {
            "tags": []
          },
          "execution_count": 35
        }
      ]
    },
    {
      "cell_type": "code",
      "metadata": {
        "id": "F7C3GyxCmBlq"
      },
      "source": [
        "def get_dataset(thr=0.925):\r\n",
        "  images = []\r\n",
        "  labels = []\r\n",
        "  for i in range(dataset_size):\r\n",
        "    print(i, len(images))\r\n",
        "    image_data, label_data = get_data(i)\r\n",
        "    for j in range(d):\r\n",
        "      label = label_data[:, :, j, :]\r\n",
        "      bgrd_ratio = get_bgrd_ratio(label)\r\n",
        "      if bgrd_ratio <= thr:\r\n",
        "        image = image_data[:, :, j, :]\r\n",
        "        images.append(image)\r\n",
        "        labels.append(label)\r\n",
        "  return images, labels"
      ],
      "execution_count": 36,
      "outputs": []
    },
    {
      "cell_type": "code",
      "metadata": {
        "colab": {
          "base_uri": "https://localhost:8080/",
          "height": 0
        },
        "id": "1y3Z3CoHwaUx",
        "outputId": "66817d88-ffc3-49d0-b7cd-7f354e826e6b"
      },
      "source": [
        "'''\n",
        "def get_dataset(thr=0.93, max_slices=10):\n",
        "  images = []\n",
        "  labels = []\n",
        "  for i in range(dataset_size):\n",
        "    print(i, len(images))\n",
        "    image_data, label_data = get_data(i)\n",
        "    slice_idxs = list(range(d))\n",
        "    np.random.shuffle(slice_idxs)\n",
        "    j = 0\n",
        "    slices = 0\n",
        "    while j < d and slices < max_slices:\n",
        "      slice_idx = slice_idxs[j]\n",
        "      label = label_data[:, :, slice_idx, :]\n",
        "      bgrd_ratio = get_bgrd_ratio(label)\n",
        "      if bgrd_ratio <= thr:\n",
        "        image = image_data[:, :, slice_idx, :]\n",
        "        images.append(image)\n",
        "        labels.append(label)\n",
        "        slices += 1\n",
        "      j += 1\n",
        "  return images, lables\n",
        "'''"
      ],
      "execution_count": 37,
      "outputs": [
        {
          "output_type": "execute_result",
          "data": {
            "application/vnd.google.colaboratory.intrinsic+json": {
              "type": "string"
            },
            "text/plain": [
              "'\\ndef get_dataset(thr=0.93, max_slices=10):\\n  images = []\\n  labels = []\\n  for i in range(dataset_size):\\n    print(i, len(images))\\n    image_data, label_data = get_data(i)\\n    slice_idxs = list(range(d))\\n    np.random.shuffle(slice_idxs)\\n    j = 0\\n    slices = 0\\n    while j < d and slices < max_slices:\\n      slice_idx = slice_idxs[j]\\n      label = label_data[:, :, slice_idx, :]\\n      bgrd_ratio = get_bgrd_ratio(label)\\n      if bgrd_ratio <= thr:\\n        image = image_data[:, :, slice_idx, :]\\n        images.append(image)\\n        labels.append(label)\\n        slices += 1\\n      j += 1\\n  return images, lables\\n'"
            ]
          },
          "metadata": {
            "tags": []
          },
          "execution_count": 37
        }
      ]
    },
    {
      "cell_type": "code",
      "metadata": {
        "colab": {
          "base_uri": "https://localhost:8080/"
        },
        "id": "8lqyTkAIwVr7",
        "outputId": "ad228550-a12d-4b25-bda5-a5361f31c554"
      },
      "source": [
        "images, labels = get_dataset()\n",
        "print(len(images), len(labels))"
      ],
      "execution_count": 38,
      "outputs": [
        {
          "output_type": "stream",
          "text": [
            "0 0\n",
            "1 0\n",
            "2 0\n",
            "3 15\n",
            "4 15\n",
            "5 15\n",
            "6 15\n",
            "7 15\n",
            "8 15\n",
            "9 24\n",
            "10 24\n",
            "11 24\n",
            "12 24\n",
            "13 24\n",
            "14 24\n",
            "15 24\n",
            "16 41\n",
            "17 41\n",
            "18 41\n",
            "19 41\n",
            "20 41\n",
            "21 41\n",
            "22 41\n",
            "23 41\n",
            "24 50\n",
            "25 50\n",
            "26 50\n",
            "27 50\n",
            "28 50\n",
            "29 50\n",
            "30 50\n",
            "31 50\n",
            "32 50\n",
            "33 50\n",
            "34 50\n",
            "35 50\n",
            "36 50\n",
            "37 50\n",
            "38 50\n",
            "39 50\n",
            "40 50\n",
            "41 50\n",
            "42 50\n",
            "43 50\n",
            "44 50\n",
            "45 50\n",
            "46 50\n",
            "47 50\n",
            "48 50\n",
            "49 50\n",
            "50 50\n",
            "51 50\n",
            "52 79\n",
            "53 96\n",
            "54 96\n",
            "55 96\n",
            "56 96\n",
            "57 96\n",
            "58 96\n",
            "59 96\n",
            "60 96\n",
            "61 96\n",
            "62 96\n",
            "63 96\n",
            "64 96\n",
            "65 96\n",
            "66 96\n",
            "67 96\n",
            "68 96\n",
            "69 96\n",
            "70 96\n",
            "71 96\n",
            "72 97\n",
            "73 97\n",
            "74 97\n",
            "75 97\n",
            "76 97\n",
            "77 97\n",
            "78 97\n",
            "79 97\n",
            "80 97\n",
            "81 97\n",
            "82 97\n",
            "83 97\n",
            "84 97\n",
            "85 97\n",
            "86 97\n",
            "87 112\n",
            "88 112\n",
            "89 112\n",
            "90 112\n",
            "91 112\n",
            "92 112\n",
            "93 112\n",
            "94 112\n",
            "95 112\n",
            "96 112\n",
            "97 112\n",
            "98 112\n",
            "99 112\n",
            "100 112\n",
            "101 112\n",
            "102 112\n",
            "103 112\n",
            "104 112\n",
            "105 112\n",
            "106 112\n",
            "107 112\n",
            "108 117\n",
            "109 117\n",
            "110 117\n",
            "111 117\n",
            "112 117\n",
            "113 117\n",
            "114 117\n",
            "115 117\n",
            "116 117\n",
            "117 117\n",
            "118 117\n",
            "119 117\n",
            "120 117\n",
            "121 117\n",
            "122 117\n",
            "123 117\n",
            "124 117\n",
            "125 124\n",
            "126 124\n",
            "127 124\n",
            "128 124\n",
            "129 124\n",
            "130 124\n",
            "131 124\n",
            "132 124\n",
            "133 124\n",
            "134 124\n",
            "135 124\n",
            "136 124\n",
            "137 124\n",
            "138 124\n",
            "139 124\n",
            "140 124\n",
            "141 124\n",
            "142 124\n",
            "143 124\n",
            "144 124\n",
            "145 124\n",
            "146 124\n",
            "147 124\n",
            "148 124\n",
            "149 124\n",
            "150 124\n",
            "151 124\n",
            "152 124\n",
            "153 124\n",
            "154 124\n",
            "155 124\n",
            "156 124\n",
            "157 131\n",
            "158 131\n",
            "159 131\n",
            "160 131\n",
            "161 151\n",
            "162 151\n",
            "163 151\n",
            "164 151\n",
            "165 151\n",
            "166 151\n",
            "167 151\n",
            "168 151\n",
            "169 151\n",
            "170 172\n",
            "171 172\n",
            "172 172\n",
            "173 174\n",
            "174 174\n",
            "175 174\n",
            "176 174\n",
            "177 182\n",
            "178 182\n",
            "179 182\n",
            "180 182\n",
            "181 182\n",
            "182 182\n",
            "183 182\n",
            "184 182\n",
            "185 182\n",
            "186 182\n",
            "187 221\n",
            "188 221\n",
            "189 234\n",
            "190 234\n",
            "191 234\n",
            "192 234\n",
            "193 234\n",
            "194 234\n",
            "195 234\n",
            "196 234\n",
            "197 234\n",
            "198 236\n",
            "199 236\n",
            "200 236\n",
            "201 236\n",
            "202 236\n",
            "203 236\n",
            "204 236\n",
            "205 236\n",
            "206 236\n",
            "207 236\n",
            "208 236\n",
            "209 236\n",
            "210 236\n",
            "211 236\n",
            "212 236\n",
            "213 236\n",
            "214 236\n",
            "215 249\n",
            "216 249\n",
            "217 249\n",
            "218 256\n",
            "219 256\n",
            "220 256\n",
            "221 256\n",
            "222 256\n",
            "223 256\n",
            "224 256\n",
            "225 256\n",
            "226 256\n",
            "227 256\n",
            "228 256\n",
            "229 256\n",
            "230 256\n",
            "231 256\n",
            "232 256\n",
            "233 256\n",
            "234 256\n",
            "235 256\n",
            "236 256\n",
            "237 256\n",
            "238 271\n",
            "239 271\n",
            "240 271\n",
            "241 271\n",
            "242 286\n",
            "243 286\n",
            "244 286\n",
            "245 286\n",
            "246 286\n",
            "247 291\n",
            "248 310\n",
            "249 310\n",
            "250 310\n",
            "251 310\n",
            "252 310\n",
            "253 310\n",
            "254 310\n",
            "255 310\n",
            "256 310\n",
            "257 310\n",
            "258 310\n",
            "259 342\n",
            "260 359\n",
            "261 359\n",
            "262 359\n",
            "263 359\n",
            "264 359\n",
            "265 359\n",
            "266 359\n",
            "267 359\n",
            "268 359\n",
            "269 391\n",
            "270 391\n",
            "271 406\n",
            "272 406\n",
            "273 406\n",
            "274 406\n",
            "275 406\n",
            "276 406\n",
            "277 406\n",
            "278 438\n",
            "279 438\n",
            "280 438\n",
            "281 438\n",
            "282 438\n",
            "283 439\n",
            "284 439\n",
            "285 439\n",
            "286 439\n",
            "287 439\n",
            "288 439\n",
            "289 439\n",
            "290 439\n",
            "291 439\n",
            "292 439\n",
            "293 462\n",
            "294 462\n",
            "295 470\n",
            "296 470\n",
            "297 470\n",
            "298 470\n",
            "299 470\n",
            "300 470\n",
            "301 470\n",
            "302 470\n",
            "303 470\n",
            "304 470\n",
            "305 470\n",
            "306 470\n",
            "307 470\n",
            "308 470\n",
            "309 470\n",
            "310 470\n",
            "311 470\n",
            "312 470\n",
            "313 470\n",
            "314 470\n",
            "315 470\n",
            "316 470\n",
            "317 470\n",
            "318 470\n",
            "319 470\n",
            "320 470\n",
            "321 470\n",
            "322 485\n",
            "323 485\n",
            "324 511\n",
            "325 511\n",
            "326 511\n",
            "327 511\n",
            "328 511\n",
            "329 511\n",
            "330 511\n",
            "331 511\n",
            "332 511\n",
            "333 511\n",
            "334 511\n",
            "335 511\n",
            "336 511\n",
            "337 511\n",
            "338 511\n",
            "339 511\n",
            "340 530\n",
            "341 530\n",
            "342 530\n",
            "343 549\n",
            "344 549\n",
            "345 549\n",
            "346 549\n",
            "347 549\n",
            "348 549\n",
            "349 549\n",
            "350 549\n",
            "351 549\n",
            "352 549\n",
            "353 549\n",
            "354 549\n",
            "355 549\n",
            "356 549\n",
            "357 549\n",
            "358 575\n",
            "359 590\n",
            "360 590\n",
            "361 590\n",
            "362 590\n",
            "363 590\n",
            "364 590\n",
            "365 590\n",
            "366 590\n",
            "367 590\n",
            "368 590\n",
            "369 590\n",
            "370 590\n",
            "371 590\n",
            "372 590\n",
            "373 590\n",
            "374 590\n",
            "375 590\n",
            "376 590\n",
            "377 590\n",
            "378 590\n",
            "379 590\n",
            "380 590\n",
            "381 590\n",
            "382 590\n",
            "383 590\n",
            "384 602\n",
            "385 602\n",
            "386 602\n",
            "387 602\n",
            "388 602\n",
            "389 602\n",
            "390 602\n",
            "391 602\n",
            "392 602\n",
            "393 602\n",
            "394 602\n",
            "395 602\n",
            "396 602\n",
            "397 602\n",
            "398 602\n",
            "399 602\n",
            "400 602\n",
            "401 602\n",
            "402 602\n",
            "403 602\n",
            "404 621\n",
            "405 621\n",
            "406 621\n",
            "407 621\n",
            "408 621\n",
            "409 621\n",
            "410 621\n",
            "411 621\n",
            "412 621\n",
            "413 621\n",
            "414 621\n",
            "415 621\n",
            "416 621\n",
            "417 621\n",
            "418 621\n",
            "419 621\n",
            "420 621\n",
            "421 621\n",
            "422 621\n",
            "423 621\n",
            "424 621\n",
            "425 621\n",
            "426 621\n",
            "427 621\n",
            "428 621\n",
            "429 621\n",
            "430 621\n",
            "431 621\n",
            "432 621\n",
            "433 621\n",
            "434 621\n",
            "435 621\n",
            "436 621\n",
            "437 621\n",
            "438 621\n",
            "439 621\n",
            "440 621\n",
            "441 621\n",
            "442 621\n",
            "443 621\n",
            "444 621\n",
            "445 621\n",
            "446 621\n",
            "447 621\n",
            "448 621\n",
            "449 621\n",
            "450 621\n",
            "451 621\n",
            "452 621\n",
            "453 621\n",
            "454 621\n",
            "455 621\n",
            "456 621\n",
            "457 621\n",
            "458 621\n",
            "459 621\n",
            "460 621\n",
            "461 621\n",
            "462 621\n",
            "463 621\n",
            "464 621\n",
            "465 621\n",
            "466 621\n",
            "467 621\n",
            "468 621\n",
            "469 621\n",
            "470 621\n",
            "471 621\n",
            "472 621\n",
            "473 621\n",
            "474 621\n",
            "475 621\n",
            "476 624\n",
            "477 624\n",
            "478 624\n",
            "479 624\n",
            "480 624\n",
            "481 624\n",
            "482 624\n",
            "483 624\n",
            "624 624\n"
          ],
          "name": "stdout"
        }
      ]
    },
    {
      "cell_type": "code",
      "metadata": {
        "id": "AwyHSDRDQ9FA"
      },
      "source": [
        "train_images, val_images, train_labels, val_labels = train_test_split(\r\n",
        "    images, labels, test_size=(validation_portion+test_portion), shuffle=True\r\n",
        ")\r\n",
        "val_images, test_images, val_labels, test_labels = train_test_split(\r\n",
        "    val_images, val_labels, test_size=test_portion/(validation_portion+test_portion), shuffle=True\r\n",
        ")"
      ],
      "execution_count": 39,
      "outputs": []
    },
    {
      "cell_type": "code",
      "metadata": {
        "id": "Gh-0gVvJTQSm",
        "colab": {
          "base_uri": "https://localhost:8080/"
        },
        "outputId": "107d0197-438f-43e3-aad9-fb7e50983cdc"
      },
      "source": [
        "print(train_portion, len(train_images)/len(images))\r\n",
        "print(validation_portion, len(val_images)/len(images))\r\n",
        "print(test_portion, len(test_images)/len(images))"
      ],
      "execution_count": 40,
      "outputs": [
        {
          "output_type": "stream",
          "text": [
            "0.6 0.5993589743589743\n",
            "0.2 0.20032051282051283\n",
            "0.2 0.20032051282051283\n"
          ],
          "name": "stdout"
        }
      ]
    },
    {
      "cell_type": "code",
      "metadata": {
        "id": "G8px3HEpTsLO"
      },
      "source": [
        "get_mean_std(np.array(train_images))"
      ],
      "execution_count": 41,
      "outputs": []
    },
    {
      "cell_type": "code",
      "metadata": {
        "id": "txwhXx8HUhB5"
      },
      "source": [
        "train_images = scale_images(np.array(train_images))\r\n",
        "val_images = scale_images(np.array(val_images))\r\n",
        "test_images = scale_images(np.array(test_images))"
      ],
      "execution_count": 42,
      "outputs": []
    },
    {
      "cell_type": "code",
      "metadata": {
        "id": "hshjHfzsWAS_",
        "colab": {
          "base_uri": "https://localhost:8080/"
        },
        "outputId": "1998d682-0acc-4aca-902e-5c0e1393cd02"
      },
      "source": [
        "for i in range(train_images.shape[-1]):\r\n",
        "  print(f\"Scaled mean of training set for channel {i}: {np.mean(train_images[:, :, :, i])}\")\r\n",
        "  print(f\"Scaled standard deviation of training set for channel {i}: {np.std(train_images[:, :, :, i])}\")"
      ],
      "execution_count": 43,
      "outputs": [
        {
          "output_type": "stream",
          "text": [
            "Scaled mean of training set for channel 0: 1.0546261164163578e-16\n",
            "Scaled standard deviation of training set for channel 0: 1.000000000000002\n",
            "Scaled mean of training set for channel 1: 1.1424412614182003e-16\n",
            "Scaled standard deviation of training set for channel 1: 0.9999999999999848\n",
            "Scaled mean of training set for channel 2: 3.248738176871046e-17\n",
            "Scaled standard deviation of training set for channel 2: 0.9999999999999891\n",
            "Scaled mean of training set for channel 3: 7.265858872508214e-17\n",
            "Scaled standard deviation of training set for channel 3: 0.9999999999999933\n"
          ],
          "name": "stdout"
        }
      ]
    },
    {
      "cell_type": "code",
      "metadata": {
        "id": "kC8MjlFEaY-N",
        "colab": {
          "base_uri": "https://localhost:8080/"
        },
        "outputId": "84662e80-cac0-4dcd-9615-d4dbd6c15167"
      },
      "source": [
        "for i in range(val_images.shape[-1]):\r\n",
        "  print(f\"Scaled mean of validation set for channel {i}: {np.mean(val_images[:, :, :, i])}\")\r\n",
        "  print(f\"Scaled standard deviation of validation set for channel {i}: {np.std(val_images[:, :, :, i])}\")"
      ],
      "execution_count": 44,
      "outputs": [
        {
          "output_type": "stream",
          "text": [
            "Scaled mean of validation set for channel 0: -0.03903066956007368\n",
            "Scaled standard deviation of validation set for channel 0: 0.9470691363478816\n",
            "Scaled mean of validation set for channel 1: -0.035817229634153444\n",
            "Scaled standard deviation of validation set for channel 1: 0.9445467316536468\n",
            "Scaled mean of validation set for channel 2: -0.04378448720473554\n",
            "Scaled standard deviation of validation set for channel 2: 0.9315716224858833\n",
            "Scaled mean of validation set for channel 3: -0.024016119693695152\n",
            "Scaled standard deviation of validation set for channel 3: 0.9591271117552692\n"
          ],
          "name": "stdout"
        }
      ]
    },
    {
      "cell_type": "code",
      "metadata": {
        "id": "ucD_HfvwaiAG",
        "colab": {
          "base_uri": "https://localhost:8080/"
        },
        "outputId": "2eb60081-a271-4ba6-c551-2e6ed3bfcc71"
      },
      "source": [
        "for i in range(test_images.shape[-1]):\r\n",
        "  print(f\"Scaled mean of test set for channel {i}: {np.mean(test_images[:, :, :, i])}\")\r\n",
        "  print(f\"Scaled standard deviation of test set for channel {i}: {np.std(train_images[:, :, :, i])}\")"
      ],
      "execution_count": 45,
      "outputs": [
        {
          "output_type": "stream",
          "text": [
            "Scaled mean of test set for channel 0: -0.011957827511475802\n",
            "Scaled standard deviation of test set for channel 0: 1.000000000000002\n",
            "Scaled mean of test set for channel 1: 0.0009056083254711935\n",
            "Scaled standard deviation of test set for channel 1: 0.9999999999999848\n",
            "Scaled mean of test set for channel 2: 0.006434133551989895\n",
            "Scaled standard deviation of test set for channel 2: 0.9999999999999891\n",
            "Scaled mean of test set for channel 3: 0.01766193804930505\n",
            "Scaled standard deviation of test set for channel 3: 0.9999999999999933\n"
          ],
          "name": "stdout"
        }
      ]
    },
    {
      "cell_type": "code",
      "metadata": {
        "id": "Rxn0QrfdZgSN"
      },
      "source": [
        "np.save('train_images.npy', train_images)\r\n",
        "np.save('train_labels.npy', train_labels)\r\n",
        "np.save('val_images.npy', val_images)\r\n",
        "np.save('val_labels.npy', val_labels)\r\n",
        "np.save('test_images.npy', test_images)\r\n",
        "np.save('test_labels.npy', test_labels)"
      ],
      "execution_count": 46,
      "outputs": []
    },
    {
      "cell_type": "code",
      "metadata": {
        "id": "CdH5fl1dawk0"
      },
      "source": [
        "np.save('mean.npy', mean)\r\n",
        "np.save('std.npy', std)"
      ],
      "execution_count": 47,
      "outputs": []
    },
    {
      "cell_type": "markdown",
      "metadata": {
        "id": "_Rwia7yVcbWb"
      },
      "source": [
        "# Load Data"
      ]
    },
    {
      "cell_type": "code",
      "metadata": {
        "id": "LJFKOzwDchAd"
      },
      "source": [
        "train_images = np.load('train_images.npy')\r\n",
        "train_labels = np.load('train_labels.npy')\r\n",
        "val_images = np.load('val_images.npy')\r\n",
        "val_labels = np.load('val_labels.npy')\r\n",
        "test_images = np.load('test_images.npy')\r\n",
        "test_labels = np.load('test_labels.npy')\r\n",
        "mean = np.load('mean.npy')\r\n",
        "std = np.load('std.npy')\r\n",
        "n_labels = train_labels[0].shape[-1]"
      ],
      "execution_count": 14,
      "outputs": []
    },
    {
      "cell_type": "markdown",
      "metadata": {
        "id": "pgzBsTHubkAC"
      },
      "source": [
        "# Model Training"
      ]
    },
    {
      "cell_type": "code",
      "metadata": {
        "id": "dSY3HrrVbzs4"
      },
      "source": [
        "max_unet_depth = 5\r\n",
        "models = [unet(i, n_labels=n_labels) for i in range(2, max_unet_depth+1)]\r\n",
        "histories = [None for i in range(2, max_unet_depth+1)]"
      ],
      "execution_count": 332,
      "outputs": []
    },
    {
      "cell_type": "code",
      "metadata": {
        "id": "PX7GkTrfF3Gg",
        "colab": {
          "base_uri": "https://localhost:8080/"
        },
        "outputId": "22b82e63-a8c4-4028-ae65-ac0431c5fac9"
      },
      "source": [
        "models[0].summary()"
      ],
      "execution_count": 333,
      "outputs": [
        {
          "output_type": "stream",
          "text": [
            "Model: \"model_4\"\n",
            "__________________________________________________________________________________________________\n",
            "Layer (type)                    Output Shape         Param #     Connected to                     \n",
            "==================================================================================================\n",
            "input_5 (InputLayer)            [(None, 240, 240, 4) 0                                            \n",
            "__________________________________________________________________________________________________\n",
            "conv2d_66 (Conv2D)              (None, 240, 240, 64) 2368        input_5[0][0]                    \n",
            "__________________________________________________________________________________________________\n",
            "conv2d_67 (Conv2D)              (None, 240, 240, 64) 36928       conv2d_66[0][0]                  \n",
            "__________________________________________________________________________________________________\n",
            "dropout_8 (Dropout)             (None, 240, 240, 64) 0           conv2d_67[0][0]                  \n",
            "__________________________________________________________________________________________________\n",
            "max_pooling2d_10 (MaxPooling2D) (None, 120, 120, 64) 0           dropout_8[0][0]                  \n",
            "__________________________________________________________________________________________________\n",
            "conv2d_68 (Conv2D)              (None, 120, 120, 128 73856       max_pooling2d_10[0][0]           \n",
            "__________________________________________________________________________________________________\n",
            "conv2d_69 (Conv2D)              (None, 120, 120, 128 147584      conv2d_68[0][0]                  \n",
            "__________________________________________________________________________________________________\n",
            "dropout_9 (Dropout)             (None, 120, 120, 128 0           conv2d_69[0][0]                  \n",
            "__________________________________________________________________________________________________\n",
            "up_sampling2d_10 (UpSampling2D) (None, 240, 240, 128 0           dropout_9[0][0]                  \n",
            "__________________________________________________________________________________________________\n",
            "conv2d_70 (Conv2D)              (None, 240, 240, 64) 32832       up_sampling2d_10[0][0]           \n",
            "__________________________________________________________________________________________________\n",
            "concatenate_10 (Concatenate)    (None, 240, 240, 128 0           conv2d_67[0][0]                  \n",
            "                                                                 conv2d_70[0][0]                  \n",
            "__________________________________________________________________________________________________\n",
            "conv2d_71 (Conv2D)              (None, 240, 240, 64) 73792       concatenate_10[0][0]             \n",
            "__________________________________________________________________________________________________\n",
            "conv2d_72 (Conv2D)              (None, 240, 240, 64) 36928       conv2d_71[0][0]                  \n",
            "__________________________________________________________________________________________________\n",
            "conv2d_73 (Conv2D)              (None, 240, 240, 2)  1154        conv2d_72[0][0]                  \n",
            "__________________________________________________________________________________________________\n",
            "conv2d_74 (Conv2D)              (None, 240, 240, 4)  12          conv2d_73[0][0]                  \n",
            "==================================================================================================\n",
            "Total params: 405,454\n",
            "Trainable params: 405,454\n",
            "Non-trainable params: 0\n",
            "__________________________________________________________________________________________________\n"
          ],
          "name": "stdout"
        }
      ]
    },
    {
      "cell_type": "code",
      "metadata": {
        "id": "hRux4i4u-D1X"
      },
      "source": [
        "train_labels = np.array(train_labels)\n",
        "val_labels = np.array(val_labels)\n",
        "test_labels = np.array(test_labels)"
      ],
      "execution_count": 334,
      "outputs": []
    },
    {
      "cell_type": "code",
      "metadata": {
        "colab": {
          "base_uri": "https://localhost:8080/"
        },
        "id": "UdtVcVqi-Mxo",
        "outputId": "3a82b180-ecb7-4b2a-fed1-adb73c3b692d"
      },
      "source": [
        "'''\n",
        "a = np.array([1, 2, 3])\n",
        "print(a, a.shape, type(a))\n",
        "a = np.array(a)\n",
        "print(a, a.shape, type(a))\n",
        "'''"
      ],
      "execution_count": 55,
      "outputs": [
        {
          "output_type": "stream",
          "text": [
            "[1 2 3] (3,) <class 'numpy.ndarray'>\n",
            "[1 2 3] (3,) <class 'numpy.ndarray'>\n"
          ],
          "name": "stdout"
        }
      ]
    },
    {
      "cell_type": "code",
      "metadata": {
        "id": "RUcwfYoXHBET",
        "colab": {
          "base_uri": "https://localhost:8080/"
        },
        "outputId": "18cd2945-5ab5-4360-c086-97fc049a8ba0"
      },
      "source": [
        "print(train_images[0].shape)\r\n",
        "print(test_images[0].shape)"
      ],
      "execution_count": 335,
      "outputs": [
        {
          "output_type": "stream",
          "text": [
            "(240, 240, 4)\n",
            "(240, 240, 4)\n"
          ],
          "name": "stdout"
        }
      ]
    },
    {
      "cell_type": "code",
      "metadata": {
        "colab": {
          "base_uri": "https://localhost:8080/"
        },
        "id": "4MuebUDg93nn",
        "outputId": "7976dae6-0638-4459-e1a3-fa17a8343dbb"
      },
      "source": [
        "print(train_images.shape)"
      ],
      "execution_count": 336,
      "outputs": [
        {
          "output_type": "stream",
          "text": [
            "(374, 240, 240, 4)\n"
          ],
          "name": "stdout"
        }
      ]
    },
    {
      "cell_type": "code",
      "metadata": {
        "id": "5qv2AwyYdfNg"
      },
      "source": [
        "epochs = 20\r\n",
        "batch_size = 20"
      ],
      "execution_count": 338,
      "outputs": []
    },
    {
      "cell_type": "code",
      "metadata": {
        "id": "livEs6F-G9TA",
        "colab": {
          "base_uri": "https://localhost:8080/"
        },
        "outputId": "a9f347a1-7f4c-4c85-e251-83a85f86bfce"
      },
      "source": [
        "for i in range(max_unet_depth-1):\r\n",
        "  histories[i] = models[i].fit(train_images, train_labels, validation_data=(val_images, val_labels), epochs=epochs, batch_size=batch_size)\r\n",
        "  models[i].save(f'model{i}')\r\n",
        "  hist_df = pd.DataFrame(histories[i].history)\r\n",
        "  hist_csv_file = f'history{i}.csv'\r\n",
        "  with open(hist_csv_file, mode='w') as f:\r\n",
        "    hist_df.to_csv(f)"
      ],
      "execution_count": 339,
      "outputs": [
        {
          "output_type": "stream",
          "text": [
            "Epoch 1/20\n",
            "19/19 [==============================] - 5s 186ms/step - loss: 0.6386 - dice_coefficient: 0.2628 - val_loss: 0.4833 - val_dice_coefficient: 0.3816\n",
            "Epoch 2/20\n",
            "19/19 [==============================] - 3s 173ms/step - loss: 0.4480 - dice_coefficient: 0.4341 - val_loss: 0.4406 - val_dice_coefficient: 0.4292\n",
            "Epoch 3/20\n",
            "19/19 [==============================] - 3s 173ms/step - loss: 0.4270 - dice_coefficient: 0.4568 - val_loss: 0.4421 - val_dice_coefficient: 0.4267\n",
            "Epoch 4/20\n",
            "19/19 [==============================] - 3s 173ms/step - loss: 0.4212 - dice_coefficient: 0.4601 - val_loss: 0.4399 - val_dice_coefficient: 0.4267\n",
            "Epoch 5/20\n",
            "19/19 [==============================] - 3s 173ms/step - loss: 0.4138 - dice_coefficient: 0.4621 - val_loss: 0.4230 - val_dice_coefficient: 0.4426\n",
            "Epoch 6/20\n",
            "19/19 [==============================] - 3s 173ms/step - loss: 0.4064 - dice_coefficient: 0.4685 - val_loss: 0.4227 - val_dice_coefficient: 0.4404\n",
            "Epoch 7/20\n",
            "19/19 [==============================] - 3s 173ms/step - loss: 0.4049 - dice_coefficient: 0.4691 - val_loss: 0.4301 - val_dice_coefficient: 0.4349\n",
            "Epoch 8/20\n",
            "19/19 [==============================] - 3s 172ms/step - loss: 0.3993 - dice_coefficient: 0.4711 - val_loss: 0.4173 - val_dice_coefficient: 0.4451\n",
            "Epoch 9/20\n",
            "19/19 [==============================] - 3s 175ms/step - loss: 0.3920 - dice_coefficient: 0.4766 - val_loss: 0.4122 - val_dice_coefficient: 0.4483\n",
            "Epoch 10/20\n",
            "19/19 [==============================] - 3s 174ms/step - loss: 0.3956 - dice_coefficient: 0.4744 - val_loss: 0.4282 - val_dice_coefficient: 0.4343\n",
            "Epoch 11/20\n",
            "19/19 [==============================] - 3s 175ms/step - loss: 0.3982 - dice_coefficient: 0.4700 - val_loss: 0.4270 - val_dice_coefficient: 0.4334\n",
            "Epoch 12/20\n",
            "19/19 [==============================] - 3s 174ms/step - loss: 0.3951 - dice_coefficient: 0.4728 - val_loss: 0.4021 - val_dice_coefficient: 0.4548\n",
            "Epoch 13/20\n",
            "19/19 [==============================] - 3s 174ms/step - loss: 0.3899 - dice_coefficient: 0.4775 - val_loss: 0.4059 - val_dice_coefficient: 0.4517\n",
            "Epoch 14/20\n",
            "19/19 [==============================] - 3s 173ms/step - loss: 0.3870 - dice_coefficient: 0.4793 - val_loss: 0.4074 - val_dice_coefficient: 0.4497\n",
            "Epoch 15/20\n",
            "19/19 [==============================] - 3s 174ms/step - loss: 0.3798 - dice_coefficient: 0.4847 - val_loss: 0.4034 - val_dice_coefficient: 0.4556\n",
            "Epoch 16/20\n",
            "19/19 [==============================] - 3s 175ms/step - loss: 0.3809 - dice_coefficient: 0.4849 - val_loss: 0.3950 - val_dice_coefficient: 0.4606\n",
            "Epoch 17/20\n",
            "19/19 [==============================] - 3s 174ms/step - loss: 0.3821 - dice_coefficient: 0.4829 - val_loss: 0.3979 - val_dice_coefficient: 0.4573\n",
            "Epoch 18/20\n",
            "19/19 [==============================] - 3s 174ms/step - loss: 0.3809 - dice_coefficient: 0.4833 - val_loss: 0.4143 - val_dice_coefficient: 0.4433\n",
            "Epoch 19/20\n",
            "19/19 [==============================] - 3s 174ms/step - loss: 0.3838 - dice_coefficient: 0.4825 - val_loss: 0.3986 - val_dice_coefficient: 0.4571\n",
            "Epoch 20/20\n",
            "19/19 [==============================] - 3s 173ms/step - loss: 0.3778 - dice_coefficient: 0.4880 - val_loss: 0.3917 - val_dice_coefficient: 0.4630\n",
            "INFO:tensorflow:Assets written to: softmax_model0/assets\n",
            "Epoch 1/20\n",
            "19/19 [==============================] - 6s 275ms/step - loss: 0.6682 - dice_coefficient: 0.2678 - val_loss: 0.5535 - val_dice_coefficient: 0.3468\n",
            "Epoch 2/20\n",
            "19/19 [==============================] - 5s 249ms/step - loss: 0.5050 - dice_coefficient: 0.4162 - val_loss: 0.4679 - val_dice_coefficient: 0.4546\n",
            "Epoch 3/20\n",
            "19/19 [==============================] - 5s 249ms/step - loss: 0.4640 - dice_coefficient: 0.4794 - val_loss: 0.4765 - val_dice_coefficient: 0.4568\n",
            "Epoch 4/20\n",
            "19/19 [==============================] - 5s 250ms/step - loss: 0.4482 - dice_coefficient: 0.4969 - val_loss: 0.4696 - val_dice_coefficient: 0.4603\n",
            "Epoch 5/20\n",
            "19/19 [==============================] - 5s 250ms/step - loss: 0.4404 - dice_coefficient: 0.5056 - val_loss: 0.4601 - val_dice_coefficient: 0.4706\n",
            "Epoch 6/20\n",
            "19/19 [==============================] - 5s 250ms/step - loss: 0.4293 - dice_coefficient: 0.5201 - val_loss: 0.4255 - val_dice_coefficient: 0.5104\n",
            "Epoch 7/20\n",
            "19/19 [==============================] - 5s 250ms/step - loss: 0.4316 - dice_coefficient: 0.5232 - val_loss: 0.4294 - val_dice_coefficient: 0.5041\n",
            "Epoch 8/20\n",
            "19/19 [==============================] - 5s 249ms/step - loss: 0.4148 - dice_coefficient: 0.5374 - val_loss: 0.4327 - val_dice_coefficient: 0.4970\n",
            "Epoch 9/20\n",
            "19/19 [==============================] - 5s 250ms/step - loss: 0.4071 - dice_coefficient: 0.5478 - val_loss: 0.4188 - val_dice_coefficient: 0.5138\n",
            "Epoch 10/20\n",
            "19/19 [==============================] - 5s 250ms/step - loss: 0.4030 - dice_coefficient: 0.5520 - val_loss: 0.4217 - val_dice_coefficient: 0.5126\n",
            "Epoch 11/20\n",
            "19/19 [==============================] - 5s 250ms/step - loss: 0.4076 - dice_coefficient: 0.5499 - val_loss: 0.4207 - val_dice_coefficient: 0.5124\n",
            "Epoch 12/20\n",
            "19/19 [==============================] - 5s 251ms/step - loss: 0.3995 - dice_coefficient: 0.5587 - val_loss: 0.4189 - val_dice_coefficient: 0.5141\n",
            "Epoch 13/20\n",
            "19/19 [==============================] - 5s 250ms/step - loss: 0.3883 - dice_coefficient: 0.5708 - val_loss: 0.4230 - val_dice_coefficient: 0.5112\n",
            "Epoch 14/20\n",
            "19/19 [==============================] - 5s 250ms/step - loss: 0.3921 - dice_coefficient: 0.5693 - val_loss: 0.4105 - val_dice_coefficient: 0.5248\n",
            "Epoch 15/20\n",
            "19/19 [==============================] - 5s 250ms/step - loss: 0.3892 - dice_coefficient: 0.5703 - val_loss: 0.3982 - val_dice_coefficient: 0.5410\n",
            "Epoch 16/20\n",
            "19/19 [==============================] - 5s 251ms/step - loss: 0.3877 - dice_coefficient: 0.5727 - val_loss: 0.4044 - val_dice_coefficient: 0.5312\n",
            "Epoch 17/20\n",
            "19/19 [==============================] - 5s 251ms/step - loss: 0.3845 - dice_coefficient: 0.5750 - val_loss: 0.3993 - val_dice_coefficient: 0.5361\n",
            "Epoch 18/20\n",
            "19/19 [==============================] - 5s 252ms/step - loss: 0.3826 - dice_coefficient: 0.5772 - val_loss: 0.3982 - val_dice_coefficient: 0.5390\n",
            "Epoch 19/20\n",
            "19/19 [==============================] - 5s 251ms/step - loss: 0.3843 - dice_coefficient: 0.5739 - val_loss: 0.4154 - val_dice_coefficient: 0.5273\n",
            "Epoch 20/20\n",
            "19/19 [==============================] - 5s 250ms/step - loss: 0.3784 - dice_coefficient: 0.5811 - val_loss: 0.3917 - val_dice_coefficient: 0.5539\n",
            "INFO:tensorflow:Assets written to: softmax_model1/assets\n",
            "Epoch 1/20\n",
            "19/19 [==============================] - 8s 334ms/step - loss: 0.6868 - dice_coefficient: 0.2550 - val_loss: 0.5877 - val_dice_coefficient: 0.3514\n",
            "Epoch 2/20\n",
            "19/19 [==============================] - 6s 317ms/step - loss: 0.5870 - dice_coefficient: 0.3684 - val_loss: 0.5648 - val_dice_coefficient: 0.3858\n",
            "Epoch 3/20\n",
            "19/19 [==============================] - 6s 317ms/step - loss: 0.5621 - dice_coefficient: 0.3980 - val_loss: 0.5932 - val_dice_coefficient: 0.3599\n",
            "Epoch 4/20\n",
            "19/19 [==============================] - 6s 316ms/step - loss: 0.5453 - dice_coefficient: 0.4183 - val_loss: 0.5681 - val_dice_coefficient: 0.3883\n",
            "Epoch 5/20\n",
            "19/19 [==============================] - 6s 317ms/step - loss: 0.5473 - dice_coefficient: 0.4188 - val_loss: 0.5599 - val_dice_coefficient: 0.3953\n",
            "Epoch 6/20\n",
            "19/19 [==============================] - 6s 317ms/step - loss: 0.5348 - dice_coefficient: 0.4330 - val_loss: 0.5736 - val_dice_coefficient: 0.3793\n",
            "Epoch 7/20\n",
            "19/19 [==============================] - 6s 318ms/step - loss: 0.5304 - dice_coefficient: 0.4405 - val_loss: 0.5552 - val_dice_coefficient: 0.4023\n",
            "Epoch 8/20\n",
            "19/19 [==============================] - 6s 318ms/step - loss: 0.5232 - dice_coefficient: 0.4491 - val_loss: 0.5323 - val_dice_coefficient: 0.4259\n",
            "Epoch 9/20\n",
            "19/19 [==============================] - 6s 317ms/step - loss: 0.5175 - dice_coefficient: 0.4550 - val_loss: 0.5562 - val_dice_coefficient: 0.4028\n",
            "Epoch 10/20\n",
            "19/19 [==============================] - 6s 317ms/step - loss: 0.5195 - dice_coefficient: 0.4552 - val_loss: 0.5552 - val_dice_coefficient: 0.4021\n",
            "Epoch 11/20\n",
            "19/19 [==============================] - 6s 319ms/step - loss: 0.5206 - dice_coefficient: 0.4548 - val_loss: 0.5352 - val_dice_coefficient: 0.4205\n",
            "Epoch 12/20\n",
            "19/19 [==============================] - 6s 319ms/step - loss: 0.5144 - dice_coefficient: 0.4611 - val_loss: 0.5167 - val_dice_coefficient: 0.4541\n",
            "Epoch 13/20\n",
            "19/19 [==============================] - 6s 318ms/step - loss: 0.5197 - dice_coefficient: 0.4585 - val_loss: 0.5530 - val_dice_coefficient: 0.4116\n",
            "Epoch 14/20\n",
            "19/19 [==============================] - 6s 317ms/step - loss: 0.5160 - dice_coefficient: 0.4631 - val_loss: 0.5493 - val_dice_coefficient: 0.4110\n",
            "Epoch 15/20\n",
            "19/19 [==============================] - 6s 318ms/step - loss: 0.5099 - dice_coefficient: 0.4695 - val_loss: 0.5397 - val_dice_coefficient: 0.4217\n",
            "Epoch 16/20\n",
            "19/19 [==============================] - 6s 318ms/step - loss: 0.5102 - dice_coefficient: 0.4695 - val_loss: 0.5460 - val_dice_coefficient: 0.4148\n",
            "Epoch 17/20\n",
            "19/19 [==============================] - 6s 318ms/step - loss: 0.5096 - dice_coefficient: 0.4701 - val_loss: 0.5220 - val_dice_coefficient: 0.4467\n",
            "Epoch 18/20\n",
            "19/19 [==============================] - 6s 318ms/step - loss: 0.5069 - dice_coefficient: 0.4741 - val_loss: 0.5141 - val_dice_coefficient: 0.4574\n",
            "Epoch 19/20\n",
            "19/19 [==============================] - 6s 318ms/step - loss: 0.5050 - dice_coefficient: 0.4769 - val_loss: 0.5347 - val_dice_coefficient: 0.4320\n",
            "Epoch 20/20\n",
            "19/19 [==============================] - 6s 318ms/step - loss: 0.5050 - dice_coefficient: 0.4772 - val_loss: 0.5275 - val_dice_coefficient: 0.4401\n",
            "INFO:tensorflow:Assets written to: softmax_model2/assets\n",
            "Epoch 1/20\n",
            "19/19 [==============================] - 9s 406ms/step - loss: 0.6332 - dice_coefficient: 0.2965 - val_loss: 0.4425 - val_dice_coefficient: 0.4178\n",
            "Epoch 2/20\n",
            "19/19 [==============================] - 7s 386ms/step - loss: 0.4123 - dice_coefficient: 0.4633 - val_loss: 0.3991 - val_dice_coefficient: 0.4787\n",
            "Epoch 3/20\n",
            "19/19 [==============================] - 7s 385ms/step - loss: 0.3714 - dice_coefficient: 0.5118 - val_loss: 0.3542 - val_dice_coefficient: 0.5231\n",
            "Epoch 4/20\n",
            "19/19 [==============================] - 7s 385ms/step - loss: 0.3374 - dice_coefficient: 0.5432 - val_loss: 0.3511 - val_dice_coefficient: 0.5189\n",
            "Epoch 5/20\n",
            "19/19 [==============================] - 7s 385ms/step - loss: 0.3110 - dice_coefficient: 0.5697 - val_loss: 0.3667 - val_dice_coefficient: 0.5021\n",
            "Epoch 6/20\n",
            "19/19 [==============================] - 7s 386ms/step - loss: 0.3040 - dice_coefficient: 0.5760 - val_loss: 0.3411 - val_dice_coefficient: 0.5335\n",
            "Epoch 7/20\n",
            "19/19 [==============================] - 7s 386ms/step - loss: 0.2890 - dice_coefficient: 0.5967 - val_loss: 0.3010 - val_dice_coefficient: 0.5661\n",
            "Epoch 8/20\n",
            "19/19 [==============================] - 7s 386ms/step - loss: 0.2659 - dice_coefficient: 0.6228 - val_loss: 0.3050 - val_dice_coefficient: 0.5689\n",
            "Epoch 9/20\n",
            "19/19 [==============================] - 7s 386ms/step - loss: 0.2623 - dice_coefficient: 0.6277 - val_loss: 0.2748 - val_dice_coefficient: 0.5976\n",
            "Epoch 10/20\n",
            "19/19 [==============================] - 7s 386ms/step - loss: 0.2466 - dice_coefficient: 0.6442 - val_loss: 0.2691 - val_dice_coefficient: 0.6118\n",
            "Epoch 11/20\n",
            "19/19 [==============================] - 7s 386ms/step - loss: 0.2401 - dice_coefficient: 0.6526 - val_loss: 0.2545 - val_dice_coefficient: 0.6219\n",
            "Epoch 12/20\n",
            "19/19 [==============================] - 7s 387ms/step - loss: 0.2404 - dice_coefficient: 0.6535 - val_loss: 0.2507 - val_dice_coefficient: 0.6255\n",
            "Epoch 13/20\n",
            "19/19 [==============================] - 7s 387ms/step - loss: 0.2293 - dice_coefficient: 0.6669 - val_loss: 0.2527 - val_dice_coefficient: 0.6251\n",
            "Epoch 14/20\n",
            "19/19 [==============================] - 7s 386ms/step - loss: 0.2276 - dice_coefficient: 0.6702 - val_loss: 0.2411 - val_dice_coefficient: 0.6354\n",
            "Epoch 15/20\n",
            "19/19 [==============================] - 7s 386ms/step - loss: 0.2252 - dice_coefficient: 0.6723 - val_loss: 0.2461 - val_dice_coefficient: 0.6290\n",
            "Epoch 16/20\n",
            "19/19 [==============================] - 7s 386ms/step - loss: 0.2232 - dice_coefficient: 0.6748 - val_loss: 0.2393 - val_dice_coefficient: 0.6404\n",
            "Epoch 17/20\n",
            "19/19 [==============================] - 7s 387ms/step - loss: 0.2206 - dice_coefficient: 0.6794 - val_loss: 0.2424 - val_dice_coefficient: 0.6412\n",
            "Epoch 18/20\n",
            "19/19 [==============================] - 7s 386ms/step - loss: 0.2202 - dice_coefficient: 0.6808 - val_loss: 0.2359 - val_dice_coefficient: 0.6479\n",
            "Epoch 19/20\n",
            "19/19 [==============================] - 7s 387ms/step - loss: 0.2146 - dice_coefficient: 0.6842 - val_loss: 0.2201 - val_dice_coefficient: 0.6643\n",
            "Epoch 20/20\n",
            "19/19 [==============================] - 7s 386ms/step - loss: 0.2120 - dice_coefficient: 0.6873 - val_loss: 0.2257 - val_dice_coefficient: 0.6623\n",
            "INFO:tensorflow:Assets written to: softmax_model3/assets\n"
          ],
          "name": "stdout"
        }
      ]
    },
    {
      "cell_type": "code",
      "metadata": {
        "id": "5nOhlrtmDJB1"
      },
      "source": [
        "for i in range(max_unet_depth-1):\n",
        "  histories[i] = histories[i].history"
      ],
      "execution_count": 354,
      "outputs": []
    },
    {
      "cell_type": "markdown",
      "metadata": {
        "id": "gvFnYj5ABijC"
      },
      "source": [
        "# Load Model and History\n",
        "\n"
      ]
    },
    {
      "cell_type": "code",
      "metadata": {
        "id": "a2MC8y26BsVo"
      },
      "source": [
        "max_unet_depth = 5\n",
        "models = [None for i in range(2, max_unet_depth+1)]\n",
        "histories = [None for i in range(2, max_unet_depth+1)]\n",
        "for i in range(max_unet_depth-1):\n",
        "  models[i] = keras.models.load_model(f\"model{i}\", custom_objects={'soft_dice_loss':soft_dice_loss, 'dice_coefficient':dice_coefficient})\n",
        "  histories[i] = pd.read_csv(f\"history{i}.csv\")"
      ],
      "execution_count": 409,
      "outputs": []
    },
    {
      "cell_type": "markdown",
      "metadata": {
        "id": "YuAz37587Ope"
      },
      "source": [
        "# Load Model and History (Softmax)"
      ]
    },
    {
      "cell_type": "code",
      "metadata": {
        "id": "2Q3SND3Y8LEx"
      },
      "source": [
        "max_unet_depth = 5\n",
        "models = [None for i in range(2, max_unet_depth+1)]\n",
        "histories = [None for i in range(2, max_unet_depth+1)]\n",
        "for i in range(max_unet_depth-1):\n",
        "  models[i] = keras.models.load_model(f\"softmax_model{i}\", custom_objects={'soft_dice_loss':soft_dice_loss, 'dice_coefficient':dice_coefficient})\n",
        "  histories[i] = pd.read_csv(f\"softmax_history{i}.csv\")"
      ],
      "execution_count": null,
      "outputs": []
    },
    {
      "cell_type": "markdown",
      "metadata": {
        "id": "1CW-KEsPBLvA"
      },
      "source": [
        "# Model Evaluation"
      ]
    },
    {
      "cell_type": "code",
      "metadata": {
        "colab": {
          "base_uri": "https://localhost:8080/"
        },
        "id": "TdTaThT9MNrQ",
        "outputId": "b8ffb864-1a04-4a2c-ab14-0c2826c8b8d6"
      },
      "source": [
        "num_models = len(models)\n",
        "print(num_models)"
      ],
      "execution_count": 410,
      "outputs": [
        {
          "output_type": "stream",
          "text": [
            "4\n"
          ],
          "name": "stdout"
        }
      ]
    },
    {
      "cell_type": "code",
      "metadata": {
        "id": "WNLlwm2HMoLW"
      },
      "source": [
        "labels = {0: \"background\", \n",
        "\t 1: \"edema\",\n",
        "\t 2: \"non-enhancing tumor\",\n",
        "\t 3: \"enhancing tumour\"}"
      ],
      "execution_count": 411,
      "outputs": []
    },
    {
      "cell_type": "code",
      "metadata": {
        "colab": {
          "base_uri": "https://localhost:8080/"
        },
        "id": "hwNa9N03NOg8",
        "outputId": "45ead5dd-e621-42f5-c18b-2bdfe05534c4"
      },
      "source": [
        "eval_metrics = \"TP\tTN\tFP\tFN\tAccuracy\tPrevalence\tSensitivity\tSpecificity\tPPV\tNPV\tAUC\tF1\tThreshold\".split()\n",
        "print(eval_metrics)"
      ],
      "execution_count": 412,
      "outputs": [
        {
          "output_type": "stream",
          "text": [
            "['TP', 'TN', 'FP', 'FN', 'Accuracy', 'Prevalence', 'Sensitivity', 'Specificity', 'PPV', 'NPV', 'AUC', 'F1', 'Threshold']\n"
          ],
          "name": "stdout"
        }
      ]
    },
    {
      "cell_type": "code",
      "metadata": {
        "id": "4KaeK5BnKL-2"
      },
      "source": [
        "# Functions to get true positives, true negatives, false positives, and false negatives\n",
        "def true_positives(y, pred, th=0.5):\n",
        "  thresholded_preds = pred > th    \n",
        "  TP = np.sum((y == 1) & (thresholded_preds == 1))\n",
        "  return TP\n",
        "\n",
        "def true_negatives(y, pred, th=0.5):\n",
        "  thresholded_preds = pred > th\n",
        "  TN = np.sum((y == 0) & (thresholded_preds == 0))\n",
        "  return TN\n",
        "\n",
        "def false_positives(y, pred, th=0.5):\n",
        "  thresholded_preds = pred > th\n",
        "  FP = np.sum((y == 0) & (thresholded_preds == 1))\n",
        "  return FP\n",
        "\n",
        "def false_negatives(y, pred, th=0.5):\n",
        "  thresholded_preds = pred > th\n",
        "  FN = np.sum((y == 1) & (thresholded_preds == 0))\n",
        "  return FN"
      ],
      "execution_count": 413,
      "outputs": []
    },
    {
      "cell_type": "code",
      "metadata": {
        "id": "d412J7l3LFCI"
      },
      "source": [
        "# Function to get the accuracy\n",
        "def get_accuracy(y, pred, th=0.5, epsilon=1e-100):\n",
        "  TP = true_positives(y, pred, th)\n",
        "  FP = false_positives(y, pred, th)\n",
        "  TN = true_negatives(y, pred, th)\n",
        "  FN = false_negatives(y, pred, th)\n",
        "  accuracy = (TP + TN) / (TP + TN + FP + FN + epsilon)\n",
        "  return accuracy"
      ],
      "execution_count": 414,
      "outputs": []
    },
    {
      "cell_type": "code",
      "metadata": {
        "id": "QGu1pZyST-LQ"
      },
      "source": [
        "# Function to get the prevalence\n",
        "def get_prevalence(y):\n",
        "  prevalence = np.mean(y)\n",
        "  return prevalence"
      ],
      "execution_count": 415,
      "outputs": []
    },
    {
      "cell_type": "code",
      "metadata": {
        "id": "JZhhpmEHUsmY"
      },
      "source": [
        "# Function to get the sensitivity\n",
        "def get_sensitivity(y, pred, th=0.5, epsilon=1e-100):\n",
        "  TP = true_positives(y, pred, th)\n",
        "  FN = false_negatives(y, pred, th)\n",
        "  sensitivity = TP / (TP + FN + epsilon)\n",
        "  return sensitivity"
      ],
      "execution_count": 416,
      "outputs": []
    },
    {
      "cell_type": "code",
      "metadata": {
        "id": "08k-vgfjWCUH"
      },
      "source": [
        "# Function to get the specificity\n",
        "def get_specificity(y, pred, th=0.5, epsilon=1e-100):\n",
        "    TN = true_negatives(y, pred, th)\n",
        "    FP = false_positives(y, pred, th) \n",
        "    specificity = TN / (TN + FP + epsilon)\n",
        "    return specificity"
      ],
      "execution_count": 417,
      "outputs": []
    },
    {
      "cell_type": "code",
      "metadata": {
        "id": "G_aK-CiFXRU2"
      },
      "source": [
        "# Function to get the ppv\n",
        "def get_ppv(y, pred, th=0.5, epsilon=1e-100):\n",
        "  TP = true_positives(y, pred, th)\n",
        "  FP = false_positives(y, pred, th)\n",
        "  PPV = TP / (TP + FP + epsilon)\n",
        "  return PPV"
      ],
      "execution_count": 418,
      "outputs": []
    },
    {
      "cell_type": "code",
      "metadata": {
        "id": "J8W7WvrQX-_d"
      },
      "source": [
        "# Function to get the npv\n",
        "def get_npv(y, pred, th=0.5, epsilon=1e-100):\n",
        "    TN = true_negatives(y, pred, th)\n",
        "    FN = false_negatives(y, pred, th)\n",
        "    NPV = TN / (TN + FN + epsilon)\n",
        "    return NPV"
      ],
      "execution_count": 419,
      "outputs": []
    },
    {
      "cell_type": "code",
      "metadata": {
        "id": "b6sUySQ3h4sM"
      },
      "source": [
        "def get_f1_score(y, pred, th=0.5, epsilon=1e-100):\n",
        "  TP = true_positives(y, pred, th)\n",
        "  FP = false_positives(y, pred, th)\n",
        "  FN = false_negatives(y, pred, th)\n",
        "  f1_score = TP/(TP + 0.5 * (FP + FN) + epsilon)\n",
        "  return f1_score"
      ],
      "execution_count": 420,
      "outputs": []
    },
    {
      "cell_type": "code",
      "metadata": {
        "id": "_ityAuUzcSQb"
      },
      "source": [
        "# Function to plot the roc curve\n",
        "def plotROCCurve(j, y, x, n_labels=n_labels):\n",
        "  model = models[j]\n",
        "  pred = model.predict(x)\n",
        "  fpr = dict()\n",
        "  tpr = dict()\n",
        "  roc_auc = dict()\n",
        "  for i in range(n_labels):\n",
        "    fpr[i], tpr[i], _ = roc_curve(y[:, :, :, i].flatten(), pred[:, :, :, i].flatten())\n",
        "    roc_auc[i] = auc(fpr[i], tpr[i])\n",
        "  for i in range(n_labels):\n",
        "    plt.plot(fpr[i], tpr[i],\n",
        "            lw=2, label=f'ROC curve for class {labels[i]} (area = %0.2f)' % roc_auc[i])\n",
        "  plt.plot([0, 1], [0, 1], color='navy', lw=2, linestyle='--')\n",
        "  plt.xlim([0.0, 1.0])\n",
        "  plt.ylim([0.0, 1.05])\n",
        "  plt.xlabel('False Positive Rate')\n",
        "  plt.ylabel('True Positive Rate')\n",
        "  plt.title(f'Receiver operating characteristic curve for model{j}')\n",
        "  plt.legend(loc=\"lower right\")\n",
        "  plt.show()"
      ],
      "execution_count": 446,
      "outputs": []
    },
    {
      "cell_type": "code",
      "metadata": {
        "id": "Sb3zzFO4Bbhz"
      },
      "source": [
        "# Function to plot history\n",
        "def plotHistory(key, ylabel, xlabel=\"Epochs\"):\n",
        "  lines = []\n",
        "  for i in range(max_unet_depth-1):\n",
        "    line, = plt.plot(histories[i][key], label=f\"model{i}\")\n",
        "    lines.append(line)\n",
        "  plt.legend(handles=lines)\n",
        "  plt.xlabel(xlabel)\n",
        "  plt.ylabel(ylabel)"
      ],
      "execution_count": 422,
      "outputs": []
    },
    {
      "cell_type": "code",
      "metadata": {
        "colab": {
          "base_uri": "https://localhost:8080/",
          "height": 279
        },
        "id": "id1WY0dMHGBm",
        "outputId": "67528f11-1935-4a23-dd96-445c2af9c49d"
      },
      "source": [
        "# Plot history of soft dice loss on training set (lower loss = better)\n",
        "plotHistory(\"loss\", \"Soft Dice Loss on training set\")"
      ],
      "execution_count": 423,
      "outputs": [
        {
          "output_type": "display_data",
          "data": {
            "image/png": "[encoded data removed]",
            "text/plain": [
              "<Figure size 432x288 with 1 Axes>"
            ]
          },
          "metadata": {
            "tags": [],
            "needs_background": "light"
          }
        }
      ]
    },
    {
      "cell_type": "code",
      "metadata": {
        "colab": {
          "base_uri": "https://localhost:8080/",
          "height": 280
        },
        "id": "vOrCqODaHeMS",
        "outputId": "f6aea4da-6ca6-41db-b15f-a5af246d882d"
      },
      "source": [
        "# Plot history of dice coefficient on training set (higher dice coefficient = better)\n",
        "plotHistory(\"dice_coefficient\", \"Dice Coefficient on training set\")"
      ],
      "execution_count": 424,
      "outputs": [
        {
          "output_type": "display_data",
          "data": {
            "image/png": "[encoded data removed]",
            "text/plain": [
              "<Figure size 432x288 with 1 Axes>"
            ]
          },
          "metadata": {
            "tags": [],
            "needs_background": "light"
          }
        }
      ]
    },
    {
      "cell_type": "code",
      "metadata": {
        "colab": {
          "base_uri": "https://localhost:8080/",
          "height": 279
        },
        "id": "l2aQBu7zH14A",
        "outputId": "af8fd3da-453a-47c2-ae21-4f63fd819862"
      },
      "source": [
        "# Plot history of soft dice loss on validation set (lower loss = better)\n",
        "plotHistory(\"val_loss\", \"Soft Dice Loss on validation set\")"
      ],
      "execution_count": 425,
      "outputs": [
        {
          "output_type": "display_data",
          "data": {
            "image/png": "[encoded data removed]",
            "text/plain": [
              "<Figure size 432x288 with 1 Axes>"
            ]
          },
          "metadata": {
            "tags": [],
            "needs_background": "light"
          }
        }
      ]
    },
    {
      "cell_type": "code",
      "metadata": {
        "colab": {
          "base_uri": "https://localhost:8080/",
          "height": 279
        },
        "id": "fXOL-V5mIJVl",
        "outputId": "b8ac9819-48e3-4a0a-bc2c-e9b655c24cdf"
      },
      "source": [
        "# Plot history of dice coefficient on training set (higher dice coefficient = better)\n",
        "plotHistory(\"val_dice_coefficient\", \"Dice Coefficient on validation set\")"
      ],
      "execution_count": 426,
      "outputs": [
        {
          "output_type": "display_data",
          "data": {
            "image/png": "[encoded data removed]",
            "text/plain": [
              "<Figure size 432x288 with 1 Axes>"
            ]
          },
          "metadata": {
            "tags": [],
            "needs_background": "light"
          }
        }
      ]
    },
    {
      "cell_type": "code",
      "metadata": {
        "id": "w3_-JYXzIWcN"
      },
      "source": [
        "evaluations = [{metric:{label:None for label in labels.values()} for metric in eval_metrics} for i in range(num_models)]"
      ],
      "execution_count": 427,
      "outputs": []
    },
    {
      "cell_type": "code",
      "metadata": {
        "id": "ulzBOXzDO8zH"
      },
      "source": [
        "for i in range(num_models):\n",
        "  pred = models[i].predict(val_images)\n",
        "  for j in range(n_labels):\n",
        "    TP = true_positives(val_labels[:, :, :, j], pred[:, :, :, j])\n",
        "    TN = true_negatives(val_labels[:, :, :, j], pred[:, :, :, j])\n",
        "    FP = false_positives(val_labels[:, :, :, j], pred[:, :, :, j])\n",
        "    FN = false_negatives(val_labels[:, :, :, j], pred[:, :, :, j])\n",
        "    accuracy = get_accuracy(val_labels[:, :, :, j], pred[:, :, :, j])\n",
        "    prevalence = get_prevalence(val_labels[:, :, :, j])\n",
        "    sensitivity = get_sensitivity(val_labels[:, :, :, j], pred[:, :, :, j])\n",
        "    specificity = get_specificity(val_labels[:, :, :, j], pred[:, :, :, j])\n",
        "    ppv = get_ppv(val_labels[:, :, :, j], pred[:, :, :, j])\n",
        "    npv = get_npv(val_labels[:, :, :, j], pred[:, :, :, j])\n",
        "    auc_value = roc_auc_score(val_labels[:, :, :, j].flatten(), pred[:, :, :, j].flatten())\n",
        "    f1_score = get_f1_score(val_labels[:, :, :, j], pred[:, :, :, j])\n",
        "\n",
        "    evaluations[i][\"TP\"][labels[j]] = TP\n",
        "    evaluations[i][\"TN\"][labels[j]] = TN\n",
        "    evaluations[i][\"FP\"][labels[j]] = FP\n",
        "    evaluations[i][\"FN\"][labels[j]] = FN\n",
        "    evaluations[i][\"Accuracy\"][labels[j]] = accuracy\n",
        "    evaluations[i][\"Prevalence\"][labels[j]] = prevalence\n",
        "    evaluations[i][\"Sensitivity\"][labels[j]] = sensitivity\n",
        "    evaluations[i][\"Specificity\"][labels[j]] = specificity\n",
        "    evaluations[i][\"PPV\"][labels[j]] = ppv\n",
        "    evaluations[i][\"NPV\"][labels[j]] = npv\n",
        "    evaluations[i][\"AUC\"][labels[j]] = auc_value\n",
        "    evaluations[i][\"F1\"][labels[j]] = f1_score\n",
        "    evaluations[i][\"Threshold\"][labels[j]] = 0.5"
      ],
      "execution_count": 432,
      "outputs": []
    },
    {
      "cell_type": "code",
      "metadata": {
        "id": "J470ftjzjBAV"
      },
      "source": [
        "dfs = [pd.DataFrame(data=evaluations[i]) for i in range(num_models)]"
      ],
      "execution_count": 429,
      "outputs": []
    },
    {
      "cell_type": "code",
      "metadata": {
        "colab": {
          "base_uri": "https://localhost:8080/",
          "height": 933
        },
        "id": "GcfM2okKk4-H",
        "outputId": "dd402133-c7da-4cd5-c7a1-a830bfd993b5"
      },
      "source": [
        "for i in range(num_models):\n",
        "  print(f\"model{i}:\")\n",
        "  display(dfs[i])"
      ],
      "execution_count": 430,
      "outputs": [
        {
          "output_type": "stream",
          "text": [
            "model0:\n"
          ],
          "name": "stdout"
        },
        {
          "output_type": "display_data",
          "data": {
            "text/html": [
              "<div>\n",
              "<style scoped>\n",
              "    .dataframe tbody tr th:only-of-type {\n",
              "        vertical-align: middle;\n",
              "    }\n",
              "\n",
              "    .dataframe tbody tr th {\n",
              "        vertical-align: top;\n",
              "    }\n",
              "\n",
              "    .dataframe thead th {\n",
              "        text-align: right;\n",
              "    }\n",
              "</style>\n",
              "<table border=\"1\" class=\"dataframe\">\n",
              "  <thead>\n",
              "    <tr style=\"text-align: right;\">\n",
              "      <th></th>\n",
              "      <th>TP</th>\n",
              "      <th>TN</th>\n",
              "      <th>FP</th>\n",
              "      <th>FN</th>\n",
              "      <th>Accuracy</th>\n",
              "      <th>Prevalence</th>\n",
              "      <th>Sensitivity</th>\n",
              "      <th>Specificity</th>\n",
              "      <th>PPV</th>\n",
              "      <th>NPV</th>\n",
              "      <th>AUC</th>\n",
              "      <th>F1</th>\n",
              "      <th>Threshold</th>\n",
              "    </tr>\n",
              "  </thead>\n",
              "  <tbody>\n",
              "    <tr>\n",
              "      <th>background</th>\n",
              "      <td>6595520</td>\n",
              "      <td>0</td>\n",
              "      <td>604480</td>\n",
              "      <td>0</td>\n",
              "      <td>0.916044</td>\n",
              "      <td>0.916044</td>\n",
              "      <td>1.0</td>\n",
              "      <td>0.0</td>\n",
              "      <td>0.916044</td>\n",
              "      <td>0.000000</td>\n",
              "      <td>0.5</td>\n",
              "      <td>0.956183</td>\n",
              "      <td>0.5</td>\n",
              "    </tr>\n",
              "    <tr>\n",
              "      <th>edema</th>\n",
              "      <td>0</td>\n",
              "      <td>6872820</td>\n",
              "      <td>0</td>\n",
              "      <td>327180</td>\n",
              "      <td>0.954558</td>\n",
              "      <td>0.045442</td>\n",
              "      <td>0.0</td>\n",
              "      <td>1.0</td>\n",
              "      <td>0.000000</td>\n",
              "      <td>0.954558</td>\n",
              "      <td>0.5</td>\n",
              "      <td>0.000000</td>\n",
              "      <td>0.5</td>\n",
              "    </tr>\n",
              "    <tr>\n",
              "      <th>non-enhancing tumor</th>\n",
              "      <td>0</td>\n",
              "      <td>7068847</td>\n",
              "      <td>0</td>\n",
              "      <td>131153</td>\n",
              "      <td>0.981784</td>\n",
              "      <td>0.018216</td>\n",
              "      <td>0.0</td>\n",
              "      <td>1.0</td>\n",
              "      <td>0.000000</td>\n",
              "      <td>0.981784</td>\n",
              "      <td>0.5</td>\n",
              "      <td>0.000000</td>\n",
              "      <td>0.5</td>\n",
              "    </tr>\n",
              "    <tr>\n",
              "      <th>enhancing tumour</th>\n",
              "      <td>0</td>\n",
              "      <td>7053853</td>\n",
              "      <td>0</td>\n",
              "      <td>146147</td>\n",
              "      <td>0.979702</td>\n",
              "      <td>0.020298</td>\n",
              "      <td>0.0</td>\n",
              "      <td>1.0</td>\n",
              "      <td>0.000000</td>\n",
              "      <td>0.979702</td>\n",
              "      <td>0.5</td>\n",
              "      <td>0.000000</td>\n",
              "      <td>0.5</td>\n",
              "    </tr>\n",
              "  </tbody>\n",
              "</table>\n",
              "</div>"
            ],
            "text/plain": [
              "                          TP       TN      FP  ...  AUC        F1  Threshold\n",
              "background           6595520        0  604480  ...  0.5  0.956183        0.5\n",
              "edema                      0  6872820       0  ...  0.5  0.000000        0.5\n",
              "non-enhancing tumor        0  7068847       0  ...  0.5  0.000000        0.5\n",
              "enhancing tumour           0  7053853       0  ...  0.5  0.000000        0.5\n",
              "\n",
              "[4 rows x 13 columns]"
            ]
          },
          "metadata": {
            "tags": []
          }
        },
        {
          "output_type": "stream",
          "text": [
            "model1:\n"
          ],
          "name": "stdout"
        },
        {
          "output_type": "display_data",
          "data": {
            "text/html": [
              "<div>\n",
              "<style scoped>\n",
              "    .dataframe tbody tr th:only-of-type {\n",
              "        vertical-align: middle;\n",
              "    }\n",
              "\n",
              "    .dataframe tbody tr th {\n",
              "        vertical-align: top;\n",
              "    }\n",
              "\n",
              "    .dataframe thead th {\n",
              "        text-align: right;\n",
              "    }\n",
              "</style>\n",
              "<table border=\"1\" class=\"dataframe\">\n",
              "  <thead>\n",
              "    <tr style=\"text-align: right;\">\n",
              "      <th></th>\n",
              "      <th>TP</th>\n",
              "      <th>TN</th>\n",
              "      <th>FP</th>\n",
              "      <th>FN</th>\n",
              "      <th>Accuracy</th>\n",
              "      <th>Prevalence</th>\n",
              "      <th>Sensitivity</th>\n",
              "      <th>Specificity</th>\n",
              "      <th>PPV</th>\n",
              "      <th>NPV</th>\n",
              "      <th>AUC</th>\n",
              "      <th>F1</th>\n",
              "      <th>Threshold</th>\n",
              "    </tr>\n",
              "  </thead>\n",
              "  <tbody>\n",
              "    <tr>\n",
              "      <th>background</th>\n",
              "      <td>6567554</td>\n",
              "      <td>370077</td>\n",
              "      <td>234403</td>\n",
              "      <td>27966</td>\n",
              "      <td>0.963560</td>\n",
              "      <td>0.916044</td>\n",
              "      <td>0.995760</td>\n",
              "      <td>0.612224</td>\n",
              "      <td>0.965539</td>\n",
              "      <td>0.929741</td>\n",
              "      <td>0.986596</td>\n",
              "      <td>0.980417</td>\n",
              "      <td>0.5</td>\n",
              "    </tr>\n",
              "    <tr>\n",
              "      <th>edema</th>\n",
              "      <td>249228</td>\n",
              "      <td>6721143</td>\n",
              "      <td>151677</td>\n",
              "      <td>77952</td>\n",
              "      <td>0.968107</td>\n",
              "      <td>0.045442</td>\n",
              "      <td>0.761746</td>\n",
              "      <td>0.977931</td>\n",
              "      <td>0.621663</td>\n",
              "      <td>0.988535</td>\n",
              "      <td>0.982626</td>\n",
              "      <td>0.684612</td>\n",
              "      <td>0.5</td>\n",
              "    </tr>\n",
              "    <tr>\n",
              "      <th>non-enhancing tumor</th>\n",
              "      <td>102316</td>\n",
              "      <td>6758470</td>\n",
              "      <td>310377</td>\n",
              "      <td>28837</td>\n",
              "      <td>0.952887</td>\n",
              "      <td>0.018216</td>\n",
              "      <td>0.780127</td>\n",
              "      <td>0.956092</td>\n",
              "      <td>0.247923</td>\n",
              "      <td>0.995751</td>\n",
              "      <td>0.946678</td>\n",
              "      <td>0.376268</td>\n",
              "      <td>0.5</td>\n",
              "    </tr>\n",
              "    <tr>\n",
              "      <th>enhancing tumour</th>\n",
              "      <td>117812</td>\n",
              "      <td>6938531</td>\n",
              "      <td>115322</td>\n",
              "      <td>28335</td>\n",
              "      <td>0.980048</td>\n",
              "      <td>0.020298</td>\n",
              "      <td>0.806120</td>\n",
              "      <td>0.983651</td>\n",
              "      <td>0.505340</td>\n",
              "      <td>0.995933</td>\n",
              "      <td>0.990117</td>\n",
              "      <td>0.621239</td>\n",
              "      <td>0.5</td>\n",
              "    </tr>\n",
              "  </tbody>\n",
              "</table>\n",
              "</div>"
            ],
            "text/plain": [
              "                          TP       TN      FP  ...       AUC        F1  Threshold\n",
              "background           6567554   370077  234403  ...  0.986596  0.980417        0.5\n",
              "edema                 249228  6721143  151677  ...  0.982626  0.684612        0.5\n",
              "non-enhancing tumor   102316  6758470  310377  ...  0.946678  0.376268        0.5\n",
              "enhancing tumour      117812  6938531  115322  ...  0.990117  0.621239        0.5\n",
              "\n",
              "[4 rows x 13 columns]"
            ]
          },
          "metadata": {
            "tags": []
          }
        },
        {
          "output_type": "stream",
          "text": [
            "model2:\n"
          ],
          "name": "stdout"
        },
        {
          "output_type": "display_data",
          "data": {
            "text/html": [
              "<div>\n",
              "<style scoped>\n",
              "    .dataframe tbody tr th:only-of-type {\n",
              "        vertical-align: middle;\n",
              "    }\n",
              "\n",
              "    .dataframe tbody tr th {\n",
              "        vertical-align: top;\n",
              "    }\n",
              "\n",
              "    .dataframe thead th {\n",
              "        text-align: right;\n",
              "    }\n",
              "</style>\n",
              "<table border=\"1\" class=\"dataframe\">\n",
              "  <thead>\n",
              "    <tr style=\"text-align: right;\">\n",
              "      <th></th>\n",
              "      <th>TP</th>\n",
              "      <th>TN</th>\n",
              "      <th>FP</th>\n",
              "      <th>FN</th>\n",
              "      <th>Accuracy</th>\n",
              "      <th>Prevalence</th>\n",
              "      <th>Sensitivity</th>\n",
              "      <th>Specificity</th>\n",
              "      <th>PPV</th>\n",
              "      <th>NPV</th>\n",
              "      <th>AUC</th>\n",
              "      <th>F1</th>\n",
              "      <th>Threshold</th>\n",
              "    </tr>\n",
              "  </thead>\n",
              "  <tbody>\n",
              "    <tr>\n",
              "      <th>background</th>\n",
              "      <td>6580565</td>\n",
              "      <td>350206</td>\n",
              "      <td>254274</td>\n",
              "      <td>14955</td>\n",
              "      <td>0.962607</td>\n",
              "      <td>0.916044</td>\n",
              "      <td>0.997733</td>\n",
              "      <td>0.579351</td>\n",
              "      <td>0.962797</td>\n",
              "      <td>0.959045</td>\n",
              "      <td>0.996482</td>\n",
              "      <td>0.979954</td>\n",
              "      <td>0.5</td>\n",
              "    </tr>\n",
              "    <tr>\n",
              "      <th>edema</th>\n",
              "      <td>116345</td>\n",
              "      <td>6601049</td>\n",
              "      <td>271771</td>\n",
              "      <td>210835</td>\n",
              "      <td>0.932971</td>\n",
              "      <td>0.045442</td>\n",
              "      <td>0.355599</td>\n",
              "      <td>0.960457</td>\n",
              "      <td>0.299769</td>\n",
              "      <td>0.969049</td>\n",
              "      <td>0.962360</td>\n",
              "      <td>0.325306</td>\n",
              "      <td>0.5</td>\n",
              "    </tr>\n",
              "    <tr>\n",
              "      <th>non-enhancing tumor</th>\n",
              "      <td>107025</td>\n",
              "      <td>6806256</td>\n",
              "      <td>262591</td>\n",
              "      <td>24128</td>\n",
              "      <td>0.960178</td>\n",
              "      <td>0.018216</td>\n",
              "      <td>0.816032</td>\n",
              "      <td>0.962852</td>\n",
              "      <td>0.289557</td>\n",
              "      <td>0.996468</td>\n",
              "      <td>0.975743</td>\n",
              "      <td>0.427443</td>\n",
              "      <td>0.5</td>\n",
              "    </tr>\n",
              "    <tr>\n",
              "      <th>enhancing tumour</th>\n",
              "      <td>144682</td>\n",
              "      <td>6827865</td>\n",
              "      <td>225988</td>\n",
              "      <td>1465</td>\n",
              "      <td>0.968409</td>\n",
              "      <td>0.020298</td>\n",
              "      <td>0.989976</td>\n",
              "      <td>0.967962</td>\n",
              "      <td>0.390326</td>\n",
              "      <td>0.999785</td>\n",
              "      <td>0.984083</td>\n",
              "      <td>0.559896</td>\n",
              "      <td>0.5</td>\n",
              "    </tr>\n",
              "  </tbody>\n",
              "</table>\n",
              "</div>"
            ],
            "text/plain": [
              "                          TP       TN      FP  ...       AUC        F1  Threshold\n",
              "background           6580565   350206  254274  ...  0.996482  0.979954        0.5\n",
              "edema                 116345  6601049  271771  ...  0.962360  0.325306        0.5\n",
              "non-enhancing tumor   107025  6806256  262591  ...  0.975743  0.427443        0.5\n",
              "enhancing tumour      144682  6827865  225988  ...  0.984083  0.559896        0.5\n",
              "\n",
              "[4 rows x 13 columns]"
            ]
          },
          "metadata": {
            "tags": []
          }
        },
        {
          "output_type": "stream",
          "text": [
            "model3:\n"
          ],
          "name": "stdout"
        },
        {
          "output_type": "display_data",
          "data": {
            "text/html": [
              "<div>\n",
              "<style scoped>\n",
              "    .dataframe tbody tr th:only-of-type {\n",
              "        vertical-align: middle;\n",
              "    }\n",
              "\n",
              "    .dataframe tbody tr th {\n",
              "        vertical-align: top;\n",
              "    }\n",
              "\n",
              "    .dataframe thead th {\n",
              "        text-align: right;\n",
              "    }\n",
              "</style>\n",
              "<table border=\"1\" class=\"dataframe\">\n",
              "  <thead>\n",
              "    <tr style=\"text-align: right;\">\n",
              "      <th></th>\n",
              "      <th>TP</th>\n",
              "      <th>TN</th>\n",
              "      <th>FP</th>\n",
              "      <th>FN</th>\n",
              "      <th>Accuracy</th>\n",
              "      <th>Prevalence</th>\n",
              "      <th>Sensitivity</th>\n",
              "      <th>Specificity</th>\n",
              "      <th>PPV</th>\n",
              "      <th>NPV</th>\n",
              "      <th>AUC</th>\n",
              "      <th>F1</th>\n",
              "      <th>Threshold</th>\n",
              "    </tr>\n",
              "  </thead>\n",
              "  <tbody>\n",
              "    <tr>\n",
              "      <th>background</th>\n",
              "      <td>6595520</td>\n",
              "      <td>0</td>\n",
              "      <td>604480</td>\n",
              "      <td>0</td>\n",
              "      <td>0.916044</td>\n",
              "      <td>0.916044</td>\n",
              "      <td>1.0</td>\n",
              "      <td>0.0</td>\n",
              "      <td>0.916044</td>\n",
              "      <td>0.000000</td>\n",
              "      <td>0.499919</td>\n",
              "      <td>0.956183</td>\n",
              "      <td>0.5</td>\n",
              "    </tr>\n",
              "    <tr>\n",
              "      <th>edema</th>\n",
              "      <td>327180</td>\n",
              "      <td>0</td>\n",
              "      <td>6872820</td>\n",
              "      <td>0</td>\n",
              "      <td>0.045442</td>\n",
              "      <td>0.045442</td>\n",
              "      <td>1.0</td>\n",
              "      <td>0.0</td>\n",
              "      <td>0.045442</td>\n",
              "      <td>0.000000</td>\n",
              "      <td>0.500018</td>\n",
              "      <td>0.086933</td>\n",
              "      <td>0.5</td>\n",
              "    </tr>\n",
              "    <tr>\n",
              "      <th>non-enhancing tumor</th>\n",
              "      <td>131153</td>\n",
              "      <td>0</td>\n",
              "      <td>7068847</td>\n",
              "      <td>0</td>\n",
              "      <td>0.018216</td>\n",
              "      <td>0.018216</td>\n",
              "      <td>1.0</td>\n",
              "      <td>0.0</td>\n",
              "      <td>0.018216</td>\n",
              "      <td>0.000000</td>\n",
              "      <td>0.500000</td>\n",
              "      <td>0.035780</td>\n",
              "      <td>0.5</td>\n",
              "    </tr>\n",
              "    <tr>\n",
              "      <th>enhancing tumour</th>\n",
              "      <td>0</td>\n",
              "      <td>7053853</td>\n",
              "      <td>0</td>\n",
              "      <td>146147</td>\n",
              "      <td>0.979702</td>\n",
              "      <td>0.020298</td>\n",
              "      <td>0.0</td>\n",
              "      <td>1.0</td>\n",
              "      <td>0.000000</td>\n",
              "      <td>0.979702</td>\n",
              "      <td>0.499965</td>\n",
              "      <td>0.000000</td>\n",
              "      <td>0.5</td>\n",
              "    </tr>\n",
              "  </tbody>\n",
              "</table>\n",
              "</div>"
            ],
            "text/plain": [
              "                          TP       TN       FP  ...       AUC        F1  Threshold\n",
              "background           6595520        0   604480  ...  0.499919  0.956183        0.5\n",
              "edema                 327180        0  6872820  ...  0.500018  0.086933        0.5\n",
              "non-enhancing tumor   131153        0  7068847  ...  0.500000  0.035780        0.5\n",
              "enhancing tumour           0  7053853        0  ...  0.499965  0.000000        0.5\n",
              "\n",
              "[4 rows x 13 columns]"
            ]
          },
          "metadata": {
            "tags": []
          }
        }
      ]
    },
    {
      "cell_type": "code",
      "metadata": {
        "colab": {
          "base_uri": "https://localhost:8080/",
          "height": 1000
        },
        "id": "fNH00c-ilRvs",
        "outputId": "05d3bbcb-9f27-4b92-c847-336286adf9e0"
      },
      "source": [
        "# Plot ROC curves for each model\n",
        "for i in range(num_models):\n",
        "  plotROCCurve(i, val_labels, val_images, n_labels=n_labels)"
      ],
      "execution_count": 447,
      "outputs": [
        {
          "output_type": "display_data",
          "data": {
            "image/png": "[encoded data removed]",
            "text/plain": [
              "<Figure size 432x288 with 1 Axes>"
            ]
          },
          "metadata": {
            "tags": [],
            "needs_background": "light"
          }
        },
        {
          "output_type": "display_data",
          "data": {
            "image/png": "[encoded data removed]",
            "text/plain": [
              "<Figure size 432x288 with 1 Axes>"
            ]
          },
          "metadata": {
            "tags": [],
            "needs_background": "light"
          }
        },
        {
          "output_type": "display_data",
          "data": {
            "image/png": "[encoded data removed]",
            "text/plain": [
              "<Figure size 432x288 with 1 Axes>"
            ]
          },
          "metadata": {
            "tags": [],
            "needs_background": "light"
          }
        },
        {
          "output_type": "display_data",
          "data": {
            "image/png": "[encoded data removed]",
            "text/plain": [
              "<Figure size 432x288 with 1 Axes>"
            ]
          },
          "metadata": {
            "tags": [],
            "needs_background": "light"
          }
        }
      ]
    },
    {
      "cell_type": "markdown",
      "metadata": {
        "id": "WnX-DPgLnX8q"
      },
      "source": [
        "# Segment MRI Scan"
      ]
    },
    {
      "cell_type": "code",
      "metadata": {
        "id": "UewJHXLond84"
      },
      "source": [
        "def visualize(X, y):\n",
        "    fig, ax = plt.subplots(1, 2, figsize=[10, 5], squeeze=False)\n",
        "\n",
        "    ax[0][0].imshow(X[:, :, 0], cmap='Greys_r')\n",
        "    ax[0][0].set_yticks([])\n",
        "    ax[0][0].set_xticks([])\n",
        "    ax[0][1].imshow(y[:, :, 0], cmap='Greys_r')\n",
        "    ax[0][1].set_xticks([])\n",
        "    ax[0][1].set_yticks([])\n",
        "\n",
        "    fig.subplots_adjust(wspace=0, hspace=0)"
      ],
      "execution_count": 449,
      "outputs": []
    },
    {
      "cell_type": "code",
      "metadata": {
        "id": "mUWtDcl1o2e1"
      },
      "source": [
        "def predict(model, x):\n",
        "  if len(x.shape) > 3:\n",
        "    return model.predict(x)\n",
        "  else:\n",
        "    return model.predict(np.array([x]))"
      ],
      "execution_count": 436,
      "outputs": []
    },
    {
      "cell_type": "code",
      "metadata": {
        "id": "OegEpRuCp4Rp"
      },
      "source": [
        "def predict_and_visualize(model, X):\n",
        "  visualize(X, predict(model, X)[0, :, :, :])"
      ],
      "execution_count": 437,
      "outputs": []
    },
    {
      "cell_type": "code",
      "metadata": {
        "colab": {
          "base_uri": "https://localhost:8080/",
          "height": 646
        },
        "id": "fNLuoMQ_qaUN",
        "outputId": "dcce571c-ee0f-49ce-e3fa-a82a59022ff8"
      },
      "source": [
        "image_idx = np.random.randint(low=0, high=val_images.shape[0])\n",
        "print(f\"Randomly chosen image_idx: {image_idx}\")\n",
        "print(\"Predicted segmentation:\")\n",
        "predict_and_visualize(models[2], val_images[image_idx])\n",
        "plt.show()\n",
        "print(\"Actual segmentation:\")\n",
        "visualize(val_images[image_idx], val_labels[image_idx])"
      ],
      "execution_count": 453,
      "outputs": [
        {
          "output_type": "stream",
          "text": [
            "Randomly chosen image_idx: 4\n",
            "Predicted segmentation:\n"
          ],
          "name": "stdout"
        },
        {
          "output_type": "display_data",
          "data": {
            "image/png": "[encoded data removed]",
            "text/plain": [
              "<Figure size 720x360 with 2 Axes>"
            ]
          },
          "metadata": {
            "tags": []
          }
        },
        {
          "output_type": "stream",
          "text": [
            "Actual segmentation:\n"
          ],
          "name": "stdout"
        },
        {
          "output_type": "display_data",
          "data": {
            "image/png": "[encoded data removed]",
            "text/plain": [
              "<Figure size 720x360 with 2 Axes>"
            ]
          },
          "metadata": {
            "tags": []
          }
        }
      ]
    }
  ]
}